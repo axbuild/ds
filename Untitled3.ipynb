{
  "nbformat": 4,
  "nbformat_minor": 0,
  "metadata": {
    "colab": {
      "name": "Untitled3.ipynb",
      "provenance": [],
      "authorship_tag": "ABX9TyNDQXYxQsUtkb/5O2DTXylL",
      "include_colab_link": true
    },
    "kernelspec": {
      "name": "python3",
      "display_name": "Python 3"
    }
  },
  "cells": [
    {
      "cell_type": "markdown",
      "metadata": {
        "id": "view-in-github",
        "colab_type": "text"
      },
      "source": [
        "<a href=\"https://colab.research.google.com/github/axbuild/ds/blob/master/Untitled3.ipynb\" target=\"_parent\"><img src=\"https://colab.research.google.com/assets/colab-badge.svg\" alt=\"Open In Colab\"/></a>"
      ]
    },
    {
      "cell_type": "code",
      "metadata": {
        "id": "hU3kzxYIFhCX",
        "outputId": "74977d2d-d6c2-46a6-ad84-59d6b5c06ac1",
        "colab": {
          "base_uri": "https://localhost:8080/",
          "height": 50
        }
      },
      "source": [
        "def read_data():\n",
        "    data = open('war_peace_processed.txt', 'rt').read()\n",
        "    return data.split('\\n')\n",
        "\n",
        "data = read_data()\n",
        "words = {}\n",
        "for w in data:\n",
        "    tw = words.get(w,0)\n",
        "    words[w]=tw+1\n",
        " \n",
        "#print(words[target_word])\n",
        "\n",
        "print(len(data))\n",
        "print(len(words))\n",
        "\n"
      ],
      "execution_count": null,
      "outputs": [
        {
          "output_type": "stream",
          "text": [
            "300080\n",
            "38212\n"
          ],
          "name": "stdout"
        }
      ]
    },
    {
      "cell_type": "code",
      "metadata": {
        "id": "5Qq4x4mTZ0EY"
      },
      "source": [
        ""
      ],
      "execution_count": null,
      "outputs": []
    },
    {
      "cell_type": "code",
      "metadata": {
        "id": "7w0ybBCGZ03_"
      },
      "source": [
        ""
      ],
      "execution_count": null,
      "outputs": []
    },
    {
      "cell_type": "code",
      "metadata": {
        "id": "hHhjRLVhI4SQ",
        "outputId": "effe453f-5199-486b-d5a5-4302fe662b7a",
        "colab": {
          "base_uri": "https://localhost:8080/",
          "height": 50
        }
      },
      "source": [
        "def read_data():\n",
        "    data = open('war_peace_processed.txt', 'rt').read()\n",
        "    return data.split('\\n')\n",
        "\n",
        "data = read_data()\n",
        "chapters = {}\n",
        "number_of_documents=0\n",
        "number_of_documents_with_target_word=0\n",
        "tmp_lst = {}\n",
        "target_word = 'человек'\n",
        "chapter=0\n",
        "\n",
        "\n",
        "for i,w in enumerate(data):\n",
        "  tmp_lst[w] = True if w==target_word else False\n",
        "  if w=='[new chapter]':\n",
        "    chapters[chapter] = tmp_lst\n",
        "    chapter+=1\n",
        "    if True in tmp_lst.values():\n",
        "      number_of_documents_with_target_word+=1\n",
        "    tmp_lst.clear()\n",
        "\n",
        "if len(tmp_lst)>0:\n",
        "  if True in tmp_lst.values():\n",
        "     number_of_documents_with_target_word+=1\n",
        "  chapters[chapter] = tmp_lst\n",
        "\n",
        "number_of_documents=len(chapters)\n",
        "df = number_of_documents_with_target_word/number_of_documents\n",
        "print(df)\n",
        "\n",
        "\n",
        "targets_in_chapter = list(chapters[170].values())\n",
        "tf = targets_in_chapter.count(True)/len(targets_in_chapter)\n",
        "print(tf)\n"
      ],
      "execution_count": null,
      "outputs": [
        {
          "output_type": "stream",
          "text": [
            "0.672514619883041\n",
            "0.0029850746268656717\n"
          ],
          "name": "stdout"
        }
      ]
    },
    {
      "cell_type": "code",
      "metadata": {
        "id": "qz8DTvUdvxne",
        "outputId": "b6050417-26b2-42d5-9c12-a757010a8aca",
        "colab": {
          "base_uri": "https://localhost:8080/",
          "height": 67
        }
      },
      "source": [
        "def read_data():\n",
        "    data = open('war_peace_processed.txt', 'rt').read()\n",
        "    return data.split('\\n')\n",
        "\n",
        "data = read_data()\n",
        "chapters = {}\n",
        "number_of_documents=0\n",
        "number_of_documents_with_target_word=0\n",
        "tmp_lst = {}\n",
        "chapter=0\n",
        "\n",
        "target_word = 'и'\n",
        "target_chapter = 60\n",
        "\n",
        "for i,w in enumerate(data):\n",
        "  tmp_lst[w] = True if w==target_word else False\n",
        "  if w=='[new chapter]':\n",
        "    chapters[chapter] = tmp_lst\n",
        "    #print(len(chapters), len(tmp_lst))\n",
        "    chapter+=1\n",
        "    if True in tmp_lst.values():\n",
        "      number_of_documents_with_target_word+=1\n",
        "      tmp_lst.clear()\n",
        "\n",
        "if len(tmp_lst)>0:\n",
        "  if True in tmp_lst.values():\n",
        "     number_of_documents_with_target_word+=1\n",
        "     chapters[chapter] = tmp_lst\n",
        "     chapter+=1\n",
        "\n",
        "targets_in_chapter = list(chapters.get(target_chapter).values())\n",
        "tf = targets_in_chapter.count(True)/len(targets_in_chapter)\n",
        "\n",
        "\n",
        "print(targets_in_chapter.count(True))\n",
        "print(len(targets_in_chapter))\n",
        "print(tf)"
      ],
      "execution_count": null,
      "outputs": [
        {
          "output_type": "stream",
          "text": [
            "1\n",
            "335\n",
            "0.0029850746268656717\n"
          ],
          "name": "stdout"
        }
      ]
    },
    {
      "cell_type": "code",
      "metadata": {
        "id": "--eLwZfF6eOs",
        "outputId": "ae8e3016-be12-46bc-b949-9d2ce865b515",
        "colab": {
          "base_uri": "https://localhost:8080/",
          "height": 34
        }
      },
      "source": [
        "var = {'a':'b','c':'d'}\n",
        "var.clear()\n",
        "print(var)"
      ],
      "execution_count": null,
      "outputs": [
        {
          "output_type": "stream",
          "text": [
            "{}\n"
          ],
          "name": "stdout"
        }
      ]
    },
    {
      "cell_type": "code",
      "metadata": {
        "id": "vMwNGCztZ1mb"
      },
      "source": [
        "def read_data():\n",
        "    data = open('war_peace_processed.txt', 'rt').read()\n",
        "    return data.split('\\n')\n",
        "\n",
        "data = read_data()\n",
        "\n",
        "#all_word=len(data)\n",
        "#count_full_word=0\n",
        "#for word in data:\n",
        "#  targe_chapter=word.split('\\n')\n",
        "#  if target_word in target_chapter:\n",
        "#    count_full_word+=1\n",
        "#tf=count_full_word/all_word\n",
        "#print(tf)\n",
        "\n",
        "n=0\n",
        "w=0\n",
        "z=0\n",
        "for i in data:\n",
        "  if i=='[new chapter]':\n",
        "    n+=1\n",
        "  if n==target_chapter:\n",
        "    w+=1\n",
        "    if i==target_word:\n",
        "      z+=1\n",
        "\n",
        "print(z/w)"
      ],
      "execution_count": null,
      "outputs": []
    },
    {
      "cell_type": "code",
      "metadata": {
        "id": "zqfAzucyhcze"
      },
      "source": [
        "def read_data():\n",
        "    data = open('data/war_peace_processed.txt', 'rt').read()\n",
        "    return data.split('\\n')\n",
        "\n",
        "data = read_data()\n",
        "# напишите ваш код ниже\n",
        "chapters = {}\n",
        "number_of_documents=0\n",
        "number_of_documents_with_target_word=0\n",
        "tmp_lst = {}\n",
        "chapter=0\n",
        "\n",
        "for i,w in enumerate(data):\n",
        "  tmp_lst[w] = True if w==target_word else False\n",
        "  if w=='[new chapter]':\n",
        "    chapters[chapter] = tmp_lst\n",
        "    chapter+=1\n",
        "    if True in tmp_lst.values():\n",
        "      number_of_documents_with_target_word+=1\n",
        "    tmp_lst.clear()\n",
        "\n",
        "if len(tmp_lst)>0:\n",
        "  if True in tmp_lst.values():\n",
        "     number_of_documents_with_target_word+=1\n",
        "  chapters[chapter] = tmp_lst\n",
        "\n",
        "targets_in_chapter = list(chapters[target_chapter].values())\n",
        "tf = targets_in_chapter.count(True)/len(targets_in_chapter)\n",
        "print(tf)"
      ],
      "execution_count": null,
      "outputs": []
    },
    {
      "cell_type": "code",
      "metadata": {
        "id": "RNE4dPUnjAFB"
      },
      "source": [
        "def read_data():\n",
        "    data = open('war_peace_processed.txt', 'rt').read()\n",
        "    return data.split('\\n')\n",
        "\n",
        "data = read_data()\n",
        "data=data+['[new chapter]']\n",
        "n=0\n",
        "s=0\n",
        "w=0\n",
        "for i in data:\n",
        "  if i=='[new chapter]':\n",
        "    n+=1\n",
        "    continue\n",
        "  if n==target_chapter:\n",
        "    s+=1\n",
        "    if i==target_word:\n",
        "      w+=1\n",
        "\n",
        "print(s)"
      ],
      "execution_count": null,
      "outputs": []
    },
    {
      "cell_type": "code",
      "metadata": {
        "id": "0vuROensk8gU",
        "outputId": "d6e60d11-8430-46a1-98c3-e28df1252b81",
        "colab": {
          "base_uri": "https://localhost:8080/",
          "height": 212
        }
      },
      "source": [
        "df_dict, chapter_count={},0\n",
        "chapter={}\n",
        "for word in data+['[new chapter]']:\n",
        "  if word=='[new chapter]':\n",
        "    chapter={}\n",
        "    chapter_count+=1\n",
        "    continue\n",
        "  if word not in chapter:\n",
        "    chapter[word]=1\n",
        "    df_dict[word]=df_dict.get(word,0)+1\n",
        "  else:\n",
        "    chapter[word]+=1\n",
        "\n",
        "df=df_dict[target_word]/chapter_count\n",
        "print(df)"
      ],
      "execution_count": 8,
      "outputs": [
        {
          "output_type": "error",
          "ename": "NameError",
          "evalue": "ignored",
          "traceback": [
            "\u001b[0;31m---------------------------------------------------------------------------\u001b[0m",
            "\u001b[0;31mNameError\u001b[0m                                 Traceback (most recent call last)",
            "\u001b[0;32m<ipython-input-8-9b6a2d51fe1d>\u001b[0m in \u001b[0;36m<module>\u001b[0;34m()\u001b[0m\n\u001b[1;32m     12\u001b[0m     \u001b[0mchapter\u001b[0m\u001b[0;34m[\u001b[0m\u001b[0mword\u001b[0m\u001b[0;34m]\u001b[0m\u001b[0;34m+=\u001b[0m\u001b[0;36m1\u001b[0m\u001b[0;34m\u001b[0m\u001b[0;34m\u001b[0m\u001b[0m\n\u001b[1;32m     13\u001b[0m \u001b[0;34m\u001b[0m\u001b[0m\n\u001b[0;32m---> 14\u001b[0;31m \u001b[0mdf\u001b[0m\u001b[0;34m=\u001b[0m\u001b[0mdf_dict\u001b[0m\u001b[0;34m[\u001b[0m\u001b[0mtarget_word\u001b[0m\u001b[0;34m]\u001b[0m\u001b[0;34m/\u001b[0m\u001b[0mchapter_count\u001b[0m\u001b[0;34m\u001b[0m\u001b[0;34m\u001b[0m\u001b[0m\n\u001b[0m\u001b[1;32m     15\u001b[0m \u001b[0mprint\u001b[0m\u001b[0;34m(\u001b[0m\u001b[0mdf\u001b[0m\u001b[0;34m)\u001b[0m\u001b[0;34m\u001b[0m\u001b[0;34m\u001b[0m\u001b[0m\n",
            "\u001b[0;31mNameError\u001b[0m: name 'target_word' is not defined"
          ]
        }
      ]
    }
  ]
}