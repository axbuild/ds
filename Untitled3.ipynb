{
  "nbformat": 4,
  "nbformat_minor": 0,
  "metadata": {
    "colab": {
      "name": "Untitled3.ipynb",
      "provenance": [],
      "authorship_tag": "ABX9TyMvkB5pnXx8vXCapEFiP4e1",
      "include_colab_link": true
    },
    "kernelspec": {
      "name": "python3",
      "display_name": "Python 3"
    }
  },
  "cells": [
    {
      "cell_type": "markdown",
      "metadata": {
        "id": "view-in-github",
        "colab_type": "text"
      },
      "source": [
        "<a href=\"https://colab.research.google.com/github/axbuild/ds/blob/master/Untitled3.ipynb\" target=\"_parent\"><img src=\"https://colab.research.google.com/assets/colab-badge.svg\" alt=\"Open In Colab\"/></a>"
      ]
    },
    {
      "cell_type": "code",
      "metadata": {
        "id": "hU3kzxYIFhCX",
        "colab_type": "code",
        "colab": {
          "base_uri": "https://localhost:8080/",
          "height": 50
        },
        "outputId": "74977d2d-d6c2-46a6-ad84-59d6b5c06ac1"
      },
      "source": [
        "def read_data():\n",
        "    data = open('war_peace_processed.txt', 'rt').read()\n",
        "    return data.split('\\n')\n",
        "\n",
        "data = read_data()\n",
        "words = {}\n",
        "for w in data:\n",
        "    tw = words.get(w,0)\n",
        "    words[w]=tw+1\n",
        " \n",
        "#print(words[target_word])\n",
        "\n",
        "print(len(data))\n",
        "print(len(words))\n",
        "\n"
      ],
      "execution_count": 5,
      "outputs": [
        {
          "output_type": "stream",
          "text": [
            "300080\n",
            "38212\n"
          ],
          "name": "stdout"
        }
      ]
    },
    {
      "cell_type": "code",
      "metadata": {
        "id": "hHhjRLVhI4SQ",
        "colab_type": "code",
        "colab": {
          "base_uri": "https://localhost:8080/",
          "height": 50
        },
        "outputId": "effe453f-5199-486b-d5a5-4302fe662b7a"
      },
      "source": [
        "def read_data():\n",
        "    data = open('war_peace_processed.txt', 'rt').read()\n",
        "    return data.split('\\n')\n",
        "\n",
        "data = read_data()\n",
        "chapters = {}\n",
        "number_of_documents=0\n",
        "number_of_documents_with_target_word=0\n",
        "tmp_lst = {}\n",
        "target_word = 'человек'\n",
        "chapter=0\n",
        "\n",
        "\n",
        "for i,w in enumerate(data):\n",
        "  tmp_lst[w] = True if w==target_word else False\n",
        "  if w=='[new chapter]':\n",
        "    chapters[chapter] = tmp_lst\n",
        "    chapter+=1\n",
        "    if True in tmp_lst.values():\n",
        "      number_of_documents_with_target_word+=1\n",
        "    tmp_lst.clear()\n",
        "\n",
        "if len(tmp_lst)>0:\n",
        "  if True in tmp_lst.values():\n",
        "     number_of_documents_with_target_word+=1\n",
        "  chapters[chapter] = tmp_lst\n",
        "\n",
        "number_of_documents=len(chapters)\n",
        "df = number_of_documents_with_target_word/number_of_documents\n",
        "print(df)\n",
        "\n",
        "\n",
        "targets_in_chapter = list(chapters[170].values())\n",
        "tf = targets_in_chapter.count(True)/len(targets_in_chapter)\n",
        "print(tf)\n"
      ],
      "execution_count": 120,
      "outputs": [
        {
          "output_type": "stream",
          "text": [
            "0.672514619883041\n",
            "0.0029850746268656717\n"
          ],
          "name": "stdout"
        }
      ]
    },
    {
      "cell_type": "code",
      "metadata": {
        "id": "qz8DTvUdvxne",
        "colab_type": "code",
        "colab": {
          "base_uri": "https://localhost:8080/",
          "height": 70
        },
        "outputId": "90c26191-e296-42ec-9507-065c0f1b77d7"
      },
      "source": [
        "chapters = {}\n",
        "number_of_documents=0\n",
        "number_of_documents_with_target_word=0\n",
        "tmp_lst = {}\n",
        "chapter=0\n",
        "\n",
        "target_word = 'гостья'\n",
        "target_chapter = 15\n",
        "\n",
        "for i,w in enumerate(data):\n",
        "  tmp_lst[w] = True if w==target_word else False\n",
        "  if w=='[new chapter]':\n",
        "    chapters[chapter] = tmp_lst\n",
        "    chapter+=1\n",
        "    if True in tmp_lst.values():\n",
        "      number_of_documents_with_target_word+=1\n",
        "    tmp_lst.clear()\n",
        "\n",
        "if len(tmp_lst)>0:\n",
        "  if True in tmp_lst.values():\n",
        "     number_of_documents_with_target_word+=1\n",
        "  chapters[chapter] = tmp_lst\n",
        "\n",
        "targets_in_chapter = list(chapters[target_chapter].values())\n",
        "tf = targets_in_chapter.count(True)/len(targets_in_chapter)\n",
        "print(tf)\n",
        "#print(chapters[target_chapter])"
      ],
      "execution_count": 130,
      "outputs": [
        {
          "output_type": "stream",
          "text": [
            "0.0\n",
            "{'одно': False, 'из': False, 'первых': False, 'лиц': False, 'которое': False, 'он': False, 'встретил': False, 'там': False, 'был': False, 'николай': False, 'увидав': False, 'андрея': False, 'покраснел': False, 'и': False, 'страстно': False, 'бросился': False, 'обнимать': False, 'его': False, 'андрей': False, 'понял': False, 'что': False, 'это': False, 'было': False, 'больше': False, 'чем': False, 'дружба': False, '--': False, 'я': False, 'счастливейший': False, 'человек': False, 'сказал': False, 'вот': False, 'письмо': False, 'от': False, 'марии': False, 'она': False, 'обещает': False, 'быть': False, 'моею': False, 'а': False, 'приехал': False, 'в': False, 'штаб': False, 'чтобы': False, 'проситься': False, 'на': False, 'двадцать': False, 'восемь': False, 'дней': False, 'отпуск': False, 'два': False, 'раза': False, 'ранен': False, 'не': False, 'выходя': False, 'фронта': False, 'еще': False, 'жду': False, 'брата': False, 'петю': False, 'который': False, 'партизанит': False, 'с': False, 'денисовым': False, 'пошел': False, 'квартиру': False, 'к': False, 'николаю': False, 'долго': False, 'обо': False, 'всем': False, 'рассказывалось': False, 'друг': False, 'другу': False, 'твердо': False, 'намерен': False, 'опять': False, 'только': False, 'полк': False, 'вечеру': False, 'петя': False, 'умолкая': False, 'рассказывающий': False, 'о': False, 'славе': False, 'россии': False, 'василии': False, 'денисове': False, 'завоевавшем': False, 'целый': False, 'город': False, 'наказывавшем': False, 'поляков': False, 'облагодетельствовавшем': False, 'жидов': False, 'принимавшем': False, 'депутации': False, 'заключавшем': False, 'мир': False, 'у': False, 'нас': False, 'геройская': False, 'фаланга': False, 'тихон': False, 'слышать': False, 'хотел': False, 'ни': False, 'какой': False, 'другой': False, 'службе': False, 'но': False, 'несчастью': False, 'самое': False, 'завоевание': False, 'города': False, 'которым': False, 'так': False, 'счастлив': False, 'петр': False, 'понравилось': False, 'немцу-генералу': False, 'желавшему': False, 'тоже': False, 'завоевать': False, 'этот': False, 'как': False, 'денисов': False, 'под': False, 'командой': False, 'немца': False, 'то': False, 'немец': False, 'распек': False, 'денисова': False, 'отставил': False, 'геройской': False, 'партии': False, 'впрочем': False, 'узнал': False, 'после': False, 'теперь': False, 'же': False, 'полном': False, 'восторге': False, 'рассказывал': False, 'том': False, 'наполеона': False, 'прогнали': False, 'каковы': False, 'мы': False, 'русские': False, 'особенно': False, 'все': False, 'герои': False, 'радовались': False, 'заставляли': False, 'рассказывать': False, 'утром': False, 'оба': False, 'новые': False, 'родные': False, 'пошли': False, 'вместе': False, 'фельдмаршалу': False, 'просить': False, 'каждый': False, 'своего': False, 'фельдмаршал': False, 'милостив': False, 'согласился': False, 'другое': False, 'видимо': False, 'поласкать': False, 'успел': False, 'потому': False, 'гостиную': False, 'вошла': False, 'панна': False, 'пшезовска': False, 'дочерью': False, 'крестницей': False, 'кутузова': False, 'когда': False, 'губернатором': False, 'вильне': False, 'пани': False, 'была': False, 'хорошенькой': False, 'девочкой': False, 'кутузов': False, 'сузив': False, 'глаза': False, 'ней': False, 'навстречу': False, 'взяв': False, 'за': False, 'щеки': False, 'поцеловал': False, 'ее': False, 'князь': False, 'дернул': False, 'полу': False, 'николая': False, 'повел': False, 'вон': False, 'будьте': False, 'смотру': False, 'им': False, 'дверь': False, 'слушаю': False, 'ваша': False, 'светлость': False, 'день': False, 'смотр': False, 'церемониального': False, 'марша': False, 'подошел': False, 'гвардии': False, 'поздравил': False, 'войска': False, 'победой': False, 'пятисот': False, 'тысяч': False, 'нет': False, 'никого': False, 'наполеон': False, 'бежал': False, 'благодарю': False, 'вас': False, 'бог': False, 'помог': False, 'мне': False, 'ты': False, 'бонапарт': False, 'волк': False, 'сер': False, 'брат': False, 'сед': False, 'при': False, 'этом': False, 'снял': False, 'свою': False, 'без': False, 'козырька': False, 'фуражку': False, 'белой': False, 'головы': False, 'нагнул': False, 'волосами': False, 'фрунту': False, 'эту': False, 'голову': False, 'ураа': False, 'aaaa': False, 'загремело': False, 'сто': False, 'голосов': False, 'захлебываясь': False, 'слез': False, 'стал': False, 'доставать': False, 'платок': False, 'стоял': False, 'свите': False, 'между': False, 'братом': False, 'князем': False, 'андреем': False, 'орал': False, 'неистово': False, 'ура': False, 'слезы': False, 'радости': False, 'гордости': False, 'текли': False, 'по': False, 'пухлым': False, 'детским': False, 'щекам': False, 'чуть': False, 'заметно': False, 'добродушно': False, 'насмешливо': False, 'улыбался': False, 'петруша': False, 'уже': False, 'перестали': False, 'дело': False, 'умру': False, 'восторга': False, 'кричал': False, 'взглянув': False, 'князя': False, 'улыбкой': False, 'замолчал': False, 'остался': False, 'недоволен': False, 'своим': False, 'будущим': False, 'сватом': False, 'обе': False, 'свадьбы': False, 'сыграны': False, 'были': False, 'один': False, 'отрадном': False, 'вновь': False, 'оживилось': False, 'зацвело': False, 'уехал': False, 'полком': False, 'вошел': False, 'париж': False, 'где': False, 'сошелся': False, 'во': False, 'время': False, 'их': False, 'отсутствия': False, 'пьер': False, 'наташа': False, 'графиня': False, 'марья': False, 'племянником': False, 'старик': False, 'старуха': False, 'соня': False, 'прожили': False, 'лето': False, 'зиму': False, '1813': False, 'года': False, 'дождались': False, 'возвращения': False, '': False}\n"
          ],
          "name": "stdout"
        }
      ]
    }
  ]
}