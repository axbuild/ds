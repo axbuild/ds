{
  "nbformat": 4,
  "nbformat_minor": 0,
  "metadata": {
    "colab": {
      "name": "Untitled3.ipynb",
      "provenance": [],
      "authorship_tag": "ABX9TyOwoh5pT8565sDpDW1X7Yt5",
      "include_colab_link": true
    },
    "kernelspec": {
      "name": "python3",
      "display_name": "Python 3"
    }
  },
  "cells": [
    {
      "cell_type": "markdown",
      "metadata": {
        "id": "view-in-github",
        "colab_type": "text"
      },
      "source": [
        "<a href=\"https://colab.research.google.com/github/axbuild/ds/blob/master/Untitled3.ipynb\" target=\"_parent\"><img src=\"https://colab.research.google.com/assets/colab-badge.svg\" alt=\"Open In Colab\"/></a>"
      ]
    },
    {
      "cell_type": "code",
      "metadata": {
        "id": "hU3kzxYIFhCX",
        "colab_type": "code",
        "colab": {
          "base_uri": "https://localhost:8080/",
          "height": 50
        },
        "outputId": "74977d2d-d6c2-46a6-ad84-59d6b5c06ac1"
      },
      "source": [
        "def read_data():\n",
        "    data = open('war_peace_processed.txt', 'rt').read()\n",
        "    return data.split('\\n')\n",
        "\n",
        "data = read_data()\n",
        "words = {}\n",
        "for w in data:\n",
        "    tw = words.get(w,0)\n",
        "    words[w]=tw+1\n",
        " \n",
        "#print(words[target_word])\n",
        "\n",
        "print(len(data))\n",
        "print(len(words))\n",
        "\n"
      ],
      "execution_count": null,
      "outputs": [
        {
          "output_type": "stream",
          "text": [
            "300080\n",
            "38212\n"
          ],
          "name": "stdout"
        }
      ]
    },
    {
      "cell_type": "code",
      "metadata": {
        "id": "hHhjRLVhI4SQ",
        "colab_type": "code",
        "colab": {
          "base_uri": "https://localhost:8080/",
          "height": 50
        },
        "outputId": "effe453f-5199-486b-d5a5-4302fe662b7a"
      },
      "source": [
        "def read_data():\n",
        "    data = open('war_peace_processed.txt', 'rt').read()\n",
        "    return data.split('\\n')\n",
        "\n",
        "data = read_data()\n",
        "chapters = {}\n",
        "number_of_documents=0\n",
        "number_of_documents_with_target_word=0\n",
        "tmp_lst = {}\n",
        "target_word = 'человек'\n",
        "chapter=0\n",
        "\n",
        "\n",
        "for i,w in enumerate(data):\n",
        "  tmp_lst[w] = True if w==target_word else False\n",
        "  if w=='[new chapter]':\n",
        "    chapters[chapter] = tmp_lst\n",
        "    chapter+=1\n",
        "    if True in tmp_lst.values():\n",
        "      number_of_documents_with_target_word+=1\n",
        "    tmp_lst.clear()\n",
        "\n",
        "if len(tmp_lst)>0:\n",
        "  if True in tmp_lst.values():\n",
        "     number_of_documents_with_target_word+=1\n",
        "  chapters[chapter] = tmp_lst\n",
        "\n",
        "number_of_documents=len(chapters)\n",
        "df = number_of_documents_with_target_word/number_of_documents\n",
        "print(df)\n",
        "\n",
        "\n",
        "targets_in_chapter = list(chapters[170].values())\n",
        "tf = targets_in_chapter.count(True)/len(targets_in_chapter)\n",
        "print(tf)\n"
      ],
      "execution_count": null,
      "outputs": [
        {
          "output_type": "stream",
          "text": [
            "0.672514619883041\n",
            "0.0029850746268656717\n"
          ],
          "name": "stdout"
        }
      ]
    },
    {
      "cell_type": "code",
      "metadata": {
        "id": "qz8DTvUdvxne",
        "colab_type": "code",
        "colab": {
          "base_uri": "https://localhost:8080/",
          "height": 67
        },
        "outputId": "b6050417-26b2-42d5-9c12-a757010a8aca"
      },
      "source": [
        "def read_data():\n",
        "    data = open('war_peace_processed.txt', 'rt').read()\n",
        "    return data.split('\\n')\n",
        "\n",
        "data = read_data()\n",
        "chapters = {}\n",
        "number_of_documents=0\n",
        "number_of_documents_with_target_word=0\n",
        "tmp_lst = {}\n",
        "chapter=0\n",
        "\n",
        "target_word = 'и'\n",
        "target_chapter = 60\n",
        "\n",
        "for i,w in enumerate(data):\n",
        "  tmp_lst[w] = True if w==target_word else False\n",
        "  if w=='[new chapter]':\n",
        "    chapters[chapter] = tmp_lst\n",
        "    #print(len(chapters), len(tmp_lst))\n",
        "    chapter+=1\n",
        "    if True in tmp_lst.values():\n",
        "      number_of_documents_with_target_word+=1\n",
        "      tmp_lst.clear()\n",
        "\n",
        "if len(tmp_lst)>0:\n",
        "  if True in tmp_lst.values():\n",
        "     number_of_documents_with_target_word+=1\n",
        "     chapters[chapter] = tmp_lst\n",
        "     chapter+=1\n",
        "\n",
        "targets_in_chapter = list(chapters.get(target_chapter).values())\n",
        "tf = targets_in_chapter.count(True)/len(targets_in_chapter)\n",
        "\n",
        "\n",
        "print(targets_in_chapter.count(True))\n",
        "print(len(targets_in_chapter))\n",
        "print(tf)"
      ],
      "execution_count": 46,
      "outputs": [
        {
          "output_type": "stream",
          "text": [
            "1\n",
            "335\n",
            "0.0029850746268656717\n"
          ],
          "name": "stdout"
        }
      ]
    },
    {
      "cell_type": "code",
      "metadata": {
        "id": "--eLwZfF6eOs",
        "colab_type": "code",
        "colab": {
          "base_uri": "https://localhost:8080/",
          "height": 34
        },
        "outputId": "ae8e3016-be12-46bc-b949-9d2ce865b515"
      },
      "source": [
        "var = {'a':'b','c':'d'}\n",
        "var.clear()\n",
        "print(var)"
      ],
      "execution_count": 42,
      "outputs": [
        {
          "output_type": "stream",
          "text": [
            "{}\n"
          ],
          "name": "stdout"
        }
      ]
    }
  ]
}