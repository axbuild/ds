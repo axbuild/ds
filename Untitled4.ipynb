{
  "nbformat": 4,
  "nbformat_minor": 0,
  "metadata": {
    "colab": {
      "name": "Untitled4.ipynb",
      "provenance": [],
      "authorship_tag": "ABX9TyMetUqSxRbzf2z0Gtzyb3TY",
      "include_colab_link": true
    },
    "kernelspec": {
      "name": "python3",
      "display_name": "Python 3"
    }
  },
  "cells": [
    {
      "cell_type": "markdown",
      "metadata": {
        "id": "view-in-github",
        "colab_type": "text"
      },
      "source": [
        "<a href=\"https://colab.research.google.com/github/axbuild/ds/blob/master/Untitled4.ipynb\" target=\"_parent\"><img src=\"https://colab.research.google.com/assets/colab-badge.svg\" alt=\"Open In Colab\"/></a>"
      ]
    },
    {
      "cell_type": "code",
      "metadata": {
        "id": "iA9VfQvX8BU8",
        "colab_type": "code",
        "colab": {}
      },
      "source": [
        ""
      ],
      "execution_count": null,
      "outputs": []
    },
    {
      "cell_type": "code",
      "metadata": {
        "id": "qz8DTvUdvxne",
        "colab_type": "code",
        "colab": {
          "base_uri": "https://localhost:8080/",
          "height": 34
        },
        "outputId": "0894d558-52e3-46b0-a0dc-81d54aa4c06a"
      },
      "source": [
        "def read_data():\n",
        "    data = open('war_peace_processed.txt', 'rt').read()\n",
        "    return data.split('\\n')\n",
        "\n",
        "data = read_data()\n",
        "words = {}\n",
        "number_of_documents=0\n",
        "number_of_documents_with_target_word=0\n",
        "tmp_lst = {}\n",
        "\n",
        "for i,w in enumerate(data):\n",
        "  tmp_lst[w] = True if w==target_word else False\n",
        "  if w=='[new chapter]':\n",
        "    words[i] = tmp_lst\n",
        "    if True in tmp_lst.values():\n",
        "      number_of_documents_with_target_word+=1\n",
        "    tmp_lst.clear()\n",
        "if len(tmp_lst)>0:\n",
        "  if True in tmp_lst.values():\n",
        "     number_of_documents_with_target_word+=1\n",
        "  words['final'] = tmp_lst\n",
        "\n",
        "number_of_documents=len(words)\n",
        "df = number_of_documents_with_target_word/number_of_documents\n",
        "print(df)\n",
        "\n"
      ],
      "execution_count": null,
      "outputs": [
        {
          "output_type": "stream",
          "text": [
            "0.9590643274853801\n"
          ],
          "name": "stdout"
        }
      ]
    },
    {
      "cell_type": "code",
      "metadata": {
        "id": "BdyxMbtLVigr",
        "colab_type": "code",
        "colab": {
          "base_uri": "https://localhost:8080/",
          "height": 185
        },
        "outputId": "19c22856-6bea-4938-9476-5a97b104fa99"
      },
      "source": [
        "for i in range(10):\n",
        "  print(i)"
      ],
      "execution_count": null,
      "outputs": [
        {
          "output_type": "stream",
          "text": [
            "0\n",
            "1\n",
            "2\n",
            "3\n",
            "4\n",
            "5\n",
            "6\n",
            "7\n",
            "8\n",
            "9\n"
          ],
          "name": "stdout"
        }
      ]
    },
    {
      "cell_type": "code",
      "metadata": {
        "id": "NQV9-Lqz0qSI",
        "colab_type": "code",
        "colab": {}
      },
      "source": [
        ""
      ],
      "execution_count": null,
      "outputs": []
    },
    {
      "cell_type": "code",
      "metadata": {
        "id": "3eYWO33IOXpT",
        "colab_type": "code",
        "colab": {
          "base_uri": "https://localhost:8080/",
          "height": 34
        },
        "outputId": "b92c23a1-c01c-4599-97c6-b9ff6574f308"
      },
      "source": [
        "# Напишите ваш код ниже\n",
        "from random import uniform\n",
        "def random_victim():\n",
        "    return uniform(1, 18)\n",
        "\n",
        "print(random_victim())"
      ],
      "execution_count": null,
      "outputs": [
        {
          "output_type": "stream",
          "text": [
            "6.870422700276253\n"
          ],
          "name": "stdout"
        }
      ]
    },
    {
      "cell_type": "code",
      "metadata": {
        "id": "CAkgClLYR7ev",
        "colab_type": "code",
        "colab": {
          "base_uri": "https://localhost:8080/",
          "height": 54
        },
        "outputId": "4efe40e5-c2c6-48dd-aa2f-6ef2cede9f2d"
      },
      "source": [
        "from random import randint\n",
        "\n",
        "def count_victims():\n",
        "   items = {}\n",
        "   for i in range(10000):\n",
        "        r = randint(1,18)\n",
        "        items[r]=items.get(r,0)+1\n",
        "   return items\n",
        "\n",
        "print(count_victims())\n"
      ],
      "execution_count": null,
      "outputs": [
        {
          "output_type": "stream",
          "text": [
            "{10: 533, 7: 575, 14: 582, 6: 570, 4: 562, 12: 534, 5: 542, 2: 570, 18: 556, 9: 572, 13: 535, 15: 533, 3: 547, 1: 589, 17: 583, 11: 541, 8: 549, 16: 527}\n"
          ],
          "name": "stdout"
        }
      ]
    },
    {
      "cell_type": "code",
      "metadata": {
        "id": "jROaE9tu0rPQ",
        "colab_type": "code",
        "colab": {}
      },
      "source": [
        ""
      ],
      "execution_count": null,
      "outputs": []
    }
  ]
}