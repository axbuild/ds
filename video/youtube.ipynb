{
  "nbformat": 4,
  "nbformat_minor": 0,
  "metadata": {
    "colab": {
      "name": "youtube.ipynb",
      "provenance": [],
      "authorship_tag": "ABX9TyMGVysuHr7Sua/HOl3TVRBP",
      "include_colab_link": true
    },
    "kernelspec": {
      "name": "python3",
      "display_name": "Python 3"
    }
  },
  "cells": [
    {
      "cell_type": "markdown",
      "metadata": {
        "id": "view-in-github",
        "colab_type": "text"
      },
      "source": [
        "<a href=\"https://colab.research.google.com/github/axbuild/ds/blob/master/youtube.ipynb\" target=\"_parent\"><img src=\"https://colab.research.google.com/assets/colab-badge.svg\" alt=\"Open In Colab\"/></a>"
      ]
    },
    {
      "cell_type": "code",
      "metadata": {
        "id": "-u1CY2kthgav",
        "outputId": "2214baee-5584-49e0-b39e-a0c3effaa2b4",
        "colab": {
          "base_uri": "https://localhost:8080/",
          "height": 121
        }
      },
      "source": [
        "!pip install --upgrade youtube_dl"
      ],
      "execution_count": 2,
      "outputs": [
        {
          "output_type": "stream",
          "text": [
            "Collecting youtube_dl\n",
            "\u001b[?25l  Downloading https://files.pythonhosted.org/packages/70/b4/c83b577bfb1be7c88dff10eecd70650eca7729b25135345108ea676e6f3b/youtube_dl-2020.9.20-py2.py3-none-any.whl (1.8MB)\n",
            "\u001b[K     |████████████████████████████████| 1.8MB 4.4MB/s \n",
            "\u001b[?25hInstalling collected packages: youtube-dl\n",
            "Successfully installed youtube-dl-2020.9.20\n"
          ],
          "name": "stdout"
        }
      ]
    },
    {
      "cell_type": "code",
      "metadata": {
        "id": "9EJrZ3pkhu0-",
        "outputId": "f8f85b1b-8151-42f3-8bb4-e879a8d6cc98",
        "colab": {
          "base_uri": "https://localhost:8080/",
          "height": 168
        }
      },
      "source": [
        "!youtube-dl https://www.youtube.com/watch?v=hA5PRoikMaw"
      ],
      "execution_count": 3,
      "outputs": [
        {
          "output_type": "stream",
          "text": [
            "[youtube] hA5PRoikMaw: Downloading webpage\n",
            "\u001b[0;33mWARNING:\u001b[0m Requested formats are incompatible for merge and will be merged into mkv.\n",
            "[download] Destination: Доброе утро. Мотоциклист, не нарушай!  01.10.2020-hA5PRoikMaw.f136.mp4\n",
            "\u001b[K[download] 100% of 29.32MiB in 00:02\n",
            "[download] Destination: Доброе утро. Мотоциклист, не нарушай!  01.10.2020-hA5PRoikMaw.f251.webm\n",
            "\u001b[K[download] 100% of 1.99MiB in 00:00\n",
            "[ffmpeg] Merging formats into \"Доброе утро. Мотоциклист, не нарушай!  01.10.2020-hA5PRoikMaw.mkv\"\n",
            "Deleting original file Доброе утро. Мотоциклист, не нарушай!  01.10.2020-hA5PRoikMaw.f136.mp4 (pass -k to keep)\n",
            "Deleting original file Доброе утро. Мотоциклист, не нарушай!  01.10.2020-hA5PRoikMaw.f251.webm (pass -k to keep)\n"
          ],
          "name": "stdout"
        }
      ]
    },
    {
      "cell_type": "code",
      "metadata": {
        "id": "ud47v5ALjw0L",
        "outputId": "63b1bc14-1a3f-4593-d67a-3517e3d6903f",
        "colab": {
          "base_uri": "https://localhost:8080/",
          "height": 84
        }
      },
      "source": [
        "import youtube_dl\n",
        "ydl = youtube_dl.YoutubeDL({'format': 'best', 'outtmpl': '%(id)s.%(ext)s'})\n",
        "ydl.download(['https://www.youtube.com/watch?v=Shbnjqskk6Q'])"
      ],
      "execution_count": 4,
      "outputs": [
        {
          "output_type": "stream",
          "text": [
            "[youtube] Shbnjqskk6Q: Downloading webpage\n",
            "[download] Destination: Shbnjqskk6Q.mp4\n",
            "[download] 100% of 33.79MiB in 00:24\n"
          ],
          "name": "stdout"
        },
        {
          "output_type": "execute_result",
          "data": {
            "text/plain": [
              "0"
            ]
          },
          "metadata": {
            "tags": []
          },
          "execution_count": 4
        }
      ]
    },
    {
      "cell_type": "code",
      "metadata": {
        "id": "K8M2ZYbUkEc0",
        "outputId": "55cf6f15-fb55-4c23-b2fc-6d641f1a0735",
        "colab": {
          "base_uri": "https://localhost:8080/",
          "height": 118
        }
      },
      "source": [
        "import youtube_dl\n",
        "ydl = youtube_dl.YoutubeDL(\n",
        "    {\n",
        "      'format': 'bestaudio/best',\n",
        "      'postprocessors': [{\n",
        "        'key': 'FFmpegExtractAudio',\n",
        "        'preferredcodec': 'wav',\n",
        "        'preferredquality': '512',\n",
        "      }]\n",
        "})\n",
        "ydl.download(['https://www.youtube.com/watch?v=Shbnjqskk6Q'])\n"
      ],
      "execution_count": 5,
      "outputs": [
        {
          "output_type": "stream",
          "text": [
            "[youtube] Shbnjqskk6Q: Downloading webpage\n",
            "[download] Destination: Блондинка на 'Восходе'. 30.09.2020-Shbnjqskk6Q.webm\n",
            "[download] 100% of 1.89MiB in 00:00\n",
            "[ffmpeg] Destination: Блондинка на 'Восходе'. 30.09.2020-Shbnjqskk6Q.wav\n",
            "Deleting original file Блондинка на 'Восходе'. 30.09.2020-Shbnjqskk6Q.webm (pass -k to keep)\n"
          ],
          "name": "stdout"
        },
        {
          "output_type": "execute_result",
          "data": {
            "text/plain": [
              "0"
            ]
          },
          "metadata": {
            "tags": []
          },
          "execution_count": 5
        }
      ]
    }
  ]
}