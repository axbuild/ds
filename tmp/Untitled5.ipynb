{
  "nbformat": 4,
  "nbformat_minor": 0,
  "metadata": {
    "colab": {
      "name": "Untitled5.ipynb",
      "provenance": [],
      "authorship_tag": "ABX9TyOG+HnBTnr7bDTZa41ISPVC",
      "include_colab_link": true
    },
    "kernelspec": {
      "name": "python3",
      "display_name": "Python 3"
    }
  },
  "cells": [
    {
      "cell_type": "markdown",
      "metadata": {
        "id": "view-in-github",
        "colab_type": "text"
      },
      "source": [
        "<a href=\"https://colab.research.google.com/github/axbuild/ds/blob/master/Untitled5.ipynb\" target=\"_parent\"><img src=\"https://colab.research.google.com/assets/colab-badge.svg\" alt=\"Open In Colab\"/></a>"
      ]
    },
    {
      "cell_type": "code",
      "metadata": {
        "id": "V8Z7JRvwYE-R",
        "outputId": "0b765f1d-5b00-48f4-ee9b-2b62820465bc",
        "colab": {
          "base_uri": "https://localhost:8080/",
          "height": 67
        }
      },
      "source": [
        "!curl \"https://www.nasa.gov/rss/dyn/breaking_news.rss\" > breaking_news.txt"
      ],
      "execution_count": null,
      "outputs": [
        {
          "output_type": "stream",
          "text": [
            "  % Total    % Received % Xferd  Average Speed   Time    Time     Time  Current\n",
            "                                 Dload  Upload   Total   Spent    Left  Speed\n",
            "100 10641  100 10641    0     0  39853      0 --:--:-- --:--:-- --:--:-- 39853\n"
          ],
          "name": "stdout"
        }
      ]
    },
    {
      "cell_type": "code",
      "metadata": {
        "id": "YgTqrB9cYY9h",
        "outputId": "cd85fd2b-e3c4-4421-9600-bac8b8c1b896",
        "colab": {
          "base_uri": "https://localhost:8080/",
          "height": 67
        }
      },
      "source": [
        "!curl \"https://raw.githubusercontent.com/owid/covid-19-data/master/public/data/owid-covid-data.json\" > data/covid.json"
      ],
      "execution_count": 5,
      "outputs": [
        {
          "output_type": "stream",
          "text": [
            "  % Total    % Received % Xferd  Average Speed   Time    Time     Time  Current\n",
            "                                 Dload  Upload   Total   Spent    Left  Speed\n",
            "100 35.3M  100 35.3M    0     0  19.1M      0  0:00:01  0:00:01 --:--:-- 19.1M\n"
          ],
          "name": "stdout"
        }
      ]
    },
    {
      "cell_type": "code",
      "metadata": {
        "id": "bK_faeJRdnef"
      },
      "source": [
        "import json\n",
        "\n",
        "with open('data/covid.json') as json_file:\n",
        "    data = json.load(json_file)\n",
        "\n",
        "for (k,v) in data.items():\n",
        "  if 'aged_65_older' in v:\n",
        "    print(v['aged_65_older'])\n",
        "\n",
        "json_file.close()"
      ],
      "execution_count": null,
      "outputs": []
    },
    {
      "cell_type": "code",
      "metadata": {
        "id": "E9NX7vBokibF",
        "outputId": "5802000b-329d-4f31-9e6d-14d19f93fed5",
        "colab": {
          "base_uri": "https://localhost:8080/",
          "height": 50
        }
      },
      "source": [
        "import json\n",
        "\n",
        "def max_value(value_name):\n",
        "  with open('data/covid.json') as json_file:\n",
        "    data = json.load(json_file)\n",
        "  #return max(data, key=lambda k:float(data[k][value_name]))\n",
        "  return max(data.values(), key=lambda v: float(v[value_name]) if value_name in v else 0.0)\n",
        "\n",
        "res = max_value('aged_65_older')\n",
        "#print(json.dumps(res, indent=1))\n",
        "print(str(res['location']))\n",
        "print(str(res['aged_65_older']))"
      ],
      "execution_count": null,
      "outputs": [
        {
          "output_type": "stream",
          "text": [
            "Japan\n",
            "27.049\n"
          ],
          "name": "stdout"
        }
      ]
    },
    {
      "cell_type": "code",
      "metadata": {
        "id": "XQ91JxXd1jUX",
        "outputId": "f15969b7-2899-4438-9814-543ac7c3a290",
        "colab": {
          "base_uri": "https://localhost:8080/",
          "height": 34
        }
      },
      "source": [
        "import json\n",
        "from collections import Counter\n",
        "from datetime import datetime\n",
        "\n",
        "month=8\n",
        "\n",
        "def exclude_not_numbers(d):\n",
        "  new_dic = {}\n",
        "  for k,v in d.items():\n",
        "    if isinstance(v, (int, float)):\n",
        "      new_dic[k]=v\n",
        "  return new_dic\n",
        "\n",
        "def day_with_max_value(value_name):\n",
        "  stack = {}\n",
        "  with open('data/covid.json') as json_file:\n",
        "    data = json.load(json_file)\n",
        "  for (k,v) in data.items():\n",
        "    for (k1,v1) in enumerate(v['data']):\n",
        "      dt = datetime.strptime(v1['date'], '%Y-%m-%d')\n",
        "      if dt.month==8:\n",
        "        if stack.get(v1['date']) is None:\n",
        "          stack[v1['date']] = v1\n",
        "        else: \n",
        "          date_key = v1['date']\n",
        "          stack[date_key] = exclude_not_numbers(stack[date_key])\n",
        "          v1=exclude_not_numbers(v1)\n",
        "          stack[date_key] = dict(Counter(stack[date_key])+Counter(v1))        \n",
        "  return max(stack, key=lambda k: float(stack[k][value_name]) if value_name in stack[k] else 0.0)\n",
        "\n",
        "res = day_with_max_value('new_cases')\n",
        "\n",
        "print(res)\n",
        "#print(json.dumps(res, indent=2))\n"
      ],
      "execution_count": null,
      "outputs": [
        {
          "output_type": "stream",
          "text": [
            "2020-08-13\n"
          ],
          "name": "stdout"
        }
      ]
    },
    {
      "cell_type": "code",
      "metadata": {
        "id": "MxNXCRG-IALX",
        "outputId": "cc123593-7021-420e-8abf-bc648b1cf531",
        "colab": {
          "base_uri": "https://localhost:8080/",
          "height": 87
        }
      },
      "source": [
        "import json\n",
        "import math\n",
        "from datetime import datetime\n",
        "\n",
        "month=8\n",
        "\n",
        "def corr(data_x, data_y):\n",
        "    sx, sy, sxy, sx2, sy2, n = 0.0, 0.0, 0.0, 0.0, 0.0, 0\n",
        "    for x, y in zip(data_x, data_y):\n",
        "        sx += x\n",
        "        sx2 += x*x\n",
        "        sy += y\n",
        "        sy2 += y*y\n",
        "        sxy += x*y\n",
        "        n += 1\n",
        "    dd = math.sqrt((sx2 / n - (sx / n * sx / n)) * (sy2 / n - (sy / n * sy / n)))\n",
        "    if abs(dd)<1e-5:\n",
        "        return None\n",
        "    return (sxy / n - sx / n * sy / n) / dd \n",
        "\n",
        "def correlation_cases_tests(country_code):\n",
        "  result=0\n",
        "  total_tests = []\n",
        "  total_cases = []\n",
        "  with open('data/covid.json') as json_file:\n",
        "    data = json.load(json_file)\n",
        "  country_data = data[country_code]['data']\n",
        "  for v in country_data:\n",
        "    dt = datetime.strptime(v['date'], '%Y-%m-%d')\n",
        "    if dt.month==8:\n",
        "      total_tests.append(v['total_tests'] if 'total_tests' in v.keys() else 0)\n",
        "      total_cases.append(v['total_cases'] if 'total_cases' in v.keys() else 0)\n",
        "  print(total_tests)\n",
        "  print(total_cases)\n",
        "  return corr(total_tests, total_cases)\n",
        "\n",
        "result=correlation_cases_tests(\"IND\")\n",
        "print(result)\n"
      ],
      "execution_count": 17,
      "outputs": [
        {
          "output_type": "stream",
          "text": [
            "[19821831.0, 20202858.0, 20864750.0, 21484402.0, 22149351.0, 22788393.0, 23387171.0, 24106535.0, 24583558.0, 25281848.0, 26015297.0, 26845688.0, 27694416.0, 28563095.0, 29309703.0, 30041400.0, 30941264.0, 31742782.0, 32661252.0, 33467237.0, 34491073.0, 35292220.0, 35902137.0, 36827520.0, 37651512.0, 38576510.0, 39477848.0, 40406609.0, 41461636.0, 42307914.0, 43324834.0]\n",
            "[1695988.0, 1750723.0, 1803695.0, 1855745.0, 1908254.0, 1964536.0, 2027074.0, 2088611.0, 2153010.0, 2215074.0, 2268675.0, 2329638.0, 2396637.0, 2461190.0, 2526192.0, 2589682.0, 2647663.0, 2702742.0, 2767273.0, 2836925.0, 2905823.0, 2975701.0, 3044940.0, 3106348.0, 3167323.0, 3234474.0, 3310234.0, 3387500.0, 3463972.0, 3542733.0, 3621245.0]\n",
            "0.9994577455258618\n"
          ],
          "name": "stdout"
        }
      ]
    },
    {
      "cell_type": "code",
      "metadata": {
        "id": "KqYExGZf2lHp",
        "outputId": "006ecc14-5cc1-4e0b-f7eb-ffa3ab197b76",
        "colab": {
          "base_uri": "https://localhost:8080/",
          "height": 34
        }
      },
      "source": [
        "0.1+0.2"
      ],
      "execution_count": 1,
      "outputs": [
        {
          "output_type": "execute_result",
          "data": {
            "text/plain": [
              "0.30000000000000004"
            ]
          },
          "metadata": {
            "tags": []
          },
          "execution_count": 1
        }
      ]
    }
  ]
}