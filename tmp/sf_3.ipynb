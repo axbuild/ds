{
  "nbformat": 4,
  "nbformat_minor": 0,
  "metadata": {
    "colab": {
      "name": "sf_3.ipynb",
      "provenance": [],
      "authorship_tag": "ABX9TyOQ0qzso1qccYJQrXBZMOvk",
      "include_colab_link": true
    },
    "kernelspec": {
      "name": "python3",
      "display_name": "Python 3"
    }
  },
  "cells": [
    {
      "cell_type": "markdown",
      "metadata": {
        "id": "view-in-github",
        "colab_type": "text"
      },
      "source": [
        "<a href=\"https://colab.research.google.com/github/axbuild/ds/blob/master/sf_3.ipynb\" target=\"_parent\"><img src=\"https://colab.research.google.com/assets/colab-badge.svg\" alt=\"Open In Colab\"/></a>"
      ]
    },
    {
      "cell_type": "code",
      "metadata": {
        "id": "WTJn6mckqveC",
        "outputId": "2242067a-fb91-4166-8689-593c2fc32b84",
        "colab": {
          "base_uri": "https://localhost:8080/"
        }
      },
      "source": [
        "import json\n",
        "import math\n",
        "from datetime import datetime\n",
        "\n",
        "month=8\n",
        "\n",
        "def corr(data_x, data_y):\n",
        "    sx, sy, sxy, sx2, sy2, n = 0.0, 0.0, 0.0, 0.0, 0.0, 0\n",
        "    for x, y in zip(data_x, data_y):\n",
        "        sx += x\n",
        "        sx2 += x*x\n",
        "        sy += y\n",
        "        sy2 += y*y\n",
        "        sxy += x*y\n",
        "        n += 1\n",
        "    dd = math.sqrt((sx2 / n - (sx / n * sx / n)) * (sy2 / n - (sy / n * sy / n)))\n",
        "    if abs(dd)<1e-5:\n",
        "        return None\n",
        "    return (sxy / n - sx / n * sy / n) / dd \n",
        "\n",
        "def float_with_precision(country_code):\n",
        "  result=0\n",
        "  total_tests = []\n",
        "  total_cases = []\n",
        "  with open('data/covid.json') as json_file:\n",
        "    data = json.load(json_file)\n",
        "  country_data = data[country_code]['data']\n",
        "  for v in country_data:\n",
        "    dt = datetime.strptime(v['date'], '%Y-%m-%d')\n",
        "    if dt.month==8:\n",
        "      total_tests.append(v['new_tests'] if 'new_tests' in v.keys() else 0)\n",
        "      total_cases.append(v['new_cases'] if 'new_cases' in v.keys() else 0)\n",
        "  return corr(total_tests, total_cases)\n",
        "\n",
        "float_with_precision('IND')"
      ],
      "execution_count": 31,
      "outputs": [
        {
          "output_type": "execute_result",
          "data": {
            "text/plain": [
              "0.9992945600543903"
            ]
          },
          "metadata": {
            "tags": []
          },
          "execution_count": 31
        }
      ]
    },
    {
      "cell_type": "code",
      "metadata": {
        "id": "DUwu_Ecd07-G"
      },
      "source": [
        "import json\n",
        "import re\n",
        "import math\n",
        "with open(\"data/covid.json\", \"rt\") as file_obj:\n",
        "    data = json.load(file_obj)\n",
        "    \n",
        "pattern_date = re.compile('2020-08-[0-9][0-9]')\n",
        "\n",
        "\n",
        "def corr(data_x, data_y):\n",
        "    sx, sy, sxy, sx2, sy2, n = 0.0, 0.0, 0.0, 0.0, 0.0, 0\n",
        "    for x, y in zip(data_x, data_y):\n",
        "        sx += x\n",
        "        sx2 += x*x\n",
        "        sy += y\n",
        "        sy2 += y*y\n",
        "        sxy += x*y\n",
        "        n += 1\n",
        "    dd = math.sqrt((sx2 / n - (sx / n * sx / n)) * (sy2 / n - (sy / n * sy / n)))\n",
        "    if abs(dd) < 1e-5:\n",
        "        return None\n",
        "    return (sxy / n - sx / n * sy / n) / dd\n",
        "\n",
        "def float_with_precision(country_code):\n",
        "    data_x = []\n",
        "    data_y = []\n",
        "    for day in range(365):\n",
        "        try:\n",
        "            if bool(pattern_date.match(data[country_code]['data'][day]['date']))==True:\n",
        "                try:\n",
        "                    data_x.append(data[country_code]['data'][day]['new_cases'])\n",
        "                    data_y.append(data[country_code]['data'][day]['new_tests'])\n",
        "                except:\n",
        "                    data_x(0)\n",
        "                    data_y(0)\n",
        "        except:\n",
        "            continue\n",
        "    return corr(data_x, data_y)"
      ],
      "execution_count": 28,
      "outputs": []
    },
    {
      "cell_type": "code",
      "metadata": {
        "id": "jk7Pb1QDzw8E",
        "outputId": "fdae24ae-ed69-410d-d6db-447ba71dfd70",
        "colab": {
          "base_uri": "https://localhost:8080/"
        }
      },
      "source": [
        "!curl \"https://raw.githubusercontent.com/owid/covid-19-data/master/public/data/owid-covid-data.json\" > data/covid.json"
      ],
      "execution_count": 17,
      "outputs": [
        {
          "output_type": "stream",
          "text": [
            "  % Total    % Received % Xferd  Average Speed   Time    Time     Time  Current\n",
            "                                 Dload  Upload   Total   Spent    Left  Speed\n",
            "100 37.1M  100 37.1M    0     0  11.5M      0  0:00:03  0:00:03 --:--:-- 11.5M\n"
          ],
          "name": "stdout"
        }
      ]
    },
    {
      "cell_type": "code",
      "metadata": {
        "id": "oECkW1DTTvSB",
        "outputId": "ebc746f6-48c5-428e-f37f-0f66f6d20842",
        "colab": {
          "base_uri": "https://localhost:8080/"
        }
      },
      "source": [
        "import json\n",
        "import math\n",
        "from datetime import datetime\n",
        "\n",
        "month=8\n",
        "\n",
        "def calc_mean_sigma(data):\n",
        "    sx, sx2, n = 0.0, 0.0, 0\n",
        "    for x in data:\n",
        "        sx += x\n",
        "        sx2 += x*x\n",
        "        n += 1\n",
        "    return (sx / n, math.sqrt(max(sx2 / n - sx / n * sx / n, 0)))\n",
        "\n",
        "def sigma(country_code, value_name):\n",
        "  values = []\n",
        "  with open('data/covid.json') as json_file:\n",
        "    data = json.load(json_file)\n",
        "  country_data = data[country_code]['data']\n",
        "  for v in country_data:\n",
        "    dt = datetime.strptime(v['date'], '%Y-%m-%d')\n",
        "    if dt.month==8:\n",
        "      values.append(v[value_name] if value_name in v.keys() else 0)\n",
        "  return calc_mean_sigma(values)[1]\n",
        "\n",
        "sigma('GBR', 'new_cases')\n",
        "#calc_mean_sigma([1,2,3,4,5,6])"
      ],
      "execution_count": 41,
      "outputs": [
        {
          "output_type": "execute_result",
          "data": {
            "text/plain": [
              "235.76391655560022"
            ]
          },
          "metadata": {
            "tags": []
          },
          "execution_count": 41
        }
      ]
    },
    {
      "cell_type": "code",
      "metadata": {
        "id": "Vh7iKQLUYpBS",
        "outputId": "a28daf2b-34d5-4923-8809-341e58c99386",
        "colab": {
          "base_uri": "https://localhost:8080/"
        }
      },
      "source": [
        "import json\n",
        "import math\n",
        "from datetime import datetime\n",
        "\n",
        "month=8\n",
        "\n",
        "def calc_mean_sigma(data):\n",
        "    sx, sx2, n = 0.0, 0.0, 0\n",
        "    for x in data:\n",
        "        sx += x\n",
        "        sx2 += x*x\n",
        "        n += 1\n",
        "    return (sx / n, math.sqrt(max(sx2 / n - sx / n * sx / n, 0)))\n",
        "\n",
        "def sigma_norm(country_code, value_name):\n",
        "  values = []\n",
        "  with open('data/covid.json') as json_file:\n",
        "    data = json.load(json_file)\n",
        "  country_data = data[country_code]['data']\n",
        "  for v in country_data:\n",
        "    dt = datetime.strptime(v['date'], '%Y-%m-%d')\n",
        "    if dt.month==8:\n",
        "      values.append(v[value_name] if value_name in v.keys() else 0)\n",
        "  mat = sum(values) / len(values)\n",
        "  return calc_mean_sigma(values)[1] / mat\n",
        "\n",
        "sigma_norm('RUS', 'new_cases')"
      ],
      "execution_count": 43,
      "outputs": [
        {
          "output_type": "execute_result",
          "data": {
            "text/plain": [
              "0.05748491556302192"
            ]
          },
          "metadata": {
            "tags": []
          },
          "execution_count": 43
        }
      ]
    },
    {
      "cell_type": "code",
      "metadata": {
        "id": "vn6glUcua3eJ"
      },
      "source": [
        "#4.3\n",
        "import math\n",
        "def phi(x):\n",
        "    return (1.0 + math.erf(x / math.sqrt(2.0))) / 2.0\n",
        "def outliers(p):\n",
        "    a1 = (phi(-p) +(1 - phi(p)))\n",
        "    return a1"
      ],
      "execution_count": null,
      "outputs": []
    }
  ]
}