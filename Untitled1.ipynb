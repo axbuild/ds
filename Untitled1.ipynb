{
  "nbformat": 4,
  "nbformat_minor": 0,
  "metadata": {
    "colab": {
      "name": "Untitled1.ipynb",
      "provenance": [],
      "collapsed_sections": [],
      "authorship_tag": "ABX9TyOrbJFsXE3V1jvD8HWrom8W",
      "include_colab_link": true
    },
    "kernelspec": {
      "name": "python3",
      "display_name": "Python 3"
    }
  },
  "cells": [
    {
      "cell_type": "markdown",
      "metadata": {
        "id": "view-in-github",
        "colab_type": "text"
      },
      "source": [
        "<a href=\"https://colab.research.google.com/github/axbuild/ds/blob/master/Untitled1.ipynb\" target=\"_parent\"><img src=\"https://colab.research.google.com/assets/colab-badge.svg\" alt=\"Open In Colab\"/></a>"
      ]
    },
    {
      "cell_type": "code",
      "metadata": {
        "id": "DwVPm0NN_RZ0",
        "colab_type": "code",
        "colab": {
          "base_uri": "https://localhost:8080/",
          "height": 34
        },
        "outputId": "e823e312-e71a-4e76-870e-d2da77103269"
      },
      "source": [
        "import math\n",
        "25**(1/2)\n",
        "math.sqrt(25)\n",
        "25**0.5"
      ],
      "execution_count": null,
      "outputs": [
        {
          "output_type": "execute_result",
          "data": {
            "text/plain": [
              "5.0"
            ]
          },
          "metadata": {
            "tags": []
          },
          "execution_count": 6
        }
      ]
    },
    {
      "cell_type": "code",
      "metadata": {
        "id": "2KCcClkoAL2j",
        "colab_type": "code",
        "colab": {
          "base_uri": "https://localhost:8080/",
          "height": 34
        },
        "outputId": "c97b9292-6014-4a88-d675-ee50b8d62ce7"
      },
      "source": [
        "10//4"
      ],
      "execution_count": null,
      "outputs": [
        {
          "output_type": "execute_result",
          "data": {
            "text/plain": [
              "2"
            ]
          },
          "metadata": {
            "tags": []
          },
          "execution_count": 7
        }
      ]
    },
    {
      "cell_type": "code",
      "metadata": {
        "id": "-Esns8wiBNsd",
        "colab_type": "code",
        "colab": {
          "base_uri": "https://localhost:8080/",
          "height": 34
        },
        "outputId": "b3b7bcae-ce0f-4247-b929-b7310080b105"
      },
      "source": [
        "print(a%b)"
      ],
      "execution_count": null,
      "outputs": [
        {
          "output_type": "stream",
          "text": [
            "0\n"
          ],
          "name": "stdout"
        }
      ]
    },
    {
      "cell_type": "code",
      "metadata": {
        "id": "rG0ivzsMDfP-",
        "colab_type": "code",
        "colab": {
          "base_uri": "https://localhost:8080/",
          "height": 34
        },
        "outputId": "e612d872-3998-48cf-8672-31270d78262d"
      },
      "source": [
        "result = (1/3)*5*10\n",
        "print(result)"
      ],
      "execution_count": null,
      "outputs": [
        {
          "output_type": "stream",
          "text": [
            "16.666666666666664\n"
          ],
          "name": "stdout"
        }
      ]
    },
    {
      "cell_type": "code",
      "metadata": {
        "id": "szoSP-kWEoUw",
        "colab_type": "code",
        "colab": {
          "base_uri": "https://localhost:8080/",
          "height": 34
        },
        "outputId": "d9f6ef9e-6c05-4836-9261-e36139799036"
      },
      "source": [
        "greet = 'greet'\n",
        "name = 'name'\n",
        "space=' '\n",
        "result = (greet+space)*2+space+name\n",
        "print(result)"
      ],
      "execution_count": null,
      "outputs": [
        {
          "output_type": "stream",
          "text": [
            "greet greet  name\n"
          ],
          "name": "stdout"
        }
      ]
    },
    {
      "cell_type": "code",
      "metadata": {
        "id": "MghIswdAEwOB",
        "colab_type": "code",
        "colab": {
          "base_uri": "https://localhost:8080/",
          "height": 34
        },
        "outputId": "cba73dbf-4f22-4eac-ee56-af2ff553c85a"
      },
      "source": [
        "d = 10\n",
        "m = 5\n",
        "left = m-d/2\n",
        "right = m+d/2\n",
        "print(str(left)+' '+str(right))\n"
      ],
      "execution_count": null,
      "outputs": [
        {
          "output_type": "stream",
          "text": [
            "0.0 10.0\n"
          ],
          "name": "stdout"
        }
      ]
    },
    {
      "cell_type": "code",
      "metadata": {
        "id": "-3xu7k0jgDS5",
        "colab_type": "code",
        "colab": {}
      },
      "source": [
        "def average(a,b,c)\n",
        "  return (a+b+c)/3"
      ],
      "execution_count": null,
      "outputs": []
    },
    {
      "cell_type": "code",
      "metadata": {
        "id": "huZcqP7d6IeC",
        "colab_type": "code",
        "colab": {
          "base_uri": "https://localhost:8080/",
          "height": 34
        },
        "outputId": "e7241be2-d051-4935-bf44-dc9bad5fa10a"
      },
      "source": [
        "if 26 > 25:\n",
        "    print(\"Поздравляем! У вас нет лишнего веса!\")"
      ],
      "execution_count": null,
      "outputs": [
        {
          "output_type": "stream",
          "text": [
            "Поздравляем! У вас нет лишнего веса!\n"
          ],
          "name": "stdout"
        }
      ]
    },
    {
      "cell_type": "code",
      "metadata": {
        "id": "h8KdZ4a8PWjk",
        "colab_type": "code",
        "colab": {
          "base_uri": "https://localhost:8080/",
          "height": 34
        },
        "outputId": "e9a9cebd-2788-4860-deaa-4597bb59342c"
      },
      "source": [
        "r=1\n",
        "if r<1:\n",
        "    print('Эпидемия затухает')\n",
        "elif r==1:\n",
        "    print('Линейный рост заболеваемости.')\n",
        "else:\n",
        "    print('Вспышка заболеваемости.')"
      ],
      "execution_count": null,
      "outputs": [
        {
          "output_type": "stream",
          "text": [
            "Линейный рост заболеваемости.\n"
          ],
          "name": "stdout"
        }
      ]
    },
    {
      "cell_type": "code",
      "metadata": {
        "id": "7RcM5GFdUzqz",
        "colab_type": "code",
        "colab": {
          "base_uri": "https://localhost:8080/",
          "height": 34
        },
        "outputId": "80893d92-9100-460d-e120-4610de522ef6"
      },
      "source": [
        "a = 10\n",
        "b = 10\n",
        "c = 6\n",
        "\n",
        "max = a if a > b else b\n",
        "\n",
        "max = c if max < c else max\n",
        "\n",
        "if a > b:\n",
        "  max = a\n",
        "else:\n",
        "  max = b\n",
        "\n",
        "if max < c:\n",
        "  max = c\n",
        "  \n",
        "print(max)\n"
      ],
      "execution_count": null,
      "outputs": [
        {
          "output_type": "stream",
          "text": [
            "10\n"
          ],
          "name": "stdout"
        }
      ]
    },
    {
      "cell_type": "code",
      "metadata": {
        "id": "Y88vJbtbb7qo",
        "colab_type": "code",
        "colab": {
          "base_uri": "https://localhost:8080/",
          "height": 50
        },
        "outputId": "6316b9db-189e-4b22-861f-1d0518ed9a54"
      },
      "source": [
        "a = 10\n",
        "b = 5\n",
        "c = 9\n",
        "\n",
        "max = a if a > b else b\n",
        "max = c if max < c else max\n",
        "\n",
        "print(max)\n",
        "\n",
        "if a+b > max and a+c > max and c+b > max:\n",
        "    print('Треугольник существует.')\n",
        "else:\n",
        "    print('Треугольник не существует.')"
      ],
      "execution_count": null,
      "outputs": [
        {
          "output_type": "stream",
          "text": [
            "10\n",
            "Треугольник существует.\n"
          ],
          "name": "stdout"
        }
      ]
    },
    {
      "cell_type": "code",
      "metadata": {
        "id": "Iaz_-N0VPXi9",
        "colab_type": "code",
        "colab": {
          "base_uri": "https://localhost:8080/",
          "height": 34
        },
        "outputId": "472bae32-6feb-44c6-d723-0ac5138162d5"
      },
      "source": [
        "s = 'hello'\n",
        "n = 0\n",
        "for i in s:\n",
        "    n += 1\n",
        "print(n)"
      ],
      "execution_count": null,
      "outputs": [
        {
          "output_type": "stream",
          "text": [
            "5\n"
          ],
          "name": "stdout"
        }
      ]
    },
    {
      "cell_type": "code",
      "metadata": {
        "id": "9Ww6UFcK3Wia",
        "colab_type": "code",
        "colab": {
          "base_uri": "https://localhost:8080/",
          "height": 35
        },
        "outputId": "bba22aaf-f532-4175-b632-7be3e94ad67b"
      },
      "source": [
        "bin(6)"
      ],
      "execution_count": null,
      "outputs": [
        {
          "output_type": "execute_result",
          "data": {
            "application/vnd.google.colaboratory.intrinsic+json": {
              "type": "string"
            },
            "text/plain": [
              "'0b110'"
            ]
          },
          "metadata": {
            "tags": []
          },
          "execution_count": 33
        }
      ]
    },
    {
      "cell_type": "code",
      "metadata": {
        "id": "hy4jbXCE6TPt",
        "colab_type": "code",
        "colab": {
          "base_uri": "https://localhost:8080/",
          "height": 34
        },
        "outputId": "32364925-bc90-4819-efd8-07b5b18026ff"
      },
      "source": [
        "a = 16\n",
        "b = 15\n",
        "\n",
        "max = a if a > b else b\n",
        "\n",
        "for i in range(max, -1, -1):\n",
        "  if a%i == 0 and b%i == 0:\n",
        "    val = i\n",
        "    break\n",
        "\n",
        "print(val)"
      ],
      "execution_count": null,
      "outputs": [
        {
          "output_type": "stream",
          "text": [
            "1\n"
          ],
          "name": "stdout"
        }
      ]
    },
    {
      "cell_type": "code",
      "metadata": {
        "id": "cBnsAlK38_tW",
        "colab_type": "code",
        "colab": {
          "base_uri": "https://localhost:8080/",
          "height": 128
        },
        "outputId": "4ec402f3-518a-4c36-9353-c1def2bc5fba"
      },
      "source": [
        "money = 1000\n",
        "year = 0\n",
        "yearly_multiplier = 1.06\n",
        "plan = 2000\n",
        "\n",
        "for i in range(money, plan+1,1):\n",
        "    if money < plan:\n",
        "        money = money * yearly_multiplier\n",
        "        year = year + 1\n",
        "        if year > 10:\n",
        "            print('Мы заберем', money, ' у.е. через 10 лет.')\n",
        "            break\n",
        "    else:\n",
        "        print('Деньги удвоятся через', year, 'лет.')\n",
        "        break"
      ],
      "execution_count": null,
      "outputs": [
        {
          "output_type": "error",
          "ename": "SyntaxError",
          "evalue": "ignored",
          "traceback": [
            "\u001b[0;36m  File \u001b[0;32m\"<ipython-input-72-79f89833a19f>\"\u001b[0;36m, line \u001b[0;32m1\u001b[0m\n\u001b[0;31m    float money = 1000\u001b[0m\n\u001b[0m              ^\u001b[0m\n\u001b[0;31mSyntaxError\u001b[0m\u001b[0;31m:\u001b[0m invalid syntax\n"
          ]
        }
      ]
    },
    {
      "cell_type": "code",
      "metadata": {
        "id": "3g514_7nDfMy",
        "colab_type": "code",
        "colab": {
          "base_uri": "https://localhost:8080/",
          "height": 34
        },
        "outputId": "1d7487cb-0bd4-4193-af78-f52cfff75905"
      },
      "source": [
        "money = 1000\n",
        "year = 0\n",
        "yearly_multiplier = 1.0543999\n",
        "\n",
        "while money < 2000:\n",
        "    money = money * yearly_multiplier\n",
        "    year = year + 1\n",
        "    if year > 10:\n",
        "            print('Мы заберем', money, ' у.е. через 10 лет.')\n",
        "            break\n",
        "else:\n",
        "    print('Деньги удвоятся через', year, 'лет.')"
      ],
      "execution_count": null,
      "outputs": [
        {
          "output_type": "stream",
          "text": [
            "Мы заберем 1790.8487852711523  у.е. через 10 лет.\n"
          ],
          "name": "stdout"
        }
      ]
    },
    {
      "cell_type": "code",
      "metadata": {
        "id": "E1skR4Z7HNZK",
        "colab_type": "code",
        "colab": {
          "base_uri": "https://localhost:8080/",
          "height": 34
        },
        "outputId": "f451aec9-48c3-4b69-bcc0-179bacf05bb2"
      },
      "source": [
        "money = 1000\n",
        "year = 0\n",
        "yearly_multiplier = 1.06\n",
        "\n",
        "while money < 2000:\n",
        "    money = money * yearly_multiplier\n",
        "    year = year + 1\n",
        "    if year > 10:\n",
        "            print('Мы заберем', money, ' у.е. через 10 лет.')\n",
        "            break\n",
        "else:\n",
        "    print('Деньги удвоятся через', year, 'лет.')"
      ],
      "execution_count": null,
      "outputs": [
        {
          "output_type": "stream",
          "text": [
            "Мы заберем 1898.298558335426  у.е. через 10 лет.\n"
          ],
          "name": "stdout"
        }
      ]
    },
    {
      "cell_type": "code",
      "metadata": {
        "id": "xwMGu0NhIDgM",
        "colab_type": "code",
        "colab": {
          "base_uri": "https://localhost:8080/",
          "height": 34
        },
        "outputId": "074d8f71-be8a-4ff9-f60c-da7a97567b27"
      },
      "source": [
        "n = 10\n",
        "sum = 0\n",
        "for i in range(1, n+1, 1):\n",
        "    if i%5 != 0:\n",
        "        sum += i\n",
        "    else:\n",
        "       continue \n",
        "\n",
        "print(sum)"
      ],
      "execution_count": null,
      "outputs": [
        {
          "output_type": "stream",
          "text": [
            "40\n"
          ],
          "name": "stdout"
        }
      ]
    },
    {
      "cell_type": "code",
      "metadata": {
        "id": "16xP_kB9AmSn",
        "colab_type": "code",
        "colab": {
          "base_uri": "https://localhost:8080/",
          "height": 437
        },
        "outputId": "acc8c0c0-a350-4612-957f-b244efbdc228"
      },
      "source": [
        "n = 100\n",
        "def is_prime(x):\n",
        "    for i in range(1, x):\n",
        "        if x%i == 0 and i != 1 and i != x:\n",
        "            return False\n",
        "    return True\n",
        "\n",
        "\n",
        "for i in range(2, n+1):\n",
        "    if is_prime(i):\n",
        "        print(i)"
      ],
      "execution_count": null,
      "outputs": [
        {
          "output_type": "stream",
          "text": [
            "2\n",
            "3\n",
            "5\n",
            "7\n",
            "11\n",
            "13\n",
            "17\n",
            "19\n",
            "23\n",
            "29\n",
            "31\n",
            "37\n",
            "41\n",
            "43\n",
            "47\n",
            "53\n",
            "59\n",
            "61\n",
            "67\n",
            "71\n",
            "73\n",
            "79\n",
            "83\n",
            "89\n",
            "97\n"
          ],
          "name": "stdout"
        }
      ]
    },
    {
      "cell_type": "code",
      "metadata": {
        "id": "j3a63NGiPx4-",
        "colab_type": "code",
        "colab": {
          "base_uri": "https://localhost:8080/",
          "height": 34
        },
        "outputId": "0dab141b-b785-4e8b-bb13-e4cdd72e0900"
      },
      "source": [
        "def greet(name):\n",
        "    print('Hello, '+name+'!')\n",
        "\n",
        "greet('world')"
      ],
      "execution_count": null,
      "outputs": [
        {
          "output_type": "stream",
          "text": [
            "Hello, world!\n"
          ],
          "name": "stdout"
        }
      ]
    },
    {
      "cell_type": "code",
      "metadata": {
        "id": "xIRCqFgPM7e5",
        "colab_type": "code",
        "colab": {
          "base_uri": "https://localhost:8080/",
          "height": 34
        },
        "outputId": "900dbca6-3d16-427d-d85e-fe3fe65b52d6"
      },
      "source": [
        "import random\n",
        "#from math import sqrt\n",
        "\n",
        "def avg_of_random_numbers(n):\n",
        "  sum = 0\n",
        "  for i in range(n):\n",
        "    sum += random.random()\n",
        "  return round(sum/n, 1)\n",
        "\n",
        "#print(avg_of_random_numbers(1000));\n",
        "\n",
        "def get_normal_random(n):\n",
        "  avg = avg_of_random_numbers(n)\n",
        "  return (0.5-avg)*(12*n)**0.5\n",
        "\n",
        "#print(get_normal_random(1000))\n",
        "\n",
        "def calc_mean(n,m)\n",
        "  norm = get_normal_random(n)\n",
        "  \n",
        "\n",
        "def calc_var(n,m)\n"
      ],
      "execution_count": null,
      "outputs": [
        {
          "output_type": "stream",
          "text": [
            "0.0\n"
          ],
          "name": "stdout"
        }
      ]
    },
    {
      "cell_type": "code",
      "metadata": {
        "id": "XafE6vJbGsd6",
        "colab_type": "code",
        "colab": {
          "base_uri": "https://localhost:8080/",
          "height": 50
        },
        "outputId": "bf18a871-1346-4e59-c0b1-ad381e8f353c"
      },
      "source": [
        "%%time\n",
        "sum=0\n",
        "for i in range(10000000):\n",
        "  sum+=i"
      ],
      "execution_count": null,
      "outputs": [
        {
          "output_type": "stream",
          "text": [
            "CPU times: user 1.12 s, sys: 133 µs, total: 1.12 s\n",
            "Wall time: 1.12 s\n"
          ],
          "name": "stdout"
        }
      ]
    },
    {
      "cell_type": "code",
      "metadata": {
        "id": "MTH2arMTYepD",
        "colab_type": "code",
        "colab": {
          "base_uri": "https://localhost:8080/",
          "height": 319
        },
        "outputId": "38460061-70e6-4063-c5d3-65dafefd854f"
      },
      "source": [
        "%%time\n",
        "def primes(n):\n",
        "    print(n)\n",
        "    sieve = [True] * n\n",
        "    print(sieve)\n",
        "    print(int(n**0.5))\n",
        "    print('##############')\n",
        "    for i in range(3,int(n**0.5)+1,2):\n",
        "        print(i)\n",
        "        if sieve[i]:\n",
        "            print(sieve[i*i::2*i],'====',[False]*((n-i*i-1)//(2*i)+1))\n",
        "            sieve[i*i::2*i]=[False]*((n-i*i-1)//(2*i)+1)\n",
        "    print([2] + [i for i in range(3,n,2) if sieve[i]])\n",
        "    return [2] + [i for i in range(3,n,2) if sieve[i]]\n",
        "\n",
        "\n",
        "def primes1(n):\n",
        "    stack = [True] * (n//2)\n",
        "    for i in range(3,int(n**0.5)+1,2):\n",
        "        if stack[i//2]:\n",
        "            stack[i*i//2::i] = [False] * ((n-i*i-1)//(2*i)+1)\n",
        "    return [2] + [2*i+1 for i in range(1,n//2) if stack[i]]\n",
        "\n",
        "\n",
        "\n",
        "\n",
        "\n",
        "list1 = primes(20)\n",
        "print('++++++++++++++++++')\n",
        "for i in list1:\n",
        "  print(str(i))"
      ],
      "execution_count": null,
      "outputs": [
        {
          "output_type": "stream",
          "text": [
            "++++++++++++++++++\n",
            "20\n",
            "[True, True, True, True, True, True, True, True, True, True, True, True, True, True, True, True, True, True, True, True]\n",
            "4\n",
            "##############\n",
            "3\n",
            "[True, True] ==== [False, False]\n",
            "[2, 3, 5, 7, 11, 13, 17, 19]\n",
            "2\n",
            "3\n",
            "5\n",
            "7\n",
            "11\n",
            "13\n",
            "17\n",
            "19\n",
            "CPU times: user 3.04 ms, sys: 0 ns, total: 3.04 ms\n",
            "Wall time: 2.6 ms\n"
          ],
          "name": "stdout"
        }
      ]
    },
    {
      "cell_type": "code",
      "metadata": {
        "id": "G3N2DDpaCe48",
        "colab_type": "code",
        "colab": {
          "base_uri": "https://localhost:8080/",
          "height": 87
        },
        "outputId": "d2ba9f53-d479-446e-9281-feb69cfa884c"
      },
      "source": [
        "%%time\n",
        "x1 = 1\n",
        "x3 = 3\n",
        "x7 = 7\n",
        "x9 = 9\n",
        "l = 200\n",
        "d = list(range(2,l,2))\n",
        "\n",
        "def get_primes(n):\n",
        "  s1 = True\n",
        "  s3 = True\n",
        "  s7 = True\n",
        "  s9 = True\n",
        "  stack = []\n",
        "  for i in d[:n:]:\n",
        "    #print(i)\n",
        "    if (s1 and (n+x1)%(i+1) == 0):\n",
        "      s1 = False\n",
        "    #if (s3 and (n+x3)%(i+1) == 0):\n",
        "      #s3 = False\n",
        "    #if (s7 and (n+x7)%(i+1) == 0):\n",
        "      #s7 = False\n",
        "    #if (s9 and (n+x9)%(i+1) == 0):\n",
        "      #s9 = False\n",
        "  #if(s1):\n",
        "    #stack.append(n+x1)\n",
        "  #if(s3):\n",
        "    #stack.append(n+x3)\n",
        "  #if(s7):\n",
        "    #stack.append(n+x7)\n",
        "  #if(s9):\n",
        "    #stack.append(n+x9)\n",
        "  return stack\n",
        "\n",
        "for i in range(10, l, 10):\n",
        "  current_primes = get_primes(i)\n",
        "  #print(current_primes)\n",
        "\n"
      ],
      "execution_count": 138,
      "outputs": [
        {
          "output_type": "stream",
          "text": [
            "[2, 4, 6, 8, 10, 12, 14, 16, 18, 20, 22, 24, 26, 28, 30, 32, 34, 36, 38, 40, 42, 44, 46, 48, 50, 52, 54, 56, 58, 60, 62, 64, 66, 68, 70, 72, 74, 76, 78, 80, 82, 84, 86, 88, 90, 92, 94, 96, 98, 100, 102, 104, 106, 108, 110, 112, 114, 116, 118, 120, 122, 124, 126, 128, 130, 132, 134, 136, 138, 140, 142, 144, 146, 148, 150, 152, 154, 156, 158, 160, 162, 164, 166, 168, 170, 172, 174, 176, 178, 180, 182, 184, 186, 188, 190, 192, 194, 196, 198]\n",
            "CPU times: user 6.61 ms, sys: 999 µs, total: 7.61 ms\n",
            "Wall time: 7.79 ms\n"
          ],
          "name": "stdout"
        }
      ]
    },
    {
      "cell_type": "code",
      "metadata": {
        "id": "7e1ascIoCmZE",
        "colab_type": "code",
        "colab": {
          "base_uri": "https://localhost:8080/",
          "height": 94
        },
        "outputId": "accdcb4a-3ff7-4c43-dd69-15764b4fa82b"
      },
      "source": [
        "%%time\n",
        "\n",
        "max_num = 50\n",
        "nums = list(range(1,max_num,2))\n",
        "del nums[0]\n",
        "#current_nums = nums\n",
        "\n",
        "print(nums)\n",
        "#print(enumerate(nums))\n",
        "\n",
        "\n",
        "def exclude_non_prime(num, v1):\n",
        "  keys = []\n",
        "  for n, v in enumerate(nums[num::]):\n",
        "    print(n,v,num)\n",
        "    if (v%v1 == 0 and v != v1):\n",
        "      print('----here')\n",
        "      print(n,v,num)\n",
        "      print('-------')\n",
        "      keys.append(n)\n",
        "      #del nums[num+n]\n",
        "  #for key in keys:\n",
        "    #del nums[key]\n",
        "      \n",
        "\n",
        "for num, value in enumerate(nums):\n",
        "  exclude_non_prime(num, value)\n",
        "\n",
        "#print(len(nums))\n",
        "print(nums)\n",
        "\n",
        "\n"
      ],
      "execution_count": 250,
      "outputs": [
        {
          "output_type": "error",
          "ename": "SyntaxError",
          "evalue": "ignored",
          "traceback": [
            "\u001b[0;36m  File \u001b[0;32m\"<unknown>\"\u001b[0;36m, line \u001b[0;32m31\u001b[0m\n\u001b[0;31mSyntaxError\u001b[0m\u001b[0;31m:\u001b[0m can't delete function call\n"
          ]
        }
      ]
    }
  ]
}