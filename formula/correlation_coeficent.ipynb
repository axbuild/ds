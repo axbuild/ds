{
 "metadata": {
  "language_info": {
   "codemirror_mode": {
    "name": "ipython",
    "version": 3
   },
   "file_extension": ".py",
   "mimetype": "text/x-python",
   "name": "python",
   "nbconvert_exporter": "python",
   "pygments_lexer": "ipython3",
   "version": "3.7.5-final"
  },
  "orig_nbformat": 2,
  "kernelspec": {
   "name": "python3",
   "display_name": "Python 3"
  }
 },
 "nbformat": 4,
 "nbformat_minor": 2,
 "cells": [
  {
   "source": [
    "# Корреляция\n",
    "\n",
    "$$\n",
    "R_{ij} = \\frac{ C_{ij} } { \\sqrt{ C_{ii} * C_{jj} } }\n",
    "$$\n",
    "\n",
    "<a href=\"https://coderoad.ru/3949226/%D0%92%D1%8B%D1%87%D0%B8%D1%81%D0%BB%D0%B5%D0%BD%D0%B8%D0%B5-%D0%BA%D0%BE%D1%80%D1%80%D0%B5%D0%BB%D1%8F%D1%86%D0%B8%D0%B8-%D0%9F%D0%B8%D1%80%D1%81%D0%BE%D0%BD%D0%B0-%D0%B8-%D0%B7%D0%BD%D0%B0%D1%87%D0%B8%D0%BC%D0%BE%D1%81%D1%82%D0%B8-%D0%B2-Python\">link</a>"
   ],
   "cell_type": "markdown",
   "metadata": {}
  },
  {
   "cell_type": "code",
   "execution_count": 14,
   "metadata": {},
   "outputs": [],
   "source": [
    "import math\n",
    "\n",
    "# calculates the mean\n",
    "def mean(x):\n",
    "    sum = 0.0\n",
    "    for i in x:\n",
    "         sum += i\n",
    "    return sum / len(x) \n",
    "\n",
    "# calculates the sample standard deviation\n",
    "def sampleStandardDeviation(x):\n",
    "    sumv = 0.0\n",
    "    for i in x:\n",
    "         sumv += (i - mean(x))**2\n",
    "    return math.sqrt(sumv/(len(x)-1))\n",
    "\n",
    "# calculates the PCC using both the 2 functions above\n",
    "def pearson(x,y):\n",
    "    scorex = []\n",
    "    scorey = []\n",
    "\n",
    "    for i in x: \n",
    "        scorex.append((i - mean(x))/sampleStandardDeviation(x)) \n",
    "\n",
    "    for j in y:\n",
    "        scorey.append((j - mean(y))/sampleStandardDeviation(y))\n",
    "\n",
    "# multiplies both lists together into 1 list (hence zip) and sums the whole list   \n",
    "    return (sum([i*j for i,j in zip(scorex,scorey)]))/(len(x)-1)"
   ]
  },
  {
   "cell_type": "code",
   "execution_count": 16,
   "metadata": {},
   "outputs": [
    {
     "output_type": "execute_result",
     "data": {
      "text/plain": [
       "0.900698055327745"
      ]
     },
     "metadata": {},
     "execution_count": 16
    }
   ],
   "source": [
    "import numpy as np \n",
    "data = np.array([[0.9, 0.8], [-0.7, -0.4], [0.3, 0.9]])\n",
    "x = data[:,0]#first col\n",
    "y = data[:,1]#second col\n",
    "pearson(x,y)"
   ]
  },
  {
   "cell_type": "code",
   "execution_count": 18,
   "metadata": {},
   "outputs": [
    {
     "output_type": "execute_result",
     "data": {
      "text/plain": [
       "0.9006980553277449"
      ]
     },
     "metadata": {},
     "execution_count": 18
    }
   ],
   "source": [
    "import numpy as np \n",
    "\n",
    "def corr_channels(data):\n",
    "    x = data[:,0]#first col\n",
    "    y = data[:,1]#second col\n",
    "    return np.corrcoef(x,y)[0,1]\n",
    "\n",
    "corr_channels(data)"
   ]
  },
  {
   "cell_type": "code",
   "execution_count": null,
   "metadata": {},
   "outputs": [],
   "source": []
  }
 ]
}