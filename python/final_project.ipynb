{
 "metadata": {
  "language_info": {
   "codemirror_mode": {
    "name": "ipython",
    "version": 3
   },
   "file_extension": ".py",
   "mimetype": "text/x-python",
   "name": "python",
   "nbconvert_exporter": "python",
   "pygments_lexer": "ipython3",
   "version": "3.7.5-final"
  },
  "orig_nbformat": 2,
  "kernelspec": {
   "name": "python3",
   "display_name": "Python 3"
  }
 },
 "nbformat": 4,
 "nbformat_minor": 2,
 "cells": [
  {
   "source": [
    "* Sample input: signal=[[1, 2, 1, 2, 1], [-1, 1, -3, 2, 3], [0, 1, 4, 2, 1]], threshold=2\n",
    "* Sample output: [[1, 2, 1, 0, 0], [-1, 1, -3, 0, 0], [0, 1, 4, 0, 0]]"
   ],
   "cell_type": "markdown",
   "metadata": {}
  },
  {
   "cell_type": "code",
   "execution_count": 14,
   "metadata": {},
   "outputs": [
    {
     "output_type": "execute_result",
     "data": {
      "text/plain": [
       "array([[ 1,  2,  1,  0,  0],\n",
       "       [-1,  1, -3,  0,  0],\n",
       "       [ 0,  1,  4,  0,  0]])"
      ]
     },
     "metadata": {},
     "execution_count": 14
    }
   ],
   "source": [
    "import numpy as np \n",
    "\n",
    "def filter_freq(signal, threshold):\n",
    "    #return np.where(signal <= threshold, signal, 0)\n",
    "    signal[:,threshold+1:] = 0\n",
    "    return signal\n",
    "\n",
    "signal = np.array([[1, 2, 1, 2, 1], [-1, 1, -3, 2, 3], [0, 1, 4, 2, 1]])\n",
    "threshold = 2\n",
    "\n",
    "filter_freq(signal, threshold)\n"
   ]
  },
  {
   "cell_type": "code",
   "execution_count": null,
   "metadata": {},
   "outputs": [],
   "source": []
  }
 ]
}