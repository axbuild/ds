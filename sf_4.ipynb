{
  "nbformat": 4,
  "nbformat_minor": 0,
  "metadata": {
    "colab": {
      "name": "sf_4.ipynb",
      "provenance": [],
      "authorship_tag": "ABX9TyPB4iirkcyiV+XGrPU4WCHP",
      "include_colab_link": true
    },
    "kernelspec": {
      "name": "python3",
      "display_name": "Python 3"
    }
  },
  "cells": [
    {
      "cell_type": "markdown",
      "metadata": {
        "id": "view-in-github",
        "colab_type": "text"
      },
      "source": [
        "<a href=\"https://colab.research.google.com/github/axbuild/ds/blob/master/sf_4.ipynb\" target=\"_parent\"><img src=\"https://colab.research.google.com/assets/colab-badge.svg\" alt=\"Open In Colab\"/></a>"
      ]
    },
    {
      "cell_type": "code",
      "metadata": {
        "id": "4mRHSzlxq1uS",
        "outputId": "55e5fc91-4e4c-493f-aa70-4a2b04385b61",
        "colab": {
          "base_uri": "https://localhost:8080/",
          "height": 151
        }
      },
      "source": [
        "import pandas as pd\n",
        "\n",
        "data = pd.Series([\"Январь\", \"Февраль\", \"Март\", \"Апрель\"],\n",
        "            index = ['Первый', \"Второй\", \"Третий\", \"Четвёртый\"])\n",
        "print(data)\n",
        "print(data.loc[[\"Первый\", \"Третий\"]])"
      ],
      "execution_count": 3,
      "outputs": [
        {
          "output_type": "stream",
          "text": [
            "Первый        Январь\n",
            "Второй       Февраль\n",
            "Третий          Март\n",
            "Четвёртый     Апрель\n",
            "dtype: object\n",
            "Первый    Январь\n",
            "Третий      Март\n",
            "dtype: object\n"
          ],
          "name": "stdout"
        }
      ]
    },
    {
      "cell_type": "code",
      "metadata": {
        "id": "sQ2_duxWsk9y",
        "outputId": "44693da3-2252-4682-8db9-2a9631fc3e87",
        "colab": {
          "base_uri": "https://localhost:8080/",
          "height": 50
        }
      },
      "source": [
        "import pandas as pd\n",
        "\n",
        "s = pd.Series([\"Ivanov\", \"Moscow\"], index=[\"name\", \"city\"])\n",
        "print(\"name\" in s)     # True, такой ключ есть\n",
        "print(\"Ivanov\" in s)    # False, такого ключа нет, это значение"
      ],
      "execution_count": 7,
      "outputs": [
        {
          "output_type": "stream",
          "text": [
            "True\n",
            "False\n"
          ],
          "name": "stdout"
        }
      ]
    },
    {
      "cell_type": "code",
      "metadata": {
        "id": "WVVmnRHpvzq3",
        "outputId": "d99dce83-8aeb-4f77-91ba-358a9cf994f2",
        "colab": {
          "base_uri": "https://localhost:8080/",
          "height": 34
        }
      },
      "source": [
        "import pandas as pd\n",
        "\n",
        "s = pd.Series([\"Bo\", \"Ba\"], index=[\"name\", \"city\"])\n",
        "\n",
        "def extract_values(row, keys):\n",
        "  return row[keys].tolist()\n",
        "\n",
        "extract_values(s, [\"city\"])"
      ],
      "execution_count": 12,
      "outputs": [
        {
          "output_type": "execute_result",
          "data": {
            "text/plain": [
              "['Ba']"
            ]
          },
          "metadata": {
            "tags": []
          },
          "execution_count": 12
        }
      ]
    },
    {
      "cell_type": "code",
      "metadata": {
        "id": "NxRzTYrmxqZV",
        "outputId": "84289873-f32a-457f-d9f3-2630fddc480b",
        "colab": {
          "base_uri": "https://localhost:8080/",
          "height": 34
        }
      },
      "source": [
        "import pandas as pd\n",
        "\n",
        "s = pd.Series([\"Bo\", \"Ba\"], index=[\"name\", \"city\"])\n",
        "\n",
        "def extract_values_by_idx(row, idxs):\n",
        "  return row.iloc[idxs].tolist()\n",
        "\n",
        "extract_values_by_idx(s, [1])"
      ],
      "execution_count": 23,
      "outputs": [
        {
          "output_type": "execute_result",
          "data": {
            "text/plain": [
              "['Ba']"
            ]
          },
          "metadata": {
            "tags": []
          },
          "execution_count": 23
        }
      ]
    },
    {
      "cell_type": "code",
      "metadata": {
        "id": "STClUc1syxYI",
        "outputId": "04324c96-3b50-465f-aaf2-637207e279ac",
        "colab": {
          "base_uri": "https://localhost:8080/",
          "height": 35
        }
      },
      "source": [
        "import pandas as pd\n",
        "\n",
        "s = pd.Series([\"Abc\", \"Def\"], index=[\"name\", \"city\"])\n",
        "\n",
        "def get_or_default(row, key, default):\n",
        "  return row[key] if key in row else default\n",
        "\n",
        "get_or_default(s, \"salary\", 50)\n",
        "get_or_default(s, \"city\", \"Mos\")"
      ],
      "execution_count": 36,
      "outputs": [
        {
          "output_type": "execute_result",
          "data": {
            "application/vnd.google.colaboratory.intrinsic+json": {
              "type": "string"
            },
            "text/plain": [
              "'Def'"
            ]
          },
          "metadata": {
            "tags": []
          },
          "execution_count": 36
        }
      ]
    },
    {
      "cell_type": "code",
      "metadata": {
        "id": "7dhH1RIp2Cwj",
        "outputId": "3c25ecf3-3a5b-4103-a0c6-afdcd5e79169",
        "colab": {
          "base_uri": "https://localhost:8080/",
          "height": 67
        }
      },
      "source": [
        "data = pd.DataFrame([['Иванов', 100, 'Сочи'], ['Петров', 200, 'Москва']])\n",
        "print(data)"
      ],
      "execution_count": 37,
      "outputs": [
        {
          "output_type": "stream",
          "text": [
            "        0    1       2\n",
            "0  Иванов  100    Сочи\n",
            "1  Петров  200  Москва\n"
          ],
          "name": "stdout"
        }
      ]
    },
    {
      "cell_type": "code",
      "metadata": {
        "id": "49PV8xny2IKH",
        "outputId": "4e7fc034-7644-4482-d9c9-109e2dacae2a",
        "colab": {
          "base_uri": "https://localhost:8080/",
          "height": 67
        }
      },
      "source": [
        "!curl \"https://pandas.pydata.org/pandas-docs/stable/reference/api/pandas.read_excel.html\" > data.xlsx"
      ],
      "execution_count": 41,
      "outputs": [
        {
          "output_type": "stream",
          "text": [
            "  % Total    % Received % Xferd  Average Speed   Time    Time     Time  Current\n",
            "                                 Dload  Upload   Total   Spent    Left  Speed\n",
            "100 34627    0 34627    0     0  48770      0 --:--:-- --:--:-- --:--:-- 48770\n"
          ],
          "name": "stdout"
        }
      ]
    },
    {
      "cell_type": "code",
      "metadata": {
        "id": "70TBnlce2ULk"
      },
      "source": [
        "import pandas as pd\n",
        "data = pd.read_excel('data.xlsx')\n",
        "print(data)\n",
        "data = pd.read_csv('people.csv', names=['Фамилия', 'Зарплата', 'Город'])\n",
        "print(data)\n",
        "print(data.head())\n",
        "print(data.tail(1))"
      ],
      "execution_count": null,
      "outputs": []
    },
    {
      "cell_type": "markdown",
      "metadata": {
        "id": "lslqcVLbfSJO"
      },
      "source": [
        "Давайте создадим таблицу со случайными данными: первый столбец будет иметь равномерное распределение на отрезке [0, 1], а второй - нормальное распределение с параметрами (mu=3, sigma=2):"
      ]
    },
    {
      "cell_type": "code",
      "metadata": {
        "id": "WzqpBnduwolg",
        "outputId": "5de49b9f-5fbe-4b1b-eda8-c768f3332403",
        "colab": {
          "base_uri": "https://localhost:8080/",
          "height": 437
        }
      },
      "source": [
        "import random as random\n",
        "import pandas as pd\n",
        "\n",
        "data = [[random.random(), random.gauss(3, 2)] for _ in range(10000)]\n",
        "data = pd.DataFrame(data, columns=['uniform', 'gauss_3_2'])\n",
        "print(data.head())\n",
        "print(data.info())\n",
        "print(data.describe())"
      ],
      "execution_count": 3,
      "outputs": [
        {
          "output_type": "stream",
          "text": [
            "    uniform  gauss_3_2\n",
            "0  0.519841   3.550109\n",
            "1  0.566451   2.376845\n",
            "2  0.802302   3.769845\n",
            "3  0.865021   3.315956\n",
            "4  0.870498   4.788750\n",
            "<class 'pandas.core.frame.DataFrame'>\n",
            "RangeIndex: 10000 entries, 0 to 9999\n",
            "Data columns (total 2 columns):\n",
            " #   Column     Non-Null Count  Dtype  \n",
            "---  ------     --------------  -----  \n",
            " 0   uniform    10000 non-null  float64\n",
            " 1   gauss_3_2  10000 non-null  float64\n",
            "dtypes: float64(2)\n",
            "memory usage: 156.4 KB\n",
            "None\n",
            "            uniform     gauss_3_2\n",
            "count  10000.000000  10000.000000\n",
            "mean       0.495432      2.985961\n",
            "std        0.288179      2.001156\n",
            "min        0.000237     -4.245815\n",
            "25%        0.247035      1.645766\n",
            "50%        0.494388      2.949255\n",
            "75%        0.742474      4.306669\n",
            "max        0.999724     10.697065\n"
          ],
          "name": "stdout"
        }
      ]
    },
    {
      "cell_type": "code",
      "metadata": {
        "id": "-R6OI561eGCj",
        "outputId": "5d4c7f60-40d3-46bd-e578-57cbef47e44b",
        "colab": {
          "base_uri": "https://localhost:8080/",
          "height": 343
        }
      },
      "source": [
        "import pandas as pd\n",
        "import random as random\n",
        "\n",
        "def random_table(a, b, n):\n",
        "  data = [[random.uniform(a,b)] for x in range(n)]\n",
        "  df = pd.DataFrame(data, columns=['uniform'])\n",
        "  return df\n",
        "\n",
        "\n",
        "random_table(5,10,10)"
      ],
      "execution_count": 15,
      "outputs": [
        {
          "output_type": "execute_result",
          "data": {
            "text/html": [
              "<div>\n",
              "<style scoped>\n",
              "    .dataframe tbody tr th:only-of-type {\n",
              "        vertical-align: middle;\n",
              "    }\n",
              "\n",
              "    .dataframe tbody tr th {\n",
              "        vertical-align: top;\n",
              "    }\n",
              "\n",
              "    .dataframe thead th {\n",
              "        text-align: right;\n",
              "    }\n",
              "</style>\n",
              "<table border=\"1\" class=\"dataframe\">\n",
              "  <thead>\n",
              "    <tr style=\"text-align: right;\">\n",
              "      <th></th>\n",
              "      <th>uniform</th>\n",
              "    </tr>\n",
              "  </thead>\n",
              "  <tbody>\n",
              "    <tr>\n",
              "      <th>0</th>\n",
              "      <td>9.390034</td>\n",
              "    </tr>\n",
              "    <tr>\n",
              "      <th>1</th>\n",
              "      <td>9.308216</td>\n",
              "    </tr>\n",
              "    <tr>\n",
              "      <th>2</th>\n",
              "      <td>5.236293</td>\n",
              "    </tr>\n",
              "    <tr>\n",
              "      <th>3</th>\n",
              "      <td>6.537743</td>\n",
              "    </tr>\n",
              "    <tr>\n",
              "      <th>4</th>\n",
              "      <td>6.238053</td>\n",
              "    </tr>\n",
              "    <tr>\n",
              "      <th>5</th>\n",
              "      <td>6.234465</td>\n",
              "    </tr>\n",
              "    <tr>\n",
              "      <th>6</th>\n",
              "      <td>7.647763</td>\n",
              "    </tr>\n",
              "    <tr>\n",
              "      <th>7</th>\n",
              "      <td>6.460532</td>\n",
              "    </tr>\n",
              "    <tr>\n",
              "      <th>8</th>\n",
              "      <td>9.728975</td>\n",
              "    </tr>\n",
              "    <tr>\n",
              "      <th>9</th>\n",
              "      <td>9.158058</td>\n",
              "    </tr>\n",
              "  </tbody>\n",
              "</table>\n",
              "</div>"
            ],
            "text/plain": [
              "    uniform\n",
              "0  9.390034\n",
              "1  9.308216\n",
              "2  5.236293\n",
              "3  6.537743\n",
              "4  6.238053\n",
              "5  6.234465\n",
              "6  7.647763\n",
              "7  6.460532\n",
              "8  9.728975\n",
              "9  9.158058"
            ]
          },
          "metadata": {
            "tags": []
          },
          "execution_count": 15
        }
      ]
    },
    {
      "cell_type": "code",
      "metadata": {
        "id": "08xcatLALy6m",
        "outputId": "7ee54aeb-91dc-4199-9c64-954846d58996",
        "colab": {
          "base_uri": "https://localhost:8080/",
          "height": 34
        }
      },
      "source": [
        "import pandas as pd\n",
        "\n",
        "def word_count(word):\n",
        "  data = pd.read_csv('data/war_peace_processed.txt')\n",
        "  words = data['1'].value_counts()\n",
        "  return words[word]\n",
        "\n",
        "word_count('что')"
      ],
      "execution_count": 19,
      "outputs": [
        {
          "output_type": "execute_result",
          "data": {
            "text/plain": [
              "5097"
            ]
          },
          "metadata": {
            "tags": []
          },
          "execution_count": 19
        }
      ]
    },
    {
      "cell_type": "code",
      "metadata": {
        "id": "HTD6d1fyj1Om",
        "outputId": "e2fe108f-df7f-462a-981d-6ff889c18eaf",
        "colab": {
          "base_uri": "https://localhost:8080/",
          "height": 35
        }
      },
      "source": [
        "import pandas as pd\n",
        "\n",
        "def word_with_count(count):\n",
        "  data = pd.read_csv('data/war_peace_processed.txt')\n",
        "  words = data['1'].value_counts()\n",
        "  return words[words==count].keys()[0]\n",
        "\n",
        "word_with_count(5097)"
      ],
      "execution_count": 38,
      "outputs": [
        {
          "output_type": "execute_result",
          "data": {
            "application/vnd.google.colaboratory.intrinsic+json": {
              "type": "string"
            },
            "text/plain": [
              "'что'"
            ]
          },
          "metadata": {
            "tags": []
          },
          "execution_count": 38
        }
      ]
    },
    {
      "cell_type": "code",
      "metadata": {
        "id": "sXlzvgM5_IjX",
        "outputId": "091bb920-456d-4a9a-ba0a-d41c5fa82a92",
        "colab": {
          "base_uri": "https://localhost:8080/",
          "height": 386
        }
      },
      "source": [
        "import requests\n",
        "import pandas as pd\n",
        "\n",
        "data = pd.read_csv('titanic.csv')\n",
        "#print(data.describe())\n",
        "print(data[\"Survived\"].mean())\n",
        "print(data.groupby('Sex')[\"Survived\"].mean())\n",
        "print(data.groupby(['Sex', 'Class'])[\"Survived\"].mean())\n",
        "print(data.groupby(['Sex', 'Class'])[\"Age\"].median())\n",
        "obj = data.groupby(['Class', 'Survived'])[\"Age\"].quantile(0.9)\n",
        "print(obj[2.0, 1.0])   # здесь 2.0 - класс, а 1.0 - признак того, что пассажир выжил"
      ],
      "execution_count": 51,
      "outputs": [
        {
          "output_type": "stream",
          "text": [
            "0.3838383838383838\n",
            "Sex\n",
            "female    0.742038\n",
            "male      0.188908\n",
            "Name: Survived, dtype: float64\n",
            "Sex     Class\n",
            "female  1.0      0.968421\n",
            "        2.0      0.920000\n",
            "        3.0      0.496503\n",
            "male    1.0      0.368852\n",
            "        2.0      0.158879\n",
            "        3.0      0.135447\n",
            "Name: Survived, dtype: float64\n",
            "Sex     Class\n",
            "female  1.0      36.0\n",
            "        2.0      28.0\n",
            "        3.0      22.0\n",
            "male    1.0      41.5\n",
            "        2.0      30.0\n",
            "        3.0      25.0\n",
            "Name: Age, dtype: float64\n",
            "44.70000000000002\n"
          ],
          "name": "stdout"
        }
      ]
    },
    {
      "cell_type": "code",
      "metadata": {
        "id": "HqHkOIOUBvxO"
      },
      "source": [
        "import pandas as pd\n",
        "\n",
        "def avg_price(data, city, type):\n",
        "  "
      ],
      "execution_count": null,
      "outputs": []
    }
  ]
}