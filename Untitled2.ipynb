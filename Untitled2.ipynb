{
  "nbformat": 4,
  "nbformat_minor": 0,
  "metadata": {
    "colab": {
      "name": "Untitled2.ipynb",
      "provenance": [],
      "authorship_tag": "ABX9TyM3re8QjJZqX7vSbj5YS/9H",
      "include_colab_link": true
    },
    "kernelspec": {
      "name": "python3",
      "display_name": "Python 3"
    }
  },
  "cells": [
    {
      "cell_type": "markdown",
      "metadata": {
        "id": "view-in-github",
        "colab_type": "text"
      },
      "source": [
        "<a href=\"https://colab.research.google.com/github/axbuild/ds/blob/master/Untitled2.ipynb\" target=\"_parent\"><img src=\"https://colab.research.google.com/assets/colab-badge.svg\" alt=\"Open In Colab\"/></a>"
      ]
    },
    {
      "cell_type": "code",
      "metadata": {
        "id": "pbvz7pPkPULY",
        "colab_type": "code",
        "colab": {
          "base_uri": "https://localhost:8080/",
          "height": 67
        },
        "outputId": "b6392337-b2a9-4001-e72f-e143a7105ba9"
      },
      "source": [
        "%%time\n",
        "query = ['Олег', 'Ольга', 'Юлия', 'Елена']\n",
        "c=query[0]\n",
        "del query[0]\n",
        "query.append(c)\n",
        "print(query)"
      ],
      "execution_count": null,
      "outputs": [
        {
          "output_type": "stream",
          "text": [
            "['Ольга', 'Юлия', 'Елена', 'Олег']\n",
            "CPU times: user 364 µs, sys: 24 µs, total: 388 µs\n",
            "Wall time: 329 µs\n"
          ],
          "name": "stdout"
        }
      ]
    },
    {
      "cell_type": "code",
      "metadata": {
        "id": "ZplRvasiN6Ch",
        "colab_type": "code",
        "colab": {
          "base_uri": "https://localhost:8080/",
          "height": 67
        },
        "outputId": "91ded144-a260-4f5a-d719-651f1e1b0f2b"
      },
      "source": [
        "%%time\n",
        "query = ['Олег', 'Ольга', 'Юлия', 'Елена']\n",
        "query_out = query[1::]\n",
        "query_out.append(query[0])\n",
        "print(query_out)"
      ],
      "execution_count": null,
      "outputs": [
        {
          "output_type": "stream",
          "text": [
            "['Ольга', 'Юлия', 'Елена', 'Олег']\n",
            "CPU times: user 62 µs, sys: 13 µs, total: 75 µs\n",
            "Wall time: 78.9 µs\n"
          ],
          "name": "stdout"
        }
      ]
    },
    {
      "cell_type": "code",
      "metadata": {
        "id": "msiPmp1mZxu1",
        "colab_type": "code",
        "colab": {
          "base_uri": "https://localhost:8080/",
          "height": 34
        },
        "outputId": "785d1558-2dce-449e-82e0-617076e8e2cb"
      },
      "source": [
        "current = ['Бегунова', 'Власова', 'Кашин', 'Васин']\n",
        "previous = ['Васин', 'Агарков', 'Нархова']\n",
        "\n",
        "for i,v in enumerate(current):\n",
        "    if v in previous:\n",
        "        current.pop(i)\n",
        " \n",
        "print(current)\n"
      ],
      "execution_count": null,
      "outputs": [
        {
          "output_type": "stream",
          "text": [
            "['Бегунова', 'Власова', 'Кашин']\n"
          ],
          "name": "stdout"
        }
      ]
    },
    {
      "cell_type": "code",
      "metadata": {
        "id": "oA7ITfX_3_Sz",
        "colab_type": "code",
        "colab": {
          "base_uri": "https://localhost:8080/",
          "height": 34
        },
        "outputId": "5d8beb27-1afe-4c34-99f1-9f4b30eac823"
      },
      "source": [
        "exp = [0.5, 0.6, 0.6, 0.1]\n",
        "exp[-1] = None\n",
        "print(exp)"
      ],
      "execution_count": null,
      "outputs": [
        {
          "output_type": "stream",
          "text": [
            "[0.5, 0.6, 0.6, None]\n"
          ],
          "name": "stdout"
        }
      ]
    },
    {
      "cell_type": "code",
      "metadata": {
        "id": "evSIA3p366EY",
        "colab_type": "code",
        "colab": {
          "base_uri": "https://localhost:8080/",
          "height": 34
        },
        "outputId": "55ae4cd7-2d63-4f8e-9dcf-39d5ab6cd830"
      },
      "source": [
        "lst_1 = ['a', 'b', 'c']\n",
        "lst_2 = ['1', '2', '3']\n",
        "lst_1[1] = lst_2[1]\n",
        "print(lst_1)"
      ],
      "execution_count": null,
      "outputs": [
        {
          "output_type": "stream",
          "text": [
            "['a', '2', 'c']\n"
          ],
          "name": "stdout"
        }
      ]
    },
    {
      "cell_type": "code",
      "metadata": {
        "id": "zy7f_zNk8zwQ",
        "colab_type": "code",
        "colab": {
          "base_uri": "https://localhost:8080/",
          "height": 34
        },
        "outputId": "3ca658c7-2f02-461e-90ae-daed3d18d839"
      },
      "source": [
        "lst = [1, 2, 3]\n",
        "print(lst+lst[::-1])"
      ],
      "execution_count": null,
      "outputs": [
        {
          "output_type": "stream",
          "text": [
            "[1, 2, 3, 3, 2, 1]\n"
          ],
          "name": "stdout"
        }
      ]
    },
    {
      "cell_type": "code",
      "metadata": {
        "id": "oG1lXI_AALyo",
        "colab_type": "code",
        "colab": {
          "base_uri": "https://localhost:8080/",
          "height": 34
        },
        "outputId": "84276875-f567-49c8-8efb-86265c7cad9a"
      },
      "source": [
        "transactions = [200, 250, 3300, 780]\n",
        "result = []\n",
        "result.append(len(transactions))\n",
        "result.append(max(transactions))\n",
        "print(result)"
      ],
      "execution_count": null,
      "outputs": [
        {
          "output_type": "stream",
          "text": [
            "[4, 3300]\n"
          ],
          "name": "stdout"
        }
      ]
    },
    {
      "cell_type": "code",
      "metadata": {
        "id": "SudrYD2slkXn",
        "colab_type": "code",
        "colab": {
          "base_uri": "https://localhost:8080/",
          "height": 34
        },
        "outputId": "f82666a6-d99b-48b7-a995-df9af29d3211"
      },
      "source": [
        "digits = [3, 5, 1, 7, 5, 9]\n",
        "m=0\n",
        "m = min(digits)\n",
        "for i,v in enumerate(digits):\n",
        "    if v>m:\n",
        "        digits[i]=True\n",
        "    else:\n",
        "        digits[i]=False\n",
        " \n",
        "print(digits)"
      ],
      "execution_count": null,
      "outputs": [
        {
          "output_type": "stream",
          "text": [
            "[True, True, False, True, True, True]\n"
          ],
          "name": "stdout"
        }
      ]
    },
    {
      "cell_type": "code",
      "metadata": {
        "id": "3q7O3lxHmxJX",
        "colab_type": "code",
        "colab": {
          "base_uri": "https://localhost:8080/",
          "height": 34
        },
        "outputId": "65da9274-72f2-4db7-94b0-c522632d76f5"
      },
      "source": [
        "exp = [0.73, 0.68, 0.81, 0.81, 0.59, 0.77, 0.69, 0.54, 0.70, 0.72]\n",
        "stack=[]\n",
        "for i,v in enumerate(exp):\n",
        "    stack.append('('+str(i)+', '+str(v)+')')\n",
        "    #stack.append([i,v])\n",
        " \n",
        "print(stack)"
      ],
      "execution_count": null,
      "outputs": [
        {
          "output_type": "stream",
          "text": [
            "['(0, 0.73)', '(1, 0.68)', '(2, 0.81)', '(3, 0.81)', '(4, 0.59)', '(5, 0.77)', '(6, 0.69)', '(7, 0.54)', '(8, 0.7)', '(9, 0.72)']\n"
          ],
          "name": "stdout"
        }
      ]
    },
    {
      "cell_type": "code",
      "metadata": {
        "id": "mkAtat4MurSe",
        "colab_type": "code",
        "colab": {
          "base_uri": "https://localhost:8080/",
          "height": 34
        },
        "outputId": "642f577a-46cc-428c-9954-3bdc1272be20"
      },
      "source": [
        "names = ['Петров', 'Сидоров']\n",
        "tabs = [123, 124]\n",
        "stack=[]\n",
        "for name, tab in zip(names, tabs):\n",
        "    stack.append(str(name)+' '+str(tab))\n",
        "\n",
        "print(stack)"
      ],
      "execution_count": null,
      "outputs": [
        {
          "output_type": "stream",
          "text": [
            "['Петров 123', 'Сидоров 124']\n"
          ],
          "name": "stdout"
        }
      ]
    },
    {
      "cell_type": "code",
      "metadata": {
        "id": "rGy6FfC4vET-",
        "colab_type": "code",
        "colab": {
          "base_uri": "https://localhost:8080/",
          "height": 50
        },
        "outputId": "9b4383e6-e2ed-4d8c-fb7c-040501f131ae"
      },
      "source": [
        "s = 'abc'\n",
        "lst = ['a', 'b']\n",
        "for i, j in zip(lst, s):\n",
        "    print(i, j)"
      ],
      "execution_count": null,
      "outputs": [
        {
          "output_type": "stream",
          "text": [
            "a a\n",
            "b b\n"
          ],
          "name": "stdout"
        }
      ]
    },
    {
      "cell_type": "code",
      "metadata": {
        "id": "qbkYmV0uuxkl",
        "colab_type": "code",
        "colab": {
          "base_uri": "https://localhost:8080/",
          "height": 34
        },
        "outputId": "db6ddc5c-320c-4bd2-e76e-c5b37eff485f"
      },
      "source": [
        "names = ['Тармак', 'Вшола', 'Брумель']\n",
        "results = [220, 225, 228]\n",
        "max=0\n",
        "n=''\n",
        "for name, result in zip(names, results):\n",
        "    if(result >max):\n",
        "        max=result\n",
        "        n=name\n",
        " \n",
        "print(name)"
      ],
      "execution_count": null,
      "outputs": [
        {
          "output_type": "stream",
          "text": [
            "Брумель\n"
          ],
          "name": "stdout"
        }
      ]
    },
    {
      "cell_type": "code",
      "metadata": {
        "id": "vC-UTPwCyqmz",
        "colab_type": "code",
        "colab": {
          "base_uri": "https://localhost:8080/",
          "height": 229
        },
        "outputId": "9f1c1ede-d0a3-4a6e-fbea-97f6bde2a5f9"
      },
      "source": [
        "names = ['Тармак', 'Вшола', 'Брумель']\n",
        "results = [220, 225, 228]\n",
        "max_value=max(results)\n",
        "for name, result in zip(names, results):\n",
        "    if result == max_value:\n",
        "        n=name\n",
        "        break\n",
        " \n",
        "print(n)"
      ],
      "execution_count": 29,
      "outputs": [
        {
          "output_type": "error",
          "ename": "TypeError",
          "evalue": "ignored",
          "traceback": [
            "\u001b[0;31m---------------------------------------------------------------------------\u001b[0m",
            "\u001b[0;31mTypeError\u001b[0m                                 Traceback (most recent call last)",
            "\u001b[0;32m<ipython-input-29-21e28fc64ab4>\u001b[0m in \u001b[0;36m<module>\u001b[0;34m()\u001b[0m\n\u001b[1;32m      1\u001b[0m \u001b[0mnames\u001b[0m \u001b[0;34m=\u001b[0m \u001b[0;34m[\u001b[0m\u001b[0;34m'Тармак'\u001b[0m\u001b[0;34m,\u001b[0m \u001b[0;34m'Вшола'\u001b[0m\u001b[0;34m,\u001b[0m \u001b[0;34m'Брумель'\u001b[0m\u001b[0;34m]\u001b[0m\u001b[0;34m\u001b[0m\u001b[0;34m\u001b[0m\u001b[0m\n\u001b[1;32m      2\u001b[0m \u001b[0mresults\u001b[0m \u001b[0;34m=\u001b[0m \u001b[0;34m[\u001b[0m\u001b[0;36m220\u001b[0m\u001b[0;34m,\u001b[0m \u001b[0;36m225\u001b[0m\u001b[0;34m,\u001b[0m \u001b[0;36m228\u001b[0m\u001b[0;34m]\u001b[0m\u001b[0;34m\u001b[0m\u001b[0;34m\u001b[0m\u001b[0m\n\u001b[0;32m----> 3\u001b[0;31m \u001b[0mmax_value\u001b[0m\u001b[0;34m=\u001b[0m\u001b[0mmax\u001b[0m\u001b[0;34m(\u001b[0m\u001b[0mresults\u001b[0m\u001b[0;34m)\u001b[0m\u001b[0;34m\u001b[0m\u001b[0;34m\u001b[0m\u001b[0m\n\u001b[0m\u001b[1;32m      4\u001b[0m \u001b[0;32mfor\u001b[0m \u001b[0mname\u001b[0m\u001b[0;34m,\u001b[0m \u001b[0mresult\u001b[0m \u001b[0;32min\u001b[0m \u001b[0mzip\u001b[0m\u001b[0;34m(\u001b[0m\u001b[0mnames\u001b[0m\u001b[0;34m,\u001b[0m \u001b[0mresults\u001b[0m\u001b[0;34m)\u001b[0m\u001b[0;34m:\u001b[0m\u001b[0;34m\u001b[0m\u001b[0;34m\u001b[0m\u001b[0m\n\u001b[1;32m      5\u001b[0m     \u001b[0;32mif\u001b[0m \u001b[0mresult\u001b[0m \u001b[0;34m==\u001b[0m \u001b[0mmax_value\u001b[0m\u001b[0;34m:\u001b[0m\u001b[0;34m\u001b[0m\u001b[0;34m\u001b[0m\u001b[0m\n",
            "\u001b[0;31mTypeError\u001b[0m: 'int' object is not callable"
          ]
        }
      ]
    },
    {
      "cell_type": "code",
      "metadata": {
        "id": "xb5_PK8h4oW0",
        "colab_type": "code",
        "colab": {
          "base_uri": "https://localhost:8080/",
          "height": 34
        },
        "outputId": "55d165ae-8be1-447d-b1ea-1beab0b5f5ad"
      },
      "source": [
        "digits = [5, 2, 3]\n",
        "result = [n*n for n in digits]\n",
        "print(sorted(result))"
      ],
      "execution_count": 33,
      "outputs": [
        {
          "output_type": "stream",
          "text": [
            "[4, 9, 25]\n"
          ],
          "name": "stdout"
        }
      ]
    },
    {
      "cell_type": "code",
      "metadata": {
        "id": "v2ViYDAi6G-I",
        "colab_type": "code",
        "colab": {
          "base_uri": "https://localhost:8080/",
          "height": 34
        },
        "outputId": "e2dc013e-c491-4f62-986b-a90e1b82b3d1"
      },
      "source": [
        "my_list=[i**2 for i in range(10,20) if i%3==0]\n",
        "print(my_list)"
      ],
      "execution_count": 34,
      "outputs": [
        {
          "output_type": "stream",
          "text": [
            "[144, 225, 324]\n"
          ],
          "name": "stdout"
        }
      ]
    },
    {
      "cell_type": "code",
      "metadata": {
        "id": "8Ac77hg189EI",
        "colab_type": "code",
        "colab": {
          "base_uri": "https://localhost:8080/",
          "height": 34
        },
        "outputId": "c7a66e6b-8f71-483d-9bce-fea5c255ff65"
      },
      "source": [
        "lst = ['abc', 'qwe', 'lte', 'abc']\n",
        "result = len([ i for i in lst if i==lst[0]])\n",
        "print(result)"
      ],
      "execution_count": 38,
      "outputs": [
        {
          "output_type": "stream",
          "text": [
            "2\n"
          ],
          "name": "stdout"
        }
      ]
    },
    {
      "cell_type": "code",
      "metadata": {
        "id": "jaoRd4Ps9xuR",
        "colab_type": "code",
        "colab": {}
      },
      "source": [
        "lst_result = [a+b for a,b in zip(lst_1, lst_2)]\n",
        "print(max(lst_result))"
      ],
      "execution_count": null,
      "outputs": []
    },
    {
      "cell_type": "code",
      "metadata": {
        "id": "1LTFxTja-WNA",
        "colab_type": "code",
        "colab": {
          "base_uri": "https://localhost:8080/",
          "height": 34
        },
        "outputId": "2fb61a1e-899a-4a7a-dc0e-5660e7f23386"
      },
      "source": [
        "my_list=[i+j for i,j in zip(range(10), range(10,20)) if i%3==0 or j%3==0]\n",
        "my_list = [i + j for i, j in zip(range(10), range(10, 20)) if i % 3 == 0 or j % 3 == 0]\n",
        "print(my_list)"
      ],
      "execution_count": 41,
      "outputs": [
        {
          "output_type": "stream",
          "text": [
            "[10, 14, 16, 20, 22, 26, 28]\n"
          ],
          "name": "stdout"
        }
      ]
    },
    {
      "cell_type": "code",
      "metadata": {
        "id": "UJ0kET0mZRFs",
        "colab_type": "code",
        "colab": {
          "base_uri": "https://localhost:8080/",
          "height": 34
        },
        "outputId": "0e967661-bc04-43c8-da8c-2b258f32ff33"
      },
      "source": [
        "lst_1 = [1, 2, 3]\n",
        "lst_2 = [11, 22, 33]\n",
        "lst = [[a,b] for a,b in zip(lst_1, lst_2)]\n",
        "print(lst)"
      ],
      "execution_count": 43,
      "outputs": [
        {
          "output_type": "stream",
          "text": [
            "[[1, 11], [2, 22], [3, 33]]\n"
          ],
          "name": "stdout"
        }
      ]
    },
    {
      "cell_type": "code",
      "metadata": {
        "id": "gX4nDFjXawLV",
        "colab_type": "code",
        "colab": {
          "base_uri": "https://localhost:8080/",
          "height": 34
        },
        "outputId": "08f7e032-d0f4-4fd1-c378-b85a12ba8daa"
      },
      "source": [
        "names = ['Дима', 'Вова', 'Оля']\n",
        "ages = [12, 10, 14]\n",
        "lst = [[age, name] for age, name in zip(ages, names)]\n",
        "print(sorted(lst, reverse=True))"
      ],
      "execution_count": 47,
      "outputs": [
        {
          "output_type": "stream",
          "text": [
            "[[14, 'Оля'], [12, 'Дима'], [10, 'Вова']]\n"
          ],
          "name": "stdout"
        }
      ]
    },
    {
      "cell_type": "code",
      "metadata": {
        "id": "XdJ_2NqwfNms",
        "colab_type": "code",
        "colab": {
          "base_uri": "https://localhost:8080/",
          "height": 34
        },
        "outputId": "dcd21e21-0dff-4ab9-9566-beecdf0c95e1"
      },
      "source": [
        "lst = [[1, 2, 3], ['a', 'f'],[]]\n",
        "result = [[a] for a in lst if len(a) > 0 ]\n",
        "print(result)"
      ],
      "execution_count": 56,
      "outputs": [
        {
          "output_type": "stream",
          "text": [
            "[[[1, 2, 3]], [['a', 'f']]]\n"
          ],
          "name": "stdout"
        }
      ]
    },
    {
      "cell_type": "code",
      "metadata": {
        "id": "9wccMw26oRL9",
        "colab_type": "code",
        "colab": {
          "base_uri": "https://localhost:8080/",
          "height": 34
        },
        "outputId": "5cf67d5c-a96c-4315-f17e-0596e3a8d8a2"
      },
      "source": [
        "group = [('Антон', 4), ('Виктор', 4), ('Олег', 5), ('Иван', 3), ('Игнат', 4), ('Лев', 3)]\n",
        "result = [value for name, value in group]\n",
        "print(min(result))"
      ],
      "execution_count": 58,
      "outputs": [
        {
          "output_type": "stream",
          "text": [
            "3\n"
          ],
          "name": "stdout"
        }
      ]
    },
    {
      "cell_type": "code",
      "metadata": {
        "id": "78EeEBwWppMS",
        "colab_type": "code",
        "colab": {}
      },
      "source": [
        "my_dict = {'a': 1,'a': 2}"
      ],
      "execution_count": 59,
      "outputs": []
    },
    {
      "cell_type": "code",
      "metadata": {
        "id": "S8_NRf6FuVmJ",
        "colab_type": "code",
        "colab": {
          "base_uri": "https://localhost:8080/",
          "height": 34
        },
        "outputId": "aca85f19-3878-4b1b-d431-866b9523f574"
      },
      "source": [
        "tenets = [['Иванов', 11], ['Петров', 12], ['Антонов', 13], ['Ильичев', 14]]\n",
        "items = {}\n",
        "for a,b in tenets:\n",
        "  items[a]=b\n",
        "\n",
        "print(items['Иванов'])"
      ],
      "execution_count": 64,
      "outputs": [
        {
          "output_type": "stream",
          "text": [
            "11\n"
          ],
          "name": "stdout"
        }
      ]
    },
    {
      "cell_type": "code",
      "metadata": {
        "id": "_tcFzN1sw2Cg",
        "colab_type": "code",
        "colab": {
          "base_uri": "https://localhost:8080/",
          "height": 50
        },
        "outputId": "490660a3-4977-4c65-97ff-2488095e96bb"
      },
      "source": [
        "tenants_dict = {'Иванов': 11, 'Петров': 12, 'Антонов': 13, 'Ильичев': 14}\n",
        "value = tenants_dict.pop('Иванов')\n",
        "tenants_dict['Котова']=value\n",
        "print(tenants_dict)\n",
        "print(result)"
      ],
      "execution_count": 69,
      "outputs": [
        {
          "output_type": "stream",
          "text": [
            "{'Петров': 12, 'Антонов': 13, 'Ильичев': 14, 'Котова': 11}\n",
            "11\n"
          ],
          "name": "stdout"
        }
      ]
    },
    {
      "cell_type": "code",
      "metadata": {
        "id": "T-fHM7n_y6wJ",
        "colab_type": "code",
        "colab": {
          "base_uri": "https://localhost:8080/",
          "height": 34
        },
        "outputId": "41471856-c197-47f4-8ebd-3bb2a736b6a8"
      },
      "source": [
        "names = ['Бурцев', 'Воинков', 'Филин', 'Лаков', 'Фатов']\n",
        "classes = [9, 10, 11, 11, 10]\n",
        "new_team_dict = {}\n",
        "for n, c in zip(names, classes):\n",
        "  if c != 11:\n",
        "    new_team_dict[n]=c\n",
        "\n",
        "print(sorted(new_team_dict.keys()))\n"
      ],
      "execution_count": 73,
      "outputs": [
        {
          "output_type": "stream",
          "text": [
            "['Бурцев', 'Воинков', 'Фатов']\n"
          ],
          "name": "stdout"
        }
      ]
    }
  ]
}