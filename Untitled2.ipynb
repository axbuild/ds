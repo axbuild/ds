{
  "nbformat": 4,
  "nbformat_minor": 0,
  "metadata": {
    "colab": {
      "name": "Untitled2.ipynb",
      "provenance": [],
      "authorship_tag": "ABX9TyOEMLPLhsyJ1GC00P6A9pt2",
      "include_colab_link": true
    },
    "kernelspec": {
      "name": "python3",
      "display_name": "Python 3"
    }
  },
  "cells": [
    {
      "cell_type": "markdown",
      "metadata": {
        "id": "view-in-github",
        "colab_type": "text"
      },
      "source": [
        "<a href=\"https://colab.research.google.com/github/axbuild/ds/blob/master/Untitled2.ipynb\" target=\"_parent\"><img src=\"https://colab.research.google.com/assets/colab-badge.svg\" alt=\"Open In Colab\"/></a>"
      ]
    },
    {
      "cell_type": "code",
      "metadata": {
        "id": "pbvz7pPkPULY",
        "colab_type": "code",
        "colab": {
          "base_uri": "https://localhost:8080/",
          "height": 67
        },
        "outputId": "b6392337-b2a9-4001-e72f-e143a7105ba9"
      },
      "source": [
        "%%time\n",
        "query = ['Олег', 'Ольга', 'Юлия', 'Елена']\n",
        "c=query[0]\n",
        "del query[0]\n",
        "query.append(c)\n",
        "print(query)"
      ],
      "execution_count": null,
      "outputs": [
        {
          "output_type": "stream",
          "text": [
            "['Ольга', 'Юлия', 'Елена', 'Олег']\n",
            "CPU times: user 364 µs, sys: 24 µs, total: 388 µs\n",
            "Wall time: 329 µs\n"
          ],
          "name": "stdout"
        }
      ]
    },
    {
      "cell_type": "code",
      "metadata": {
        "id": "ZplRvasiN6Ch",
        "colab_type": "code",
        "colab": {
          "base_uri": "https://localhost:8080/",
          "height": 67
        },
        "outputId": "91ded144-a260-4f5a-d719-651f1e1b0f2b"
      },
      "source": [
        "%%time\n",
        "query = ['Олег', 'Ольга', 'Юлия', 'Елена']\n",
        "query_out = query[1::]\n",
        "query_out.append(query[0])\n",
        "print(query_out)"
      ],
      "execution_count": null,
      "outputs": [
        {
          "output_type": "stream",
          "text": [
            "['Ольга', 'Юлия', 'Елена', 'Олег']\n",
            "CPU times: user 62 µs, sys: 13 µs, total: 75 µs\n",
            "Wall time: 78.9 µs\n"
          ],
          "name": "stdout"
        }
      ]
    },
    {
      "cell_type": "code",
      "metadata": {
        "id": "msiPmp1mZxu1",
        "colab_type": "code",
        "colab": {
          "base_uri": "https://localhost:8080/",
          "height": 34
        },
        "outputId": "785d1558-2dce-449e-82e0-617076e8e2cb"
      },
      "source": [
        "current = ['Бегунова', 'Власова', 'Кашин', 'Васин']\n",
        "previous = ['Васин', 'Агарков', 'Нархова']\n",
        "\n",
        "for i,v in enumerate(current):\n",
        "    if v in previous:\n",
        "        current.pop(i)\n",
        " \n",
        "print(current)\n"
      ],
      "execution_count": null,
      "outputs": [
        {
          "output_type": "stream",
          "text": [
            "['Бегунова', 'Власова', 'Кашин']\n"
          ],
          "name": "stdout"
        }
      ]
    },
    {
      "cell_type": "code",
      "metadata": {
        "id": "oA7ITfX_3_Sz",
        "colab_type": "code",
        "colab": {
          "base_uri": "https://localhost:8080/",
          "height": 34
        },
        "outputId": "5d8beb27-1afe-4c34-99f1-9f4b30eac823"
      },
      "source": [
        "exp = [0.5, 0.6, 0.6, 0.1]\n",
        "exp[-1] = None\n",
        "print(exp)"
      ],
      "execution_count": null,
      "outputs": [
        {
          "output_type": "stream",
          "text": [
            "[0.5, 0.6, 0.6, None]\n"
          ],
          "name": "stdout"
        }
      ]
    },
    {
      "cell_type": "code",
      "metadata": {
        "id": "evSIA3p366EY",
        "colab_type": "code",
        "colab": {
          "base_uri": "https://localhost:8080/",
          "height": 34
        },
        "outputId": "55ae4cd7-2d63-4f8e-9dcf-39d5ab6cd830"
      },
      "source": [
        "lst_1 = ['a', 'b', 'c']\n",
        "lst_2 = ['1', '2', '3']\n",
        "lst_1[1] = lst_2[1]\n",
        "print(lst_1)"
      ],
      "execution_count": null,
      "outputs": [
        {
          "output_type": "stream",
          "text": [
            "['a', '2', 'c']\n"
          ],
          "name": "stdout"
        }
      ]
    },
    {
      "cell_type": "code",
      "metadata": {
        "id": "zy7f_zNk8zwQ",
        "colab_type": "code",
        "colab": {
          "base_uri": "https://localhost:8080/",
          "height": 34
        },
        "outputId": "3ca658c7-2f02-461e-90ae-daed3d18d839"
      },
      "source": [
        "lst = [1, 2, 3]\n",
        "print(lst+lst[::-1])"
      ],
      "execution_count": null,
      "outputs": [
        {
          "output_type": "stream",
          "text": [
            "[1, 2, 3, 3, 2, 1]\n"
          ],
          "name": "stdout"
        }
      ]
    },
    {
      "cell_type": "code",
      "metadata": {
        "id": "oG1lXI_AALyo",
        "colab_type": "code",
        "colab": {
          "base_uri": "https://localhost:8080/",
          "height": 34
        },
        "outputId": "84276875-f567-49c8-8efb-86265c7cad9a"
      },
      "source": [
        "transactions = [200, 250, 3300, 780]\n",
        "result = []\n",
        "result.append(len(transactions))\n",
        "result.append(max(transactions))\n",
        "print(result)"
      ],
      "execution_count": null,
      "outputs": [
        {
          "output_type": "stream",
          "text": [
            "[4, 3300]\n"
          ],
          "name": "stdout"
        }
      ]
    },
    {
      "cell_type": "code",
      "metadata": {
        "id": "SudrYD2slkXn",
        "colab_type": "code",
        "colab": {
          "base_uri": "https://localhost:8080/",
          "height": 34
        },
        "outputId": "f82666a6-d99b-48b7-a995-df9af29d3211"
      },
      "source": [
        "digits = [3, 5, 1, 7, 5, 9]\n",
        "m=0\n",
        "m = min(digits)\n",
        "for i,v in enumerate(digits):\n",
        "    if v>m:\n",
        "        digits[i]=True\n",
        "    else:\n",
        "        digits[i]=False\n",
        " \n",
        "print(digits)"
      ],
      "execution_count": 3,
      "outputs": [
        {
          "output_type": "stream",
          "text": [
            "[True, True, False, True, True, True]\n"
          ],
          "name": "stdout"
        }
      ]
    },
    {
      "cell_type": "code",
      "metadata": {
        "id": "3q7O3lxHmxJX",
        "colab_type": "code",
        "colab": {
          "base_uri": "https://localhost:8080/",
          "height": 34
        },
        "outputId": "65da9274-72f2-4db7-94b0-c522632d76f5"
      },
      "source": [
        "exp = [0.73, 0.68, 0.81, 0.81, 0.59, 0.77, 0.69, 0.54, 0.70, 0.72]\n",
        "stack=[]\n",
        "for i,v in enumerate(exp):\n",
        "    stack.append('('+str(i)+', '+str(v)+')')\n",
        "    #stack.append([i,v])\n",
        " \n",
        "print(stack)"
      ],
      "execution_count": 10,
      "outputs": [
        {
          "output_type": "stream",
          "text": [
            "['(0, 0.73)', '(1, 0.68)', '(2, 0.81)', '(3, 0.81)', '(4, 0.59)', '(5, 0.77)', '(6, 0.69)', '(7, 0.54)', '(8, 0.7)', '(9, 0.72)']\n"
          ],
          "name": "stdout"
        }
      ]
    },
    {
      "cell_type": "code",
      "metadata": {
        "id": "mkAtat4MurSe",
        "colab_type": "code",
        "colab": {
          "base_uri": "https://localhost:8080/",
          "height": 34
        },
        "outputId": "642f577a-46cc-428c-9954-3bdc1272be20"
      },
      "source": [
        "names = ['Петров', 'Сидоров']\n",
        "tabs = [123, 124]\n",
        "stack=[]\n",
        "for name, tab in zip(names, tabs):\n",
        "    stack.append(str(name)+' '+str(tab))\n",
        "\n",
        "print(stack)"
      ],
      "execution_count": 14,
      "outputs": [
        {
          "output_type": "stream",
          "text": [
            "['Петров 123', 'Сидоров 124']\n"
          ],
          "name": "stdout"
        }
      ]
    },
    {
      "cell_type": "code",
      "metadata": {
        "id": "rGy6FfC4vET-",
        "colab_type": "code",
        "colab": {
          "base_uri": "https://localhost:8080/",
          "height": 50
        },
        "outputId": "9b4383e6-e2ed-4d8c-fb7c-040501f131ae"
      },
      "source": [
        "s = 'abc'\n",
        "lst = ['a', 'b']\n",
        "for i, j in zip(lst, s):\n",
        "    print(i, j)"
      ],
      "execution_count": 15,
      "outputs": [
        {
          "output_type": "stream",
          "text": [
            "a a\n",
            "b b\n"
          ],
          "name": "stdout"
        }
      ]
    },
    {
      "cell_type": "code",
      "metadata": {
        "id": "qbkYmV0uuxkl",
        "colab_type": "code",
        "colab": {
          "base_uri": "https://localhost:8080/",
          "height": 34
        },
        "outputId": "db6ddc5c-320c-4bd2-e76e-c5b37eff485f"
      },
      "source": [
        "names = ['Тармак', 'Вшола', 'Брумель']\n",
        "results = [220, 225, 228]\n",
        "max=0\n",
        "n=''\n",
        "for name, result in zip(names, results):\n",
        "    if(result >max):\n",
        "        max=result\n",
        "        n=name\n",
        " \n",
        "print(name)"
      ],
      "execution_count": 17,
      "outputs": [
        {
          "output_type": "stream",
          "text": [
            "Брумель\n"
          ],
          "name": "stdout"
        }
      ]
    },
    {
      "cell_type": "code",
      "metadata": {
        "id": "vC-UTPwCyqmz",
        "colab_type": "code",
        "colab": {
          "base_uri": "https://localhost:8080/",
          "height": 229
        },
        "outputId": "173acb50-cc90-4231-ba26-0eb43646fe82"
      },
      "source": [
        "names = ['Тармак', 'Вшола', 'Брумель']\n",
        "results = [220, 225, 228]\n",
        "max=max(results)\n",
        "for name, result in zip(names, results):\n",
        "    if result == max:\n",
        "        n=name\n",
        "        break\n",
        " \n",
        "print(n)"
      ],
      "execution_count": 20,
      "outputs": [
        {
          "output_type": "error",
          "ename": "TypeError",
          "evalue": "ignored",
          "traceback": [
            "\u001b[0;31m---------------------------------------------------------------------------\u001b[0m",
            "\u001b[0;31mTypeError\u001b[0m                                 Traceback (most recent call last)",
            "\u001b[0;32m<ipython-input-20-1038d6a0bc97>\u001b[0m in \u001b[0;36m<module>\u001b[0;34m()\u001b[0m\n\u001b[1;32m      1\u001b[0m \u001b[0mnames\u001b[0m \u001b[0;34m=\u001b[0m \u001b[0;34m[\u001b[0m\u001b[0;34m'Тармак'\u001b[0m\u001b[0;34m,\u001b[0m \u001b[0;34m'Вшола'\u001b[0m\u001b[0;34m,\u001b[0m \u001b[0;34m'Брумель'\u001b[0m\u001b[0;34m]\u001b[0m\u001b[0;34m\u001b[0m\u001b[0;34m\u001b[0m\u001b[0m\n\u001b[1;32m      2\u001b[0m \u001b[0mresults\u001b[0m \u001b[0;34m=\u001b[0m \u001b[0;34m[\u001b[0m\u001b[0;36m220\u001b[0m\u001b[0;34m,\u001b[0m \u001b[0;36m225\u001b[0m\u001b[0;34m,\u001b[0m \u001b[0;36m228\u001b[0m\u001b[0;34m]\u001b[0m\u001b[0;34m\u001b[0m\u001b[0;34m\u001b[0m\u001b[0m\n\u001b[0;32m----> 3\u001b[0;31m \u001b[0mmax\u001b[0m\u001b[0;34m=\u001b[0m\u001b[0mmax\u001b[0m\u001b[0;34m(\u001b[0m\u001b[0mresults\u001b[0m\u001b[0;34m)\u001b[0m\u001b[0;34m\u001b[0m\u001b[0;34m\u001b[0m\u001b[0m\n\u001b[0m\u001b[1;32m      4\u001b[0m \u001b[0;32mfor\u001b[0m \u001b[0mname\u001b[0m\u001b[0;34m,\u001b[0m \u001b[0mresult\u001b[0m \u001b[0;32min\u001b[0m \u001b[0mzip\u001b[0m\u001b[0;34m(\u001b[0m\u001b[0mnames\u001b[0m\u001b[0;34m,\u001b[0m \u001b[0mresults\u001b[0m\u001b[0;34m)\u001b[0m\u001b[0;34m:\u001b[0m\u001b[0;34m\u001b[0m\u001b[0;34m\u001b[0m\u001b[0m\n\u001b[1;32m      5\u001b[0m     \u001b[0;32mif\u001b[0m \u001b[0mresult\u001b[0m \u001b[0;34m==\u001b[0m \u001b[0mmax\u001b[0m\u001b[0;34m:\u001b[0m\u001b[0;34m\u001b[0m\u001b[0;34m\u001b[0m\u001b[0m\n",
            "\u001b[0;31mTypeError\u001b[0m: 'int' object is not callable"
          ]
        }
      ]
    }
  ]
}