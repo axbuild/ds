{
 "metadata": {
  "language_info": {
   "codemirror_mode": {
    "name": "ipython",
    "version": 3
   },
   "file_extension": ".py",
   "mimetype": "text/x-python",
   "name": "python",
   "nbconvert_exporter": "python",
   "pygments_lexer": "ipython3",
   "version": "3.7.3-final"
  },
  "orig_nbformat": 2,
  "kernelspec": {
   "name": "python3",
   "display_name": "Python 3.7.3 64-bit ('dev': conda)",
   "metadata": {
    "interpreter": {
     "hash": "a6fb20785e68a82d7a1df266ceeea325dd5975b4df95e7fc1e3b620c572e83b5"
    }
   }
  }
 },
 "nbformat": 4,
 "nbformat_minor": 2,
 "cells": [
  {
   "cell_type": "code",
   "execution_count": 2,
   "metadata": {},
   "outputs": [
    {
     "output_type": "stream",
     "name": "stdout",
     "text": [
      "[33 65 50 45] 50 4\n"
     ]
    }
   ],
   "source": [
    "import numpy as np \n",
    "s=np.array([33,65,50,45])\n",
    "print(s, s[2], len(s))"
   ]
  },
  {
   "cell_type": "code",
   "execution_count": 3,
   "metadata": {},
   "outputs": [
    {
     "output_type": "stream",
     "name": "stdout",
     "text": [
      "ndim: 1\nshape: (6,)\n"
     ]
    }
   ],
   "source": [
    "x = np.array([59.50, 31.40, 19, 2, 60550, 2])\n",
    "# В NumPy вектор и массив - одно и то же. \n",
    "# Исключение - понятие вектор-столбец и вектор-строка - фактически двумерные массивы, \n",
    "# где один из атрибутов shape равен 1.\n",
    "\n",
    "print(\"ndim:\", x.ndim) # число осей (измерений) массива - n.dim: 1\n",
    "print(\"shape:\", x.shape) # размеры массива, для вектора определена только длина - shape: (6, )"
   ]
  },
  {
   "cell_type": "code",
   "execution_count": 4,
   "metadata": {},
   "outputs": [],
   "source": [
    "# вычислим долю жилой площади в квартире\n",
    "share_living_space = x[1]/x[0]"
   ]
  },
  {
   "cell_type": "code",
   "execution_count": 5,
   "metadata": {},
   "outputs": [],
   "source": [
    "#удаление признаков по индексу\n",
    "x = np.delete(x, [0, 1])"
   ]
  },
  {
   "cell_type": "code",
   "execution_count": 6,
   "metadata": {},
   "outputs": [],
   "source": [
    "#вставка признаков по индексу\n",
    "x = np.append(x, share_living_space)"
   ]
  },
  {
   "source": [
    "There are e and c are collinear: $ \\vec{e}  ||  \\vec{c} $"
   ],
   "cell_type": "markdown",
   "metadata": {}
  },
  {
   "cell_type": "code",
   "execution_count": 14,
   "metadata": {},
   "outputs": [
    {
     "output_type": "stream",
     "name": "stdout",
     "text": [
      "[15 23 14  8]\n[ 5 -7 -4 -6]\n[3.  4.6 2.8 1.6]\n"
     ]
    }
   ],
   "source": [
    "#арифметические операции\n",
    "a = np.array([10,8,5,1])\n",
    "b = np.array([5,15,9,7])\n",
    "c=a+b\n",
    "d=a-b\n",
    "e=c*0.2\n",
    "print(c)\n",
    "print(d)\n",
    "#коллинеарные вектора\n",
    "print(e)"
   ]
  },
  {
   "source": [
    "### Сложение векторов и умножение на число: особые случаи\n",
    "* Сложение противоположенных векторов равно 0\n",
    "* Умножение ветора на 0 равно 0\n",
    "* Умножение на нулевой вектор равно 0\n"
   ],
   "cell_type": "markdown",
   "metadata": {}
  },
  {
   "cell_type": "code",
   "execution_count": 24,
   "metadata": {},
   "outputs": [
    {
     "output_type": "stream",
     "name": "stdout",
     "text": [
      "[144000. 216000. 180000.]\n[394000. 496000. 400000.]\n"
     ]
    }
   ],
   "source": [
    "air = np.array([120000,150000,90000], dtype='f')\n",
    "wir = np.array([130000,130000,130000], dtype='f')\n",
    "tie = np.array([2000,3000,2500], dtype='f')\n",
    "tir = tie*72.0\n",
    "print(tir)\n",
    "print(air+wir+tir)\n"
   ]
  },
  {
   "source": [
    "## 4. Линейная комбинация векторов\n",
    "\n",
    "### Пример\n",
    "Найдите линейную комбинацию трёх заданных векторов с коэффициентами  и 500, 100 и 0\n",
    "\n",
    "$$ \n",
    "\\vec{p} = \n",
    "\\begin{Bmatrix} \n",
    "2 \\\\ \n",
    "4 \\\\ \n",
    "5 \\\\\n",
    "\\end{Bmatrix}, \n",
    "\n",
    "\\vec{v} = \n",
    "\\begin{Bmatrix} \n",
    "8 \\\\ \n",
    "10 \\\\\n",
    "2 \\\\\n",
    "\\end{Bmatrix}, \n",
    "\n",
    "\\vec{s} = \n",
    "\\begin{Bmatrix} \n",
    "0 \\\\\n",
    "12 \\\\ \n",
    "7 \\\\\n",
    "\\end{Bmatrix}\n",
    "$$\n",
    "\n",
    "*** Решение: ***\n",
    "\n",
    "Линейная комбинация — это объединение двух предыдущих операций в одну: каждый вектор умножается на соответствующий ему коэффициент, все умноженные векторы складываются\n",
    "\n",
    "$$ \n",
    "\\vec{m}=500\\cdot{p}+100\\cdot{v}+0\\cdot{s}\n",
    "=\n",
    "500\\cdot\n",
    "\\begin{Bmatrix}\n",
    "2 \\\\ \n",
    "4 \\\\\n",
    "5 \\\\\n",
    "\\end{Bmatrix}\n",
    "+\n",
    "100\\cdot\n",
    "\\begin{Bmatrix}\n",
    "8 \\\\\n",
    "10 \\\\\n",
    "2 \\\\\n",
    "\\end{Bmatrix}\n",
    "+\n",
    "0\\cdot\n",
    "\\begin{Bmatrix}\n",
    "0 \\\\\n",
    "12 \\\\\n",
    "7 \\\\\n",
    "\\end{Bmatrix}\n",
    "=\n",
    "\\begin{Bmatrix}\n",
    "500\\cdot2+100\\cdot8+0\\cdot0 \\\\ \n",
    "500\\cdot4+100\\cdot10+0\\cdot12 \\\\\n",
    "500\\cdot5+100\\cdot2+0\\cdot7 \\\\\n",
    "\\end{Bmatrix}\n",
    "=\n",
    "\\begin{Bmatrix}\n",
    "1800 \\\\\n",
    "3000 \\\\ \n",
    "2700 \\\\\n",
    "\\end{Bmatrix}\n",
    "$$\n",
    "\n",
    "*** Ответ: *** В результате получаем вектор  $ \\vec{с} $ координатами $ 1800, 3000 $ и $ 2700 $."
   ],
   "cell_type": "markdown",
   "metadata": {}
  },
  {
   "cell_type": "code",
   "execution_count": 25,
   "metadata": {},
   "outputs": [
    {
     "output_type": "execute_result",
     "data": {
      "text/plain": [
       "array([1800, 3000, 2700])"
      ]
     },
     "metadata": {},
     "execution_count": 25
    }
   ],
   "source": [
    "import numpy as np\n",
    "p=np.array([2,4,5])\n",
    "v=np.array([8,10,2])\n",
    "s=np.array([0,12,7])\n",
    "500*p+100*v+0*s"
   ]
  },
  {
   "cell_type": "code",
   "execution_count": 30,
   "metadata": {},
   "outputs": [
    {
     "output_type": "stream",
     "name": "stdout",
     "text": [
      "[-200 1200  200  600]\n"
     ]
    }
   ],
   "source": [
    "import numpy as np\n",
    "n = np.array([3,4,5,9])\n",
    "s = np.array([1,5,3,6])\n",
    "r = s*400 - n*200\n",
    "print(r)"
   ]
  },
  {
   "source": [
    "## Скалярное произведение векторов и косинусное сходство\n",
    "### Всего есть четыре основных способа умножить векторы:\n",
    "* Скалярное произведение. Результат — число. $ (\\vec{a},\\vec{b}) $\n",
    "* Векторное произведение. Результат — вектор.\n",
    "* Смешанное произведение. Результат — число. \n",
    "* Тензорное произведение. Результат — матрица."
   ],
   "cell_type": "markdown",
   "metadata": {}
  },
  {
   "cell_type": "code",
   "execution_count": 32,
   "metadata": {},
   "outputs": [
    {
     "output_type": "execute_result",
     "data": {
      "text/plain": [
       "101.6"
      ]
     },
     "metadata": {},
     "execution_count": 32
    }
   ],
   "source": [
    "import numpy as np \n",
    "a=np.array([64,70,120,30])\n",
    "w=np.array([0.4,0.4,0.2,0.8])\n",
    "#Скалярное произведение\n",
    "# = 65*0.4+70*0.4+120*0.2+30*08 = 102\n",
    "np.dot(a,w)\n",
    "#????????"
   ]
  },
  {
   "source": [
    "### Длина вектора вычисляется как квадратный корень из скалярного произведения вектора с самим собой \n",
    "*** Пример ***\n",
    "$$\n",
    "\\vec{a} = \n",
    "\\begin{pmatrix}\n",
    "3\\\\\n",
    "4\\\\\n",
    "\\end{pmatrix}\n",
    "$$\n",
    "$$\n",
    "||\\vec{a}|| = \\sqrt{(\\vec{a},\\vec{b})} = \\sqrt{3\\cdot3+4\\cdot4} = \\sqrt{25}=5\n",
    "$$"
   ],
   "cell_type": "markdown",
   "metadata": {}
  },
  {
   "cell_type": "code",
   "execution_count": 3,
   "metadata": {},
   "outputs": [
    {
     "output_type": "display_data",
     "data": {
      "text/plain": "<Figure size 432x288 with 1 Axes>",
      "image/png": "[encoded data removed]"
     },
     "metadata": {
      "needs_background": "light"
     }
    }
   ],
   "source": [
    "import numpy as np \n",
    "import matplotlib.pyplot as plt\n",
    "a = np.array([3,4])\n",
    "plt.plot(a,a)\n",
    "plt.show()"
   ]
  },
  {
   "source": [
    "## 6. Vectors examples\n",
    "\n",
    "*** Problem ***\n",
    "* Total area 33,42,33,65\n",
    "* Living area 24,32,20,,48\n",
    "* Rent 39,50,38,77 \n",
    "\n",
    "* New total area = 50, living area = 40, Rent - ?\n"
   ],
   "cell_type": "markdown",
   "metadata": {}
  },
  {
   "cell_type": "code",
   "execution_count": 10,
   "metadata": {},
   "outputs": [
    {
     "output_type": "stream",
     "name": "stdout",
     "text": [
      "[[ 2  8]\n [ 3 15]]\n[[ 2 12]\n [ 2 15]]\n"
     ]
    }
   ],
   "source": [
    "import numpy as np\n",
    "\n",
    "a = np.array([[2,0],[0,3]])\n",
    "b = np.array([[1,4],[1,5]])\n",
    "\n",
    "print(np.dot(a,b))\n",
    "print(np.dot(b,a))"
   ]
  },
  {
   "cell_type": "code",
   "execution_count": 19,
   "metadata": {},
   "outputs": [
    {
     "output_type": "stream",
     "name": "stdout",
     "text": [
      "[[-26 -52]\n [ 48  96]]\n"
     ]
    }
   ],
   "source": [
    "import numpy as np\n",
    "\n",
    "a = np.array([[2,-6],[-1, 10]])\n",
    "b = np.array([[2,4],[5,10]])\n",
    "print(np.dot(a,b))"
   ]
  },
  {
   "cell_type": "code",
   "execution_count": 22,
   "metadata": {},
   "outputs": [
    {
     "output_type": "stream",
     "name": "stdout",
     "text": [
      "[26000 28000 48000 14000 16000 20000 40000 36000 34000]\n"
     ]
    },
    {
     "output_type": "execute_result",
     "data": {
      "text/plain": [
       "1348"
      ]
     },
     "metadata": {},
     "execution_count": 22
    }
   ],
   "source": [
    "import numpy as np \n",
    "rent = np.array([65, 70, 120, 35, 40, 50, 100, 90, 85])\n",
    "print(rent*400)\n",
    "\n",
    "show_time = np.array([10, 20, 30, 15, 5, 40, 20, 8, 20])\n",
    "demo_two_weeks = np.array([8, 4, 5, 10, 20, 12, 5, 1, 10])\n",
    "np.sum(show_time*demo_two_weeks)"
   ]
  },
  {
   "cell_type": "code",
   "execution_count": 29,
   "metadata": {},
   "outputs": [
    {
     "output_type": "stream",
     "name": "stdout",
     "text": [
      "u_norm: [0.8660254  0.         0.28867513 0.28867513 0.28867513]\nlength of u_norm: 1.0\nv_norm: [ 0.          0.33333333  0.          0.66666667 -0.66666667]\nlength of v_norm: 1.0\nw_norm: [ 0.21320072 -0.85280287 -0.21320072  0.         -0.42640143]\nlength of w_norm: 0.9999999999999999\n[-3 14  3  4  2]\n0\n0\n0\n"
     ]
    }
   ],
   "source": [
    "import numpy as np \n",
    "\n",
    "u=np.array([3,0,1,1,1])\n",
    "v=np.array([0,1,0,2,-2])\n",
    "w=np.array([1,-4,-1,0,-2])\n",
    "\n",
    "u_norm=u/np.linalg.norm(u)\n",
    "print('u_norm:',u_norm)\n",
    "print('length of u_norm:',np.linalg.norm(u_norm))\n",
    "\n",
    "v_norm=v/np.linalg.norm(v)\n",
    "print('v_norm:',v_norm)\n",
    "print('length of v_norm:',np.linalg.norm(v_norm))\n",
    "\n",
    "w_norm=w/np.linalg.norm(w)\n",
    "print('w_norm:',w_norm)\n",
    "print('length of w_norm:',np.linalg.norm(w_norm))\n",
    "\n",
    "z=2*v+(-3)*w\n",
    "print(z)\n",
    "print(np.dot(u,v))\n",
    "print(np.dot(u,w))\n",
    "print(np.dot(v,w))\n",
    "\n"
   ]
  },
  {
   "cell_type": "code",
   "execution_count": 54,
   "metadata": {},
   "outputs": [
    {
     "output_type": "stream",
     "name": "stdout",
     "text": [
      "[[-3  1]\n [-9  3]]\n"
     ]
    }
   ],
   "source": [
    "import numpy as np \n",
    "\n",
    "#a = np.array([[1,8,0],[-1,2,1],[2,0,2],[4,5,1],[0,3,2]])\n",
    "#b = np.array([[1,0,1,0,1],[0,0,0,1,1],[1,2,1,1,0],[0,-1,1,1,-1]])\n",
    "\n",
    "a = np.array([1,3])\n",
    "b = np.array([-3,1])\n",
    "\n",
    "\n",
    "#print(a*b.T)\n",
    "print(np.tensordot(a,b.T, axes=0))\n"
   ]
  },
  {
   "cell_type": "code",
   "execution_count": 57,
   "metadata": {},
   "outputs": [
    {
     "output_type": "execute_result",
     "data": {
      "text/plain": [
       "matrix([[ 2,  3, -1],\n",
       "        [ 3,  5, -2],\n",
       "        [-1, -2,  1]])"
      ]
     },
     "metadata": {},
     "execution_count": 57
    }
   ],
   "source": [
    "import numpy as np \n",
    "\n",
    "X = np.matrix(\"1,1;1,2;0,-1\")\n",
    "R = X*X.T\n",
    "R"
   ]
  },
  {
   "cell_type": "code",
   "execution_count": 63,
   "metadata": {},
   "outputs": [
    {
     "output_type": "execute_result",
     "data": {
      "text/plain": [
       "matrix([[2, 1, 3],\n",
       "        [1, 5, 0],\n",
       "        [3, 0, 5]])"
      ]
     },
     "metadata": {},
     "execution_count": 63
    }
   ],
   "source": [
    "import numpy as np \n",
    "\n",
    "X = np.matrix(\"1,1;2,-1;1,2\")\n",
    "R = X*X.T\n",
    "R"
   ]
  },
  {
   "cell_type": "code",
   "execution_count": 66,
   "metadata": {},
   "outputs": [
    {
     "output_type": "stream",
     "name": "stdout",
     "text": [
      "[26 30]\n"
     ]
    }
   ],
   "source": [
    "import numpy as np \n",
    "\n",
    "A = np.array([[5,-1,3,1,2], [-2,8,5,-1,1]])\n",
    "x = np.array([1,2,3,4,5])\n",
    "\n",
    "print(np.dot(A,x))"
   ]
  },
  {
   "cell_type": "code",
   "execution_count": 88,
   "metadata": {},
   "outputs": [
    {
     "output_type": "stream",
     "name": "stdout",
     "text": [
      "A shape [[1 9 8 5]\n [3 6 3 2]\n [3 3 3 3]\n [0 2 5 9]\n [4 4 1 2]]\nB shape [[ 1 -1  0  1  1]\n [-2  0  2 -1  1]]\n"
     ]
    },
    {
     "output_type": "execute_result",
     "data": {
      "text/plain": [
       "matrix([[  2,   9,  11,  14],\n",
       "        [  8, -10, -14, -11]])"
      ]
     },
     "metadata": {},
     "execution_count": 88
    }
   ],
   "source": [
    "import numpy as np \n",
    "\n",
    "A = np.array([[1,9,8,5], [3,6,3,2], [3,3,3,3], [0,2,5,9], [4,4,1,2]])\n",
    "B = np.array([[1,-1,0,1,1], [-2,0,2,-1,1]])\n",
    "\n",
    "A_m = np.matrix(A)\n",
    "B_m = np.matrix(B)\n",
    "print('A shape', A_m)\n",
    "print('B shape', B_m)\n",
    "B_m @ A_m"
   ]
  },
  {
   "cell_type": "code",
   "execution_count": 113,
   "metadata": {},
   "outputs": [
    {
     "output_type": "execute_result",
     "data": {
      "text/plain": [
       "matrix([[22,  3,  0],\n",
       "        [ 3,  7,  0],\n",
       "        [ 0,  0,  3]])"
      ]
     },
     "metadata": {},
     "execution_count": 113
    }
   ],
   "source": [
    "import numpy as np \n",
    "\n",
    "x = np.array([1,2,1,0,4])\n",
    "y = np.array([2,1,-1,1,0])\n",
    "z = np.array([-1,1,-1,0,0])\n",
    "x = x.reshape((5,1))\n",
    "y = y.reshape((5,1))\n",
    "z = z.reshape((5,1))\n",
    "\n",
    "#A = np.matrix(\"1,2,-1;2,1,1;,1,-1,-1;0,1,0;4,0,0\")\n",
    "A = np.matrix(\"1,2,1,0,4;2,1,-1,1,0;-1,1,-1,0,0\")\n",
    "R = A*A.T\n",
    "R\n",
    "#6,3,0,2,4,3,6,0,1,8,0,0,3,-1,4,2,1,-1,1,0,4,8,4,0,16\n",
    "#22,3,0,3,7,0,0,0,3"
   ]
  },
  {
   "cell_type": "code",
   "execution_count": 140,
   "metadata": {},
   "outputs": [
    {
     "output_type": "execute_result",
     "data": {
      "text/plain": [
       "Аня       50.20\n",
       "Борис     74.88\n",
       "Вика      59.10\n",
       "Галя      67.80\n",
       "Дима     166.60\n",
       "Егор     113.80\n",
       "Женя      66.21\n",
       "Юра      157.75\n",
       "dtype: float64"
      ]
     },
     "metadata": {},
     "execution_count": 140
    }
   ],
   "source": [
    "import pandas as pd\n",
    "import numpy as np \n",
    "\n",
    "Count_DF = pd.DataFrame({'Женские стрижки': [10, 2, 12, 4, 6, 10, 22, 7], \n",
    "                                'Мужские стрижки': [5, 21, 12, 8, 25, 3, 1, 0], \n",
    "                                'Окрашивания':[12, 3, 0, 18, 27, 2, 4, 31],\n",
    "                              'Укладка':[15, 25, 30, 14, 25, 17, 25, 31],\n",
    "                                'Уход':[10, 6, 4, 5, 18, 12, 20, 28]\n",
    "                                }, \n",
    "                               index=['Аня', 'Борис', 'Вика', 'Галя', 'Дима', 'Егор', 'Женя','Юра'])\n",
    "Price_DF = pd.DataFrame({'Женские стрижки': [2, 1.8, 2, 1.8, 2.5, 5, 1.1, 4.5], \n",
    "                                'Мужские стрижки': [1.5, 2.5, 2, 1.2, 3.5, 5, 1, 4], \n",
    "                                'Окрашивания':[1, 1, 0, 2.8, 2, 3, 1.5, 2.5],\n",
    "                              'Укладка':[0.8, 1, 0.5, 0.8, 1, 2, 0.5, 1],\n",
    "                                'Уход':[1, 1, 2, 2, 1.5, 2.5, 1.7, 2] \n",
    "                                }, \n",
    "                               index=['Аня', 'Борис', 'Вика', 'Галя', 'Дима', 'Егор', 'Женя','Юра'])\n",
    "Profit_DF = pd.DataFrame({'Женские стрижки': [0.2], \n",
    "                                'Мужские стрижки': [0.2], \n",
    "                                'Окрашивания':[0.3],\n",
    "                              'Укладка':[0.1],\n",
    "                                'Уход':[0.1] \n",
    "                                },index=['Комиссия'])\n",
    "#com = np.array([0.2,0.2,0.3,0.1,0.1])\n",
    "com = np.array([0.8,0.8,0.7,0.9,0.9])\n",
    "\n",
    "#Count_DF.loc['Борис'] * Price_DF.loc['Борис']\n",
    "\n",
    "\n",
    "\n",
    "\n",
    "df = Count_DF * Price_DF * com\n",
    "#df\n",
    "df.sum(axis = 1, skipna = True) \n",
    "\n"
   ]
  },
  {
   "source": [
    "### 16. Обратная матрица"
   ],
   "cell_type": "markdown",
   "metadata": {}
  },
  {
   "cell_type": "code",
   "execution_count": 141,
   "metadata": {},
   "outputs": [
    {
     "output_type": "execute_result",
     "data": {
      "text/plain": [
       "matrix([[1, 0],\n",
       "        [0, 1]])"
      ]
     },
     "metadata": {},
     "execution_count": 141
    }
   ],
   "source": [
    "import numpy as np \n",
    "\n",
    "a = np.matrix(\"1,2;3,7\")\n",
    "b = np.matrix(\"7,-2;-3,1\")\n",
    "a*b"
   ]
  },
  {
   "cell_type": "code",
   "execution_count": 145,
   "metadata": {},
   "outputs": [
    {
     "output_type": "execute_result",
     "data": {
      "text/plain": [
       "matrix([[-0.66666667, -1.33333333,  1.        ],\n",
       "        [-0.66666667,  3.66666667, -2.        ],\n",
       "        [ 1.        , -2.        ,  1.        ]])"
      ]
     },
     "metadata": {},
     "execution_count": 145
    }
   ],
   "source": [
    "import numpy as np \n",
    "A = np.matrix(\"1,2,3;4,5,6;7,8,10\")\n",
    "A_inv = np.linalg.inv(A)\n",
    "A_inv"
   ]
  },
  {
   "cell_type": "code",
   "execution_count": 153,
   "metadata": {},
   "outputs": [
    {
     "output_type": "execute_result",
     "data": {
      "text/plain": [
       "matrix([[0.5 , 0.  , 0.  ],\n",
       "        [0.  , 0.25, 0.  ],\n",
       "        [0.  , 0.  , 0.2 ]])"
      ]
     },
     "metadata": {},
     "execution_count": 153
    }
   ],
   "source": [
    "import numpy as np \n",
    "A = np.matrix(\"2,0,0;0,4,0;0,0,5\")\n",
    "np.linalg.inv(A)\n"
   ]
  },
  {
   "source": [
    "### 17. Определитель матрицы"
   ],
   "cell_type": "markdown",
   "metadata": {}
  },
  {
   "cell_type": "code",
   "execution_count": 154,
   "metadata": {},
   "outputs": [
    {
     "output_type": "execute_result",
     "data": {
      "text/plain": [
       "-3.000000000000001"
      ]
     },
     "metadata": {},
     "execution_count": 154
    }
   ],
   "source": [
    "import numpy as np \n",
    "A = np.matrix(\"1,2,3;4,5,6;7,8,10\")\n",
    "A_det = np.linalg.det(A)\n",
    "A_det"
   ]
  },
  {
   "cell_type": "code",
   "execution_count": 155,
   "metadata": {},
   "outputs": [
    {
     "output_type": "stream",
     "name": "stdout",
     "text": [
      "-1.0 17.999999999999996 29.99999999999999\n"
     ]
    }
   ],
   "source": [
    "import numpy as np \n",
    "\n",
    "A = np.matrix(\"1,2;1,1\")\n",
    "B = np.matrix(\"5,-2;-1,4\")\n",
    "\n",
    "Det_A =np.linalg.det(A)\n",
    "Det_B =np.linalg.det(B)\n",
    "Det_A_plus_B =np.linalg.det(A+B)\n",
    "print(Det_A, Det_B, Det_A_plus_B)\n"
   ]
  },
  {
   "cell_type": "code",
   "execution_count": 157,
   "metadata": {},
   "outputs": [
    {
     "output_type": "stream",
     "name": "stdout",
     "text": [
      "7.999999999999998 0.12500000000000003\n"
     ]
    }
   ],
   "source": [
    "import numpy as np \n",
    "\n",
    "A = np.matrix(\"2,0,0; 0,1,0; 0,0,4\")\n",
    "\n",
    "Det_A = np.linalg.det(A)\n",
    "Det_A_inv = np.linalg.det(np.linalg.inv(A))\n",
    "print(Det_A, Det_A_inv)\n"
   ]
  },
  {
   "source": [
    "### 19. Линейная (не)зависимость ч.2\n",
    "\n"
   ],
   "cell_type": "markdown",
   "metadata": {}
  },
  {
   "cell_type": "code",
   "execution_count": 159,
   "metadata": {},
   "outputs": [
    {
     "output_type": "execute_result",
     "data": {
      "text/plain": [
       "2"
      ]
     },
     "metadata": {},
     "execution_count": 159
    }
   ],
   "source": [
    "import numpy as np \n",
    "\n",
    "v1 = np.array([1,2,3,1])\n",
    "v2 = np.array([4,5,6,1])\n",
    "v3 = np.array([7,8,9,1])\n",
    "A = np.array([v1,v2,v3]).T\n",
    "\n",
    "np.linalg.matrix_rank(A)"
   ]
  },
  {
   "cell_type": "code",
   "execution_count": 160,
   "metadata": {},
   "outputs": [
    {
     "output_type": "execute_result",
     "data": {
      "text/plain": [
       "2"
      ]
     },
     "metadata": {},
     "execution_count": 160
    }
   ],
   "source": [
    "import numpy as np \n",
    "\n",
    "v1 = np.array([1,0,3,5])\n",
    "v2 = np.array([0,4,5,5])\n",
    "v3 = np.array([0,0,0,0])\n",
    "v4 = np.array([0,0,0,0])\n",
    "A = np.array([v1,v2,v3,v4]).T\n",
    "\n",
    "np.linalg.matrix_rank(A)"
   ]
  },
  {
   "cell_type": "code",
   "execution_count": 161,
   "metadata": {},
   "outputs": [
    {
     "output_type": "execute_result",
     "data": {
      "text/plain": [
       "3"
      ]
     },
     "metadata": {},
     "execution_count": 161
    }
   ],
   "source": [
    "import numpy as np \n",
    "\n",
    "v1 = np.array([1,0,3,5])\n",
    "v2 = np.array([0,4,5,5])\n",
    "v3 = np.array([0,0,0,4])\n",
    "v4 = np.array([0,0,0,0])\n",
    "A = np.array([v1,v2,v3,v4]).T\n",
    "\n",
    "np.linalg.matrix_rank(A)"
   ]
  },
  {
   "source": [
    "### 20. Практика. Обратная матрица, ранг, определитель"
   ],
   "cell_type": "markdown",
   "metadata": {}
  },
  {
   "cell_type": "code",
   "execution_count": 162,
   "metadata": {},
   "outputs": [
    {
     "output_type": "execute_result",
     "data": {
      "text/plain": [
       "array([[-1.875  ,  2.3125 , -0.03125],\n",
       "       [ 0.375  , -0.5625 ,  0.15625],\n",
       "       [ 1.25   , -1.375  , -0.0625 ]])"
      ]
     },
     "metadata": {},
     "execution_count": 162
    }
   ],
   "source": [
    "import numpy as np\n",
    "\n",
    "A = np.array([[8, 6, 11], [7, 5, 9],[6, 10, 6]])\n",
    "\n",
    "np.linalg.inv(A)"
   ]
  },
  {
   "cell_type": "code",
   "execution_count": 163,
   "metadata": {},
   "outputs": [
    {
     "output_type": "execute_result",
     "data": {
      "text/plain": [
       "4"
      ]
     },
     "metadata": {},
     "execution_count": 163
    }
   ],
   "source": [
    "v1 = np.array([9, 10, 7, 7, 9])\n",
    "v2 = np.array([2, 0, 5, 1, 4])\n",
    "v3 = np.array([4, 0, 0, 4, 1])\n",
    "v4 = np.array([3, -4, 3, -1, -4])\n",
    "\n",
    "A = np.matrix([v1,v2,v3,v4])\n",
    "np.linalg.matrix_rank(A)"
   ]
  },
  {
   "cell_type": "code",
   "execution_count": 169,
   "metadata": {},
   "outputs": [
    {
     "output_type": "execute_result",
     "data": {
      "text/plain": [
       "matrix([[ 0.01711488, -0.02798543, -0.02623063,  0.01599775],\n",
       "        [-0.02798543,  0.071967  ,  0.03031441, -0.02722776],\n",
       "        [-0.02623063,  0.03031441,  0.07683106, -0.02640498],\n",
       "        [ 0.01599775, -0.02722776, -0.02640498,  0.03479318]])"
      ]
     },
     "metadata": {},
     "execution_count": 169
    }
   ],
   "source": [
    "A = np.matrix([v1,v2,v3,v4])\n",
    "#np.linalg.det(A@A.T)\n",
    "B = A@A.T\n",
    "np.linalg.inv(B)"
   ]
  },
  {
   "cell_type": "code",
   "execution_count": 174,
   "metadata": {},
   "outputs": [
    {
     "output_type": "execute_result",
     "data": {
      "text/plain": [
       "matrix([[0., 1.]])"
      ]
     },
     "metadata": {},
     "execution_count": 174
    }
   ],
   "source": [
    "import numpy as np \n",
    "\n",
    "A = np.matrix(\"1,1;1,2\")\n",
    "b = np.array([1,2])\n",
    "np.linalg.inv(A)@b"
   ]
  },
  {
   "cell_type": "code",
   "execution_count": 176,
   "metadata": {},
   "outputs": [
    {
     "output_type": "execute_result",
     "data": {
      "text/plain": [
       "matrix([[-2.,  4.]])"
      ]
     },
     "metadata": {},
     "execution_count": 176
    }
   ],
   "source": [
    "import numpy as np \n",
    "\n",
    "A = np.matrix(\"4,7;5,10\")\n",
    "b = np.array([20,30])\n",
    "np.linalg.inv(A)@b"
   ]
  },
  {
   "cell_type": "code",
   "execution_count": null,
   "metadata": {},
   "outputs": [],
   "source": []
  }
 ]
}