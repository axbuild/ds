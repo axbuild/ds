{
 "metadata": {
  "language_info": {
   "codemirror_mode": {
    "name": "ipython",
    "version": 3
   },
   "file_extension": ".py",
   "mimetype": "text/x-python",
   "name": "python",
   "nbconvert_exporter": "python",
   "pygments_lexer": "ipython3",
   "version": "3.7.3-final"
  },
  "orig_nbformat": 2,
  "kernelspec": {
   "name": "python3",
   "display_name": "Python 3.7.3 64-bit ('dev': conda)",
   "metadata": {
    "interpreter": {
     "hash": "a6fb20785e68a82d7a1df266ceeea325dd5975b4df95e7fc1e3b620c572e83b5"
    }
   }
  }
 },
 "nbformat": 4,
 "nbformat_minor": 2,
 "cells": [
  {
   "cell_type": "code",
   "execution_count": 2,
   "metadata": {},
   "outputs": [
    {
     "output_type": "stream",
     "name": "stdout",
     "text": [
      "[33 65 50 45] 50 4\n"
     ]
    }
   ],
   "source": [
    "import numpy as np \n",
    "s=np.array([33,65,50,45])\n",
    "print(s, s[2], len(s))"
   ]
  },
  {
   "cell_type": "code",
   "execution_count": 3,
   "metadata": {},
   "outputs": [
    {
     "output_type": "stream",
     "name": "stdout",
     "text": [
      "ndim: 1\nshape: (6,)\n"
     ]
    }
   ],
   "source": [
    "x = np.array([59.50, 31.40, 19, 2, 60550, 2])\n",
    "# В NumPy вектор и массив - одно и то же. \n",
    "# Исключение - понятие вектор-столбец и вектор-строка - фактически двумерные массивы, \n",
    "# где один из атрибутов shape равен 1.\n",
    "\n",
    "print(\"ndim:\", x.ndim) # число осей (измерений) массива - n.dim: 1\n",
    "print(\"shape:\", x.shape) # размеры массива, для вектора определена только длина - shape: (6, )"
   ]
  },
  {
   "cell_type": "code",
   "execution_count": 4,
   "metadata": {},
   "outputs": [],
   "source": [
    "# вычислим долю жилой площади в квартире\n",
    "share_living_space = x[1]/x[0]"
   ]
  },
  {
   "cell_type": "code",
   "execution_count": 5,
   "metadata": {},
   "outputs": [],
   "source": [
    "#удаление признаков по индексу\n",
    "x = np.delete(x, [0, 1])"
   ]
  },
  {
   "cell_type": "code",
   "execution_count": 6,
   "metadata": {},
   "outputs": [],
   "source": [
    "#вставка признаков по индексу\n",
    "x = np.append(x, share_living_space)"
   ]
  },
  {
   "source": [
    "There are e and c are collinear: $ \\vec{e}  ||  \\vec{c} $"
   ],
   "cell_type": "markdown",
   "metadata": {}
  },
  {
   "cell_type": "code",
   "execution_count": 14,
   "metadata": {},
   "outputs": [
    {
     "output_type": "stream",
     "name": "stdout",
     "text": [
      "[15 23 14  8]\n[ 5 -7 -4 -6]\n[3.  4.6 2.8 1.6]\n"
     ]
    }
   ],
   "source": [
    "#арифметические операции\n",
    "a = np.array([10,8,5,1])\n",
    "b = np.array([5,15,9,7])\n",
    "c=a+b\n",
    "d=a-b\n",
    "e=c*0.2\n",
    "print(c)\n",
    "print(d)\n",
    "#коллинеарные вектора\n",
    "print(e)"
   ]
  },
  {
   "source": [
    "### Сложение векторов и умножение на число: особые случаи\n",
    "* Сложение противоположенных векторов равно 0\n",
    "* Умножение ветора на 0 равно 0\n",
    "* Умножение на нулевой вектор равно 0\n"
   ],
   "cell_type": "markdown",
   "metadata": {}
  },
  {
   "cell_type": "code",
   "execution_count": 24,
   "metadata": {},
   "outputs": [
    {
     "output_type": "stream",
     "name": "stdout",
     "text": [
      "[144000. 216000. 180000.]\n[394000. 496000. 400000.]\n"
     ]
    }
   ],
   "source": [
    "air = np.array([120000,150000,90000], dtype='f')\n",
    "wir = np.array([130000,130000,130000], dtype='f')\n",
    "tie = np.array([2000,3000,2500], dtype='f')\n",
    "tir = tie*72.0\n",
    "print(tir)\n",
    "print(air+wir+tir)\n"
   ]
  },
  {
   "cell_type": "code",
   "execution_count": null,
   "metadata": {},
   "outputs": [],
   "source": []
  }
 ]
}