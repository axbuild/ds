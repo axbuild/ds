{
 "metadata": {
  "language_info": {
   "codemirror_mode": {
    "name": "ipython",
    "version": 3
   },
   "file_extension": ".py",
   "mimetype": "text/x-python",
   "name": "python",
   "nbconvert_exporter": "python",
   "pygments_lexer": "ipython3",
   "version": "3.7.3-final"
  },
  "orig_nbformat": 2,
  "kernelspec": {
   "name": "python3",
   "display_name": "Python 3.7.3 64-bit ('dev': conda)",
   "metadata": {
    "interpreter": {
     "hash": "a6fb20785e68a82d7a1df266ceeea325dd5975b4df95e7fc1e3b620c572e83b5"
    }
   }
  }
 },
 "nbformat": 4,
 "nbformat_minor": 2,
 "cells": [
  {
   "cell_type": "code",
   "execution_count": 38,
   "metadata": {},
   "outputs": [
    {
     "output_type": "execute_result",
     "data": {
      "text/plain": [
       "   id  full_sq  life_sq  floor           sub_area  preschool_quota  \\\n",
       "0   1       43     27.0    4.0           Bibirevo           5001.0   \n",
       "1   2       34     19.0    3.0  Nagatinskij Zaton           3119.0   \n",
       "2   3       43     29.0    2.0     Tekstil'shhiki           1463.0   \n",
       "3   4       89     50.0    9.0             Mitino           6839.0   \n",
       "4   5       77     77.0    4.0          Basmannoe           3240.0   \n",
       "\n",
       "   preschool_education_centers_raion  school_quota  \\\n",
       "0                                  5       11065.0   \n",
       "1                                  5        6237.0   \n",
       "2                                  4        5580.0   \n",
       "3                                  9       17063.0   \n",
       "4                                  7        7770.0   \n",
       "\n",
       "   school_education_centers_raion  school_education_centers_top_20_raion  ...  \\\n",
       "0                               5                                      0  ...   \n",
       "1                               8                                      0  ...   \n",
       "2                               7                                      0  ...   \n",
       "3                              10                                      0  ...   \n",
       "4                               9                                      0  ...   \n",
       "\n",
       "   shopping_centers_km  office_km  additional_education_km  preschool_km  \\\n",
       "0             0.648488   0.637189                 0.947962      0.177975   \n",
       "1             0.519311   0.688796                 1.072315      0.273345   \n",
       "2             1.486533   1.543049                 0.391957      0.158072   \n",
       "3             0.599914   0.934273                 0.892674      0.236455   \n",
       "4             0.429052   0.077901                 0.810801      0.376838   \n",
       "\n",
       "   big_church_km  church_synagogue_km  theater_km  museum_km    ecology  \\\n",
       "0       0.625783             0.628187   14.053047   7.389498       good   \n",
       "1       0.967821             0.471447    6.829889   0.709260  excellent   \n",
       "2       3.178751             0.755946    4.273200   3.156423       poor   \n",
       "3       1.031777             1.561505   16.990677  16.041521       good   \n",
       "4       0.378756             0.121681    1.112486   1.800125  excellent   \n",
       "\n",
       "   price_doc  \n",
       "0    5850000  \n",
       "1    6000000  \n",
       "2    5700000  \n",
       "3   13100000  \n",
       "4   16331452  \n",
       "\n",
       "[5 rows x 56 columns]"
      ],
      "text/html": "<div>\n<style scoped>\n    .dataframe tbody tr th:only-of-type {\n        vertical-align: middle;\n    }\n\n    .dataframe tbody tr th {\n        vertical-align: top;\n    }\n\n    .dataframe thead th {\n        text-align: right;\n    }\n</style>\n<table border=\"1\" class=\"dataframe\">\n  <thead>\n    <tr style=\"text-align: right;\">\n      <th></th>\n      <th>id</th>\n      <th>full_sq</th>\n      <th>life_sq</th>\n      <th>floor</th>\n      <th>sub_area</th>\n      <th>preschool_quota</th>\n      <th>preschool_education_centers_raion</th>\n      <th>school_quota</th>\n      <th>school_education_centers_raion</th>\n      <th>school_education_centers_top_20_raion</th>\n      <th>...</th>\n      <th>shopping_centers_km</th>\n      <th>office_km</th>\n      <th>additional_education_km</th>\n      <th>preschool_km</th>\n      <th>big_church_km</th>\n      <th>church_synagogue_km</th>\n      <th>theater_km</th>\n      <th>museum_km</th>\n      <th>ecology</th>\n      <th>price_doc</th>\n    </tr>\n  </thead>\n  <tbody>\n    <tr>\n      <th>0</th>\n      <td>1</td>\n      <td>43</td>\n      <td>27.0</td>\n      <td>4.0</td>\n      <td>Bibirevo</td>\n      <td>5001.0</td>\n      <td>5</td>\n      <td>11065.0</td>\n      <td>5</td>\n      <td>0</td>\n      <td>...</td>\n      <td>0.648488</td>\n      <td>0.637189</td>\n      <td>0.947962</td>\n      <td>0.177975</td>\n      <td>0.625783</td>\n      <td>0.628187</td>\n      <td>14.053047</td>\n      <td>7.389498</td>\n      <td>good</td>\n      <td>5850000</td>\n    </tr>\n    <tr>\n      <th>1</th>\n      <td>2</td>\n      <td>34</td>\n      <td>19.0</td>\n      <td>3.0</td>\n      <td>Nagatinskij Zaton</td>\n      <td>3119.0</td>\n      <td>5</td>\n      <td>6237.0</td>\n      <td>8</td>\n      <td>0</td>\n      <td>...</td>\n      <td>0.519311</td>\n      <td>0.688796</td>\n      <td>1.072315</td>\n      <td>0.273345</td>\n      <td>0.967821</td>\n      <td>0.471447</td>\n      <td>6.829889</td>\n      <td>0.709260</td>\n      <td>excellent</td>\n      <td>6000000</td>\n    </tr>\n    <tr>\n      <th>2</th>\n      <td>3</td>\n      <td>43</td>\n      <td>29.0</td>\n      <td>2.0</td>\n      <td>Tekstil'shhiki</td>\n      <td>1463.0</td>\n      <td>4</td>\n      <td>5580.0</td>\n      <td>7</td>\n      <td>0</td>\n      <td>...</td>\n      <td>1.486533</td>\n      <td>1.543049</td>\n      <td>0.391957</td>\n      <td>0.158072</td>\n      <td>3.178751</td>\n      <td>0.755946</td>\n      <td>4.273200</td>\n      <td>3.156423</td>\n      <td>poor</td>\n      <td>5700000</td>\n    </tr>\n    <tr>\n      <th>3</th>\n      <td>4</td>\n      <td>89</td>\n      <td>50.0</td>\n      <td>9.0</td>\n      <td>Mitino</td>\n      <td>6839.0</td>\n      <td>9</td>\n      <td>17063.0</td>\n      <td>10</td>\n      <td>0</td>\n      <td>...</td>\n      <td>0.599914</td>\n      <td>0.934273</td>\n      <td>0.892674</td>\n      <td>0.236455</td>\n      <td>1.031777</td>\n      <td>1.561505</td>\n      <td>16.990677</td>\n      <td>16.041521</td>\n      <td>good</td>\n      <td>13100000</td>\n    </tr>\n    <tr>\n      <th>4</th>\n      <td>5</td>\n      <td>77</td>\n      <td>77.0</td>\n      <td>4.0</td>\n      <td>Basmannoe</td>\n      <td>3240.0</td>\n      <td>7</td>\n      <td>7770.0</td>\n      <td>9</td>\n      <td>0</td>\n      <td>...</td>\n      <td>0.429052</td>\n      <td>0.077901</td>\n      <td>0.810801</td>\n      <td>0.376838</td>\n      <td>0.378756</td>\n      <td>0.121681</td>\n      <td>1.112486</td>\n      <td>1.800125</td>\n      <td>excellent</td>\n      <td>16331452</td>\n    </tr>\n  </tbody>\n</table>\n<p>5 rows × 56 columns</p>\n</div>"
     },
     "metadata": {},
     "execution_count": 38
    }
   ],
   "source": [
    "import pandas as pd\n",
    "\n",
    "data = pd.read_csv('data/data_flats.csv', sep=\";\")\n",
    "data.head()"
   ]
  },
  {
   "cell_type": "code",
   "execution_count": 39,
   "metadata": {},
   "outputs": [
    {
     "output_type": "stream",
     "name": "stdout",
     "text": [
      "<class 'pandas.core.frame.DataFrame'>\nRangeIndex: 30469 entries, 0 to 30468\nData columns (total 56 columns):\n #   Column                                 Non-Null Count  Dtype  \n---  ------                                 --------------  -----  \n 0   id                                     30469 non-null  int64  \n 1   full_sq                                30469 non-null  int64  \n 2   life_sq                                24086 non-null  float64\n 3   floor                                  30302 non-null  float64\n 4   sub_area                               30469 non-null  object \n 5   preschool_quota                        23781 non-null  float64\n 6   preschool_education_centers_raion      30469 non-null  int64  \n 7   school_quota                           23784 non-null  float64\n 8   school_education_centers_raion         30469 non-null  int64  \n 9   school_education_centers_top_20_raion  30469 non-null  int64  \n 10  hospital_beds_raion                    16029 non-null  float64\n 11  healthcare_centers_raion               30469 non-null  int64  \n 12  university_top_20_raion                30469 non-null  int64  \n 13  sport_objects_raion                    30469 non-null  int64  \n 14  additional_education_raion             30469 non-null  int64  \n 15  culture_objects_top_25_raion           30469 non-null  int64  \n 16  shopping_centers_raion                 30469 non-null  int64  \n 17  office_raion                           30469 non-null  int64  \n 18  metro_min_avto                         30469 non-null  float64\n 19  metro_km_avto                          30469 non-null  float64\n 20  metro_min_walk                         30444 non-null  float64\n 21  metro_km_walk                          30444 non-null  float64\n 22  kindergarten_km                        30469 non-null  float64\n 23  school_km                              30469 non-null  float64\n 24  park_km                                30469 non-null  float64\n 25  green_zone_km                          30469 non-null  float64\n 26  industrial_km                          30469 non-null  float64\n 27  railroad_station_walk_km               30444 non-null  float64\n 28  railroad_station_walk_min              30444 non-null  float64\n 29  public_transport_station_km            30469 non-null  float64\n 30  public_transport_station_min_walk      30469 non-null  float64\n 31  mkad_km                                30469 non-null  float64\n 32  ttk_km                                 30469 non-null  float64\n 33  sadovoe_km                             30469 non-null  float64\n 34  bulvar_ring_km                         30469 non-null  float64\n 35  kremlin_km                             30469 non-null  float64\n 36  big_market_km                          30469 non-null  float64\n 37  market_shop_km                         30469 non-null  float64\n 38  fitness_km                             30469 non-null  float64\n 39  swim_pool_km                           30469 non-null  float64\n 40  ice_rink_km                            30469 non-null  float64\n 41  stadium_km                             30469 non-null  float64\n 42  basketball_km                          30469 non-null  float64\n 43  hospice_morgue_km                      30469 non-null  float64\n 44  university_km                          30469 non-null  float64\n 45  workplaces_km                          30469 non-null  float64\n 46  shopping_centers_km                    30469 non-null  float64\n 47  office_km                              30469 non-null  float64\n 48  additional_education_km                30469 non-null  float64\n 49  preschool_km                           30469 non-null  float64\n 50  big_church_km                          30469 non-null  float64\n 51  church_synagogue_km                    30469 non-null  float64\n 52  theater_km                             30469 non-null  float64\n 53  museum_km                              30469 non-null  float64\n 54  ecology                                30469 non-null  object \n 55  price_doc                              30469 non-null  int64  \ndtypes: float64(41), int64(13), object(2)\nmemory usage: 13.0+ MB\n"
     ]
    }
   ],
   "source": [
    "data.info()"
   ]
  },
  {
   "cell_type": "code",
   "execution_count": 41,
   "metadata": {},
   "outputs": [
    {
     "output_type": "execute_result",
     "data": {
      "text/plain": [
       "(13652, 56)"
      ]
     },
     "metadata": {},
     "execution_count": 41
    }
   ],
   "source": [
    "result = data.dropna(axis=0)\n",
    "result.shape"
   ]
  },
  {
   "cell_type": "code",
   "execution_count": 72,
   "metadata": {},
   "outputs": [
    {
     "output_type": "execute_result",
     "data": {
      "text/plain": [
       "   ticket_id                                     agency_name  \\\n",
       "0      22056  Buildings, Safety Engineering & Env Department   \n",
       "1      27586  Buildings, Safety Engineering & Env Department   \n",
       "2      22062  Buildings, Safety Engineering & Env Department   \n",
       "3      22084  Buildings, Safety Engineering & Env Department   \n",
       "4      22093  Buildings, Safety Engineering & Env Department   \n",
       "\n",
       "     inspector_name                      violator_name  \\\n",
       "0   Sims, Martinzie  INVESTMENT INC., MIDWEST MORTGAGE   \n",
       "1  Williams, Darrin           Michigan, Covenant House   \n",
       "2   Sims, Martinzie                    SANDERS, DERRON   \n",
       "3   Sims, Martinzie                       MOROSI, MIKE   \n",
       "4   Sims, Martinzie                    NATHANIEL, NEAL   \n",
       "\n",
       "   violation_street_number violation_street_name  violation_zip_code  \\\n",
       "0                   2900.0                 TYLER                 NaN   \n",
       "1                   4311.0               CENTRAL                 NaN   \n",
       "2                   1449.0            LONGFELLOW                 NaN   \n",
       "3                   1441.0            LONGFELLOW                 NaN   \n",
       "4                   2449.0             CHURCHILL                 NaN   \n",
       "\n",
       "   mailing_address_str_number mailing_address_str_name     city  ...  \\\n",
       "0                         3.0                S. WICKER  CHICAGO  ...   \n",
       "1                      2959.0       Martin Luther King  Detroit  ...   \n",
       "2                     23658.0                 P.O. BOX  DETROIT  ...   \n",
       "3                         5.0                ST. CLAIR  DETROIT  ...   \n",
       "4                      7449.0                CHURCHILL  DETROIT  ...   \n",
       "\n",
       "  clean_up_cost judgment_amount payment_amount balance_due  \\\n",
       "0           0.0           305.0            0.0       305.0   \n",
       "1           0.0           855.0          780.0        75.0   \n",
       "2           0.0             0.0            0.0         0.0   \n",
       "3           0.0             0.0            0.0         0.0   \n",
       "4           0.0             0.0            0.0         0.0   \n",
       "\n",
       "          payment_date      payment_status collection_status grafitti_status  \\\n",
       "0                  NaN  NO PAYMENT APPLIED               NaN             NaN   \n",
       "1  2005-06-02 00:00:00        PAID IN FULL               NaN             NaN   \n",
       "2                  NaN  NO PAYMENT APPLIED               NaN             NaN   \n",
       "3                  NaN  NO PAYMENT APPLIED               NaN             NaN   \n",
       "4                  NaN  NO PAYMENT APPLIED               NaN             NaN   \n",
       "\n",
       "                          compliance_detail  compliance  \n",
       "0               non-compliant by no payment         0.0  \n",
       "1  compliant by late payment within 1 month         1.0  \n",
       "2            not responsible by disposition         NaN  \n",
       "3            not responsible by disposition         NaN  \n",
       "4            not responsible by disposition         NaN  \n",
       "\n",
       "[5 rows x 34 columns]"
      ],
      "text/html": "<div>\n<style scoped>\n    .dataframe tbody tr th:only-of-type {\n        vertical-align: middle;\n    }\n\n    .dataframe tbody tr th {\n        vertical-align: top;\n    }\n\n    .dataframe thead th {\n        text-align: right;\n    }\n</style>\n<table border=\"1\" class=\"dataframe\">\n  <thead>\n    <tr style=\"text-align: right;\">\n      <th></th>\n      <th>ticket_id</th>\n      <th>agency_name</th>\n      <th>inspector_name</th>\n      <th>violator_name</th>\n      <th>violation_street_number</th>\n      <th>violation_street_name</th>\n      <th>violation_zip_code</th>\n      <th>mailing_address_str_number</th>\n      <th>mailing_address_str_name</th>\n      <th>city</th>\n      <th>...</th>\n      <th>clean_up_cost</th>\n      <th>judgment_amount</th>\n      <th>payment_amount</th>\n      <th>balance_due</th>\n      <th>payment_date</th>\n      <th>payment_status</th>\n      <th>collection_status</th>\n      <th>grafitti_status</th>\n      <th>compliance_detail</th>\n      <th>compliance</th>\n    </tr>\n  </thead>\n  <tbody>\n    <tr>\n      <th>0</th>\n      <td>22056</td>\n      <td>Buildings, Safety Engineering &amp; Env Department</td>\n      <td>Sims, Martinzie</td>\n      <td>INVESTMENT INC., MIDWEST MORTGAGE</td>\n      <td>2900.0</td>\n      <td>TYLER</td>\n      <td>NaN</td>\n      <td>3.0</td>\n      <td>S. WICKER</td>\n      <td>CHICAGO</td>\n      <td>...</td>\n      <td>0.0</td>\n      <td>305.0</td>\n      <td>0.0</td>\n      <td>305.0</td>\n      <td>NaN</td>\n      <td>NO PAYMENT APPLIED</td>\n      <td>NaN</td>\n      <td>NaN</td>\n      <td>non-compliant by no payment</td>\n      <td>0.0</td>\n    </tr>\n    <tr>\n      <th>1</th>\n      <td>27586</td>\n      <td>Buildings, Safety Engineering &amp; Env Department</td>\n      <td>Williams, Darrin</td>\n      <td>Michigan, Covenant House</td>\n      <td>4311.0</td>\n      <td>CENTRAL</td>\n      <td>NaN</td>\n      <td>2959.0</td>\n      <td>Martin Luther King</td>\n      <td>Detroit</td>\n      <td>...</td>\n      <td>0.0</td>\n      <td>855.0</td>\n      <td>780.0</td>\n      <td>75.0</td>\n      <td>2005-06-02 00:00:00</td>\n      <td>PAID IN FULL</td>\n      <td>NaN</td>\n      <td>NaN</td>\n      <td>compliant by late payment within 1 month</td>\n      <td>1.0</td>\n    </tr>\n    <tr>\n      <th>2</th>\n      <td>22062</td>\n      <td>Buildings, Safety Engineering &amp; Env Department</td>\n      <td>Sims, Martinzie</td>\n      <td>SANDERS, DERRON</td>\n      <td>1449.0</td>\n      <td>LONGFELLOW</td>\n      <td>NaN</td>\n      <td>23658.0</td>\n      <td>P.O. BOX</td>\n      <td>DETROIT</td>\n      <td>...</td>\n      <td>0.0</td>\n      <td>0.0</td>\n      <td>0.0</td>\n      <td>0.0</td>\n      <td>NaN</td>\n      <td>NO PAYMENT APPLIED</td>\n      <td>NaN</td>\n      <td>NaN</td>\n      <td>not responsible by disposition</td>\n      <td>NaN</td>\n    </tr>\n    <tr>\n      <th>3</th>\n      <td>22084</td>\n      <td>Buildings, Safety Engineering &amp; Env Department</td>\n      <td>Sims, Martinzie</td>\n      <td>MOROSI, MIKE</td>\n      <td>1441.0</td>\n      <td>LONGFELLOW</td>\n      <td>NaN</td>\n      <td>5.0</td>\n      <td>ST. CLAIR</td>\n      <td>DETROIT</td>\n      <td>...</td>\n      <td>0.0</td>\n      <td>0.0</td>\n      <td>0.0</td>\n      <td>0.0</td>\n      <td>NaN</td>\n      <td>NO PAYMENT APPLIED</td>\n      <td>NaN</td>\n      <td>NaN</td>\n      <td>not responsible by disposition</td>\n      <td>NaN</td>\n    </tr>\n    <tr>\n      <th>4</th>\n      <td>22093</td>\n      <td>Buildings, Safety Engineering &amp; Env Department</td>\n      <td>Sims, Martinzie</td>\n      <td>NATHANIEL, NEAL</td>\n      <td>2449.0</td>\n      <td>CHURCHILL</td>\n      <td>NaN</td>\n      <td>7449.0</td>\n      <td>CHURCHILL</td>\n      <td>DETROIT</td>\n      <td>...</td>\n      <td>0.0</td>\n      <td>0.0</td>\n      <td>0.0</td>\n      <td>0.0</td>\n      <td>NaN</td>\n      <td>NO PAYMENT APPLIED</td>\n      <td>NaN</td>\n      <td>NaN</td>\n      <td>not responsible by disposition</td>\n      <td>NaN</td>\n    </tr>\n  </tbody>\n</table>\n<p>5 rows × 34 columns</p>\n</div>"
     },
     "metadata": {},
     "execution_count": 72
    }
   ],
   "source": [
    "import pandas as pd\n",
    "\n",
    "data = pd.read_csv(\"data/train.csv\", encoding = 'ISO-8859-1', low_memory = False)\n",
    "data.head()"
   ]
  },
  {
   "cell_type": "code",
   "execution_count": 19,
   "metadata": {},
   "outputs": [],
   "source": [
    "#max_occurence_value = data['state'].value_counts().index[0]\n",
    "#data['state'].fillna(max_occurence_value)"
   ]
  },
  {
   "cell_type": "code",
   "execution_count": 60,
   "metadata": {},
   "outputs": [
    {
     "output_type": "stream",
     "name": "stdout",
     "text": [
      "<class 'pandas.core.frame.DataFrame'>\nRangeIndex: 250306 entries, 0 to 250305\nData columns (total 34 columns):\n #   Column                      Non-Null Count   Dtype  \n---  ------                      --------------   -----  \n 0   ticket_id                   250306 non-null  int64  \n 1   agency_name                 250306 non-null  object \n 2   inspector_name              250306 non-null  object \n 3   violator_name               250272 non-null  object \n 4   violation_street_number     250306 non-null  float64\n 5   violation_street_name       250306 non-null  object \n 6   violation_zip_code          0 non-null       float64\n 7   mailing_address_str_number  246704 non-null  float64\n 8   mailing_address_str_name    250302 non-null  object \n 9   city                        250306 non-null  object \n 10  state                       250213 non-null  object \n 11  zip_code                    250305 non-null  object \n 12  non_us_str_code             3 non-null       object \n 13  country                     250306 non-null  object \n 14  ticket_issued_date          250306 non-null  object \n 15  hearing_date                237815 non-null  object \n 16  violation_code              250306 non-null  object \n 17  violation_description       250306 non-null  object \n 18  disposition                 250306 non-null  object \n 19  fine_amount                 250305 non-null  float64\n 20  admin_fee                   250306 non-null  float64\n 21  state_fee                   250306 non-null  float64\n 22  late_fee                    250306 non-null  float64\n 23  discount_amount             250306 non-null  float64\n 24  clean_up_cost               250306 non-null  float64\n 25  judgment_amount             250306 non-null  float64\n 26  payment_amount              250306 non-null  float64\n 27  balance_due                 250306 non-null  float64\n 28  payment_date                41113 non-null   object \n 29  payment_status              250306 non-null  object \n 30  collection_status           36897 non-null   object \n 31  grafitti_status             1 non-null       object \n 32  compliance_detail           250306 non-null  object \n 33  compliance                  159880 non-null  float64\ndtypes: float64(13), int64(1), object(20)\nmemory usage: 64.9+ MB\n"
     ]
    }
   ],
   "source": [
    "data.info()"
   ]
  },
  {
   "cell_type": "code",
   "execution_count": 45,
   "metadata": {},
   "outputs": [],
   "source": [
    "#data.dropna(axis=0)\n",
    "#data.shape"
   ]
  },
  {
   "cell_type": "code",
   "execution_count": 73,
   "metadata": {},
   "outputs": [
    {
     "output_type": "execute_result",
     "data": {
      "text/plain": [
       "-13.147334652567258"
      ]
     },
     "metadata": {},
     "execution_count": 73
    }
   ],
   "source": [
    "from sklearn.preprocessing import StandardScaler\n",
    "import numpy as np\n",
    "\n",
    "scaler = StandardScaler()\n",
    "\n",
    "#data.drop(data.columns.difference(['ticket_id','balance_due']), 1, inplace=True)\n",
    "\n",
    "test_data = data['balance_due'].fillna(0)\n",
    "\n",
    "test_data = np.matrix(test_data)\n",
    "\n",
    "result = scaler.fit_transform(test_data.reshape(-1, 1))\n",
    "result.min()\n"
   ]
  },
  {
   "cell_type": "code",
   "execution_count": 97,
   "metadata": {},
   "outputs": [
    {
     "output_type": "execute_result",
     "data": {
      "text/plain": [
       "0.4502299353835779"
      ]
     },
     "metadata": {},
     "execution_count": 97
    }
   ],
   "source": [
    "import numpy as np\n",
    "\n",
    "data['balance_due'] = data['balance_due'].fillna(0)\n",
    "data[data['balance_due']>=0]\n",
    "data['balance_due'] = np.sqrt(data['balance_due'])\n",
    "#data['balance_due'].to_list()\n",
    "#np.median(data['balance_due'].to_list())\n",
    "np.abs(np.median(data['balance_due'].to_list())-np.mean(data['balance_due'].to_list()))\n"
   ]
  },
  {
   "cell_type": "code",
   "execution_count": null,
   "metadata": {},
   "outputs": [],
   "source": [
    "def outliers_iqr(ys):\n",
    "    quartile_1, quartile_3 = np.percentile(ys, [25, 75])\n",
    "    iqr = quartile_3 - quartile_1\n",
    "    lower_bound = quartile_1 - (iqr * 1.5)\n",
    "    upper_bound = quartile_3 + (iqr * 1.5)\n",
    "    return np.where((ys > upper_bound) | (ys < lower_bound))[0]\n",
    "def outliers(data):\n",
    "    balance = data['balance_due'].dropna()\n",
    "    out = outliers_iqr(balance)\n",
    "    max_outlier = out.max()\n",
    "    min_outlier = out.min()\n",
    "    return abs(max_outlier - min_outlier)"
   ]
  },
  {
   "cell_type": "code",
   "execution_count": 1,
   "metadata": {},
   "outputs": [
    {
     "output_type": "stream",
     "name": "stdout",
     "text": [
      "test\n"
     ]
    }
   ],
   "source": [
    "print('test')"
   ]
  },
  {
   "cell_type": "code",
   "execution_count": null,
   "metadata": {},
   "outputs": [],
   "source": []
  }
 ]
}