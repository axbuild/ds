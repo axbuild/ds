{
 "metadata": {
  "language_info": {
   "codemirror_mode": {
    "name": "ipython",
    "version": 3
   },
   "file_extension": ".py",
   "mimetype": "text/x-python",
   "name": "python",
   "nbconvert_exporter": "python",
   "pygments_lexer": "ipython3",
   "version": "3.7.3-final"
  },
  "orig_nbformat": 2,
  "kernelspec": {
   "name": "python3",
   "display_name": "Python 3",
   "language": "python"
  }
 },
 "nbformat": 4,
 "nbformat_minor": 2,
 "cells": [
  {
   "source": [
    "# Линейный оператор\n",
    "\n",
    "Умножение матрицы на вектор можно представить как его одновременный поворот и растяжение.\n",
    "\n",
    "А если рассмотреть умножение матрицы на все векторы пространства, то получится преобразование всего этого пространства или так называемый линейный оператор.\n",
    "\n",
    "*** Как действует матрина на вектор ***\n",
    "\n",
    "\n"
   ],
   "cell_type": "markdown",
   "metadata": {}
  },
  {
   "cell_type": "code",
   "execution_count": 1,
   "metadata": {},
   "outputs": [
    {
     "output_type": "execute_result",
     "data": {
      "text/plain": [
       "matrix([[ 8],\n",
       "        [15]])"
      ]
     },
     "metadata": {},
     "execution_count": 1
    }
   ],
   "source": [
    "import numpy as np \n",
    "\n",
    "A = np.matrix(\"0,2;5,0\")\n",
    "x = np.matrix(\"3;4\")\n",
    "\n",
    "A*x\n"
   ]
  },
  {
   "cell_type": "code",
   "execution_count": 2,
   "metadata": {},
   "outputs": [
    {
     "output_type": "execute_result",
     "data": {
      "text/plain": [
       "matrix([[ 1],\n",
       "        [ 3],\n",
       "        [-2]])"
      ]
     },
     "metadata": {},
     "execution_count": 2
    }
   ],
   "source": [
    "F = np.matrix(\"1,0,0;0,0,1;0,-1,0\")\n",
    "v = np.matrix(\"1;2;3\")\n",
    "F*v"
   ]
  },
  {
   "cell_type": "code",
   "execution_count": 4,
   "metadata": {},
   "outputs": [
    {
     "output_type": "stream",
     "name": "stdout",
     "text": [
      "[[ 1]\n [-1]] [[3]\n [3]]\n"
     ]
    }
   ],
   "source": [
    "F = np.matrix(\"2,1;1,2\")\n",
    "u = np.matrix(\"1;-1\")\n",
    "v = np.matrix(\"1;1\")\n",
    "\n",
    "Fu = F*u \n",
    "Fv = F*v\n",
    "print(Fu,Fv)"
   ]
  },
  {
   "cell_type": "code",
   "execution_count": null,
   "metadata": {},
   "outputs": [],
   "source": []
  }
 ]
}