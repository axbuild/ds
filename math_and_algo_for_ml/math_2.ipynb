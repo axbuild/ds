{
 "metadata": {
  "language_info": {
   "codemirror_mode": {
    "name": "ipython",
    "version": 3
   },
   "file_extension": ".py",
   "mimetype": "text/x-python",
   "name": "python",
   "nbconvert_exporter": "python",
   "pygments_lexer": "ipython3",
   "version": "3.7.3-final"
  },
  "orig_nbformat": 2,
  "kernelspec": {
   "name": "python3",
   "display_name": "Python 3.7.3 64-bit ('dev': conda)",
   "metadata": {
    "interpreter": {
     "hash": "a6fb20785e68a82d7a1df266ceeea325dd5975b4df95e7fc1e3b620c572e83b5"
    }
   }
  }
 },
 "nbformat": 4,
 "nbformat_minor": 2,
 "cells": [
  {
   "source": [
    "# Неоднородные СЛАУ \n",
    "## по методу наименьших квадратов (Ordinary Least Squares, OLS)\n",
    "\n",
    "* алгоритм — решение неоднородных систем линейных алгебраических уравнений или СЛАУ;\n",
    "* контекст задачи прогнозирования.\n",
    "\n",
    "*** В решении СЛАУ возможно 3 случая: ***\n",
    "\n",
    "* «Идеальная пара»\n",
    "Это так называемые определённые системы, имеющие единственное решение.\n",
    "* «В активном поиске»\n",
    "Недоопределённые системы, в которых решений бесконечно много.\n",
    "* «Всё сложно»\n",
    "Это переопределённые системы, в которых решений нет вовсе\n",
    "\n",
    "<a href=\"http://mathprofi.ru/metod_gaussa_dlya_chainikov.html\">Link</a>\n",
    "<a href=\"http://www.machinelearning.ru/wiki/index.php?title=%D0%A0%D0%B5%D1%88%D0%B5%D0%BD%D0%B8%D0%B5_%D0%BF%D0%B5%D1%80%D0%B5%D0%BE%D0%BF%D1%80%D0%B5%D0%B4%D0%B5%D0%BB%D1%91%D0%BD%D0%BD%D0%BE%D0%B9_%D0%A1%D0%9B%D0%90%D0%A3\">Link</a>\n",
    "<a href=\"https://xn--80ahcjeib4ac4d.xn--p1ai/information/solving_systems_of_linear_equations_in_python/\">Link</a>\n",
    "<a href=\"https://stackabuse.com/solving-systems-of-linear-equations-with-pythons-numpy/\">Link</a>"
   ],
   "cell_type": "markdown",
   "metadata": {}
  },
  {
   "cell_type": "code",
   "execution_count": 7,
   "metadata": {},
   "outputs": [
    {
     "output_type": "execute_result",
     "data": {
      "text/plain": [
       "matrix([[ 0, -1],\n",
       "        [ 0,  0]])"
      ]
     },
     "metadata": {},
     "execution_count": 7
    }
   ],
   "source": [
    "import numpy as np \n",
    "\n",
    "A = np.matrix(\"1,1;1,2\")\n",
    "b = np.matrix(\"1,2\")\n",
    "\n",
    "A-b "
   ]
  },
  {
   "cell_type": "code",
   "execution_count": 82,
   "metadata": {},
   "outputs": [
    {
     "output_type": "execute_result",
     "data": {
      "text/plain": [
       "matrix([[11. ],\n",
       "        [-4.5]])"
      ]
     },
     "metadata": {},
     "execution_count": 82
    }
   ],
   "source": [
    "import numpy as np \n",
    "\n",
    "m = np.matrix(\"1,1;1,2;1,1\")\n",
    "res = np.matrix(\"1;2;12\")\n",
    "w = np.matrix(\"11;-4.5\")\n",
    "\n",
    "np.linalg.inv(m.T*m) * (m.T*m)*w\n"
   ]
  },
  {
   "cell_type": "code",
   "execution_count": 87,
   "metadata": {},
   "outputs": [
    {
     "output_type": "execute_result",
     "data": {
      "text/plain": [
       "matrix([[ 5],\n",
       "        [-1],\n",
       "        [ 0]])"
      ]
     },
     "metadata": {},
     "execution_count": 87
    }
   ],
   "source": [
    "#6.1\n",
    "import numpy as np \n",
    "\n",
    "A = np.matrix(\"1,-5;2,1;1,1\")\n",
    "b = np.matrix(\"1;2;2\")\n",
    "w = np.matrix(\"1;1\")\n",
    "\n",
    "b_p = A*w\n",
    "e = b - b_p\n",
    "e"
   ]
  },
  {
   "cell_type": "code",
   "execution_count": 89,
   "metadata": {},
   "outputs": [
    {
     "output_type": "execute_result",
     "data": {
      "text/plain": [
       "matrix([[-0.5],\n",
       "        [ 1.6]])"
      ]
     },
     "metadata": {},
     "execution_count": 89
    }
   ],
   "source": [
    "#2.6.3\n",
    "\n",
    "A = np.matrix(\"1,2;-3,1;1,2;1,-1\")\n",
    "b = np.matrix(\"1;4;5;0\")\n",
    "\n",
    "w = np.linalg.inv(A.T*A) * A.T*b"
   ]
  },
  {
   "cell_type": "code",
   "execution_count": 91,
   "metadata": {},
   "outputs": [
    {
     "output_type": "execute_result",
     "data": {
      "text/plain": [
       "matrix([[0.08333333, 0.        ],\n",
       "        [0.        , 0.1       ]])"
      ]
     },
     "metadata": {},
     "execution_count": 91
    }
   ],
   "source": [
    "A.T*A\n",
    "np.linalg.inv(A.T*A)"
   ]
  },
  {
   "cell_type": "code",
   "execution_count": 92,
   "metadata": {},
   "outputs": [
    {
     "output_type": "execute_result",
     "data": {
      "text/plain": [
       "matrix([[-6],\n",
       "        [16]])"
      ]
     },
     "metadata": {},
     "execution_count": 92
    }
   ],
   "source": [
    "A.T*b"
   ]
  },
  {
   "cell_type": "code",
   "execution_count": 2,
   "metadata": {},
   "outputs": [
    {
     "output_type": "execute_result",
     "data": {
      "text/plain": [
       "21.048000000000005"
      ]
     },
     "metadata": {},
     "execution_count": 2
    }
   ],
   "source": [
    "CRIM=0.2\n",
    "RM=6\n",
    "y = -29.3-0.26*CRIM+8.4*RM\n",
    "y"
   ]
  },
  {
   "cell_type": "code",
   "execution_count": 3,
   "metadata": {},
   "outputs": [
    {
     "output_type": "execute_result",
     "data": {
      "text/plain": [
       "9.5"
      ]
     },
     "metadata": {},
     "execution_count": 3
    }
   ],
   "source": [
    "(11+8)/2"
   ]
  },
  {
   "cell_type": "code",
   "execution_count": 28,
   "metadata": {},
   "outputs": [
    {
     "output_type": "stream",
     "name": "stdout",
     "text": [
      "9.5\n"
     ]
    },
    {
     "output_type": "execute_result",
     "data": {
      "text/plain": [
       "matrix([[ 1.5],\n",
       "        [-1.5]])"
      ]
     },
     "metadata": {},
     "execution_count": 28
    }
   ],
   "source": [
    "import numpy as np \n",
    "import math \n",
    "\n",
    "x1 = np.matrix(\"11;8\")\n",
    "x1_mean = np.mean(x1)\n",
    "\n",
    "print(x1_mean)\n",
    "\n",
    "x1_center = x1-np.matrix(\"9.5;9.5\")\n",
    "x1_center"
   ]
  },
  {
   "cell_type": "code",
   "execution_count": 21,
   "metadata": {},
   "outputs": [
    {
     "output_type": "execute_result",
     "data": {
      "text/plain": [
       "2.1213203435596424"
      ]
     },
     "metadata": {},
     "execution_count": 21
    }
   ],
   "source": [
    "x1_center_norm = math.sqrt(1.5**2+(-1.5)**2)\n",
    "x1_center_norm\n"
   ]
  },
  {
   "cell_type": "code",
   "execution_count": 20,
   "metadata": {},
   "outputs": [
    {
     "output_type": "execute_result",
     "data": {
      "text/plain": [
       "matrix([[ 0.70710678],\n",
       "        [-0.70710678]])"
      ]
     },
     "metadata": {},
     "execution_count": 20
    }
   ],
   "source": [
    "x1_st = 1/x1_center_norm*x1_center\n",
    "x1_st"
   ]
  },
  {
   "cell_type": "code",
   "execution_count": null,
   "metadata": {},
   "outputs": [],
   "source": []
  }
 ]
}