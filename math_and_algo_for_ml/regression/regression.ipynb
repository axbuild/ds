{
 "metadata": {
  "language_info": {
   "codemirror_mode": {
    "name": "ipython",
    "version": 3
   },
   "file_extension": ".py",
   "mimetype": "text/x-python",
   "name": "python",
   "nbconvert_exporter": "python",
   "pygments_lexer": "ipython3",
   "version": "3.7.3-final"
  },
  "orig_nbformat": 2,
  "kernelspec": {
   "name": "python3",
   "display_name": "Python 3.7.3 64-bit ('dev': conda)",
   "metadata": {
    "interpreter": {
     "hash": "a6fb20785e68a82d7a1df266ceeea325dd5975b4df95e7fc1e3b620c572e83b5"
    }
   }
  }
 },
 "nbformat": 4,
 "nbformat_minor": 2,
 "cells": [
  {
   "source": [
    "### Линейная регрессия"
   ],
   "cell_type": "markdown",
   "metadata": {}
  },
  {
   "cell_type": "code",
   "execution_count": 10,
   "metadata": {},
   "outputs": [],
   "source": [
    "import pandas as pd\n",
    "import numpy as np\n",
    "import matplotlib.pyplot as plt\n",
    "from sklearn.model_selection import train_test_split"
   ]
  },
  {
   "cell_type": "code",
   "execution_count": 11,
   "metadata": {},
   "outputs": [
    {
     "output_type": "execute_result",
     "data": {
      "text/plain": [
       "   Speed  Stopping_dist\n",
       "0      4              2\n",
       "1      4             10\n",
       "2      7              4\n",
       "3      7             22\n",
       "4      8             16"
      ],
      "text/html": "<div>\n<style scoped>\n    .dataframe tbody tr th:only-of-type {\n        vertical-align: middle;\n    }\n\n    .dataframe tbody tr th {\n        vertical-align: top;\n    }\n\n    .dataframe thead th {\n        text-align: right;\n    }\n</style>\n<table border=\"1\" class=\"dataframe\">\n  <thead>\n    <tr style=\"text-align: right;\">\n      <th></th>\n      <th>Speed</th>\n      <th>Stopping_dist</th>\n    </tr>\n  </thead>\n  <tbody>\n    <tr>\n      <th>0</th>\n      <td>4</td>\n      <td>2</td>\n    </tr>\n    <tr>\n      <th>1</th>\n      <td>4</td>\n      <td>10</td>\n    </tr>\n    <tr>\n      <th>2</th>\n      <td>7</td>\n      <td>4</td>\n    </tr>\n    <tr>\n      <th>3</th>\n      <td>7</td>\n      <td>22</td>\n    </tr>\n    <tr>\n      <th>4</th>\n      <td>8</td>\n      <td>16</td>\n    </tr>\n  </tbody>\n</table>\n</div>"
     },
     "metadata": {},
     "execution_count": 11
    }
   ],
   "source": [
    "myData = pd.read_csv('data\\mycar.csv')\n",
    "myData.head()"
   ]
  },
  {
   "cell_type": "code",
   "execution_count": 13,
   "metadata": {},
   "outputs": [],
   "source": [
    "X = myData.iloc[:,:-1].values\n",
    "Y = myData.iloc[:,1].values\n",
    "X_train, X_test, Y_train, Y_test = train_test_split(X, Y, test_size= 0.3)"
   ]
  },
  {
   "cell_type": "code",
   "execution_count": 17,
   "metadata": {},
   "outputs": [
    {
     "output_type": "execute_result",
     "data": {
      "text/plain": [
       "LinearRegression()"
      ]
     },
     "metadata": {},
     "execution_count": 17
    }
   ],
   "source": [
    "from sklearn.linear_model import LinearRegression\n",
    "myModel = LinearRegression() #Обозначаем, что наша модель - линейная регрессия\n",
    "myModel.fit(X_train,Y_train) #обучаем модель на обучающих данных"
   ]
  },
  {
   "cell_type": "code",
   "execution_count": 24,
   "metadata": {},
   "outputs": [
    {
     "output_type": "execute_result",
     "data": {
      "text/plain": [
       "array([54.75767468, 73.13453257, 73.13453257, 43.73155994, 40.05618836,\n",
       "       25.35470204, 40.05618836, 54.75767468, 10.65321572, 51.0823031 ,\n",
       "       65.78378942, 58.43304626, 69.45916099, 47.40693152, 36.38081678])"
      ]
     },
     "metadata": {},
     "execution_count": 24
    }
   ],
   "source": [
    "y_pred = myModel.predict(X_test)\n",
    "y_pred"
   ]
  },
  {
   "cell_type": "code",
   "execution_count": null,
   "metadata": {},
   "outputs": [],
   "source": []
  }
 ]
}