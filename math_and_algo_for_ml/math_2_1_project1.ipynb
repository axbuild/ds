{
 "metadata": {
  "language_info": {
   "codemirror_mode": {
    "name": "ipython",
    "version": 3
   },
   "file_extension": ".py",
   "mimetype": "text/x-python",
   "name": "python",
   "nbconvert_exporter": "python",
   "pygments_lexer": "ipython3",
   "version": "3.7.3-final"
  },
  "orig_nbformat": 2,
  "kernelspec": {
   "name": "python3",
   "display_name": "Python 3.7.3 64-bit ('dev': conda)",
   "metadata": {
    "interpreter": {
     "hash": "a6fb20785e68a82d7a1df266ceeea325dd5975b4df95e7fc1e3b620c572e83b5"
    }
   }
  }
 },
 "nbformat": 4,
 "nbformat_minor": 2,
 "cells": [
  {
   "source": [
    "<a href=\"https://ru.wikipedia.org/wiki/%D0%97%D0%B0%D0%B4%D0%B0%D1%87%D0%B0_%D0%BE_%D0%BF%D0%BE%D1%80%D1%8F%D0%B4%D0%BA%D0%B5_%D0%BF%D0%B5%D1%80%D0%B5%D0%BC%D0%BD%D0%BE%D0%B6%D0%B5%D0%BD%D0%B8%D1%8F_%D0%BC%D0%B0%D1%82%D1%80%D0%B8%D1%86\">Link</a>"
   ],
   "cell_type": "markdown",
   "metadata": {}
  },
  {
   "cell_type": "code",
   "execution_count": 27,
   "metadata": {},
   "outputs": [
    {
     "output_type": "execute_result",
     "data": {
      "text/plain": [
       "'(AxB)xC'"
      ]
     },
     "metadata": {},
     "execution_count": 27
    }
   ],
   "source": [
    "import numpy as np \n",
    "\n",
    "A = np.matrix(\"1,2\")\n",
    "B = np.matrix(\"2;1\")\n",
    "C = np.matrix(\"5\")\n",
    "\n",
    "def multiplication_order(A, B, C):\n",
    "    v1 = A.shape[0]*B.shape[0]*B.shape[1]+A.shape[0]*C.shape[0]*C.shape[1]\n",
    "    v2 = B.shape[0]*C.shape[0]*C.shape[1]+B.shape[0]*A.shape[0]*A.shape[1]\n",
    "    return \"Ax(BxC)\" if v1 > v2 else \"(AxB)xC\"\n",
    "\n",
    "multiplication_order(A,B,C)\n"
   ]
  },
  {
   "cell_type": "code",
   "execution_count": 64,
   "metadata": {},
   "outputs": [
    {
     "output_type": "execute_result",
     "data": {
      "text/plain": [
       "              Комнаты   Площадь      Этаж    Центр?  Спальный1?  Спальный 2?  \\\n",
       "Комнаты      1.000000  0.660935  0.248747  0.000000    0.221601    -0.221601   \n",
       "Площадь      0.660935  1.000000  0.098311  0.675943   -0.210376    -0.415425   \n",
       "Этаж         0.248747  0.098311  1.000000 -0.028868   -0.574612     0.601338   \n",
       "Центр?       0.000000  0.675943 -0.028868  1.000000   -0.462910    -0.462910   \n",
       "Спальный1?   0.221601 -0.210376 -0.574612 -0.462910    1.000000    -0.571429   \n",
       "Спальный 2? -0.221601 -0.415425  0.601338 -0.462910   -0.571429     1.000000   \n",
       "Цена         0.247668  0.866628  0.040698  0.937718   -0.412126    -0.456032   \n",
       "\n",
       "                 Цена  \n",
       "Комнаты      0.247668  \n",
       "Площадь      0.866628  \n",
       "Этаж         0.040698  \n",
       "Центр?       0.937718  \n",
       "Спальный1?  -0.412126  \n",
       "Спальный 2? -0.456032  \n",
       "Цена         1.000000  "
      ],
      "text/html": "<div>\n<style scoped>\n    .dataframe tbody tr th:only-of-type {\n        vertical-align: middle;\n    }\n\n    .dataframe tbody tr th {\n        vertical-align: top;\n    }\n\n    .dataframe thead th {\n        text-align: right;\n    }\n</style>\n<table border=\"1\" class=\"dataframe\">\n  <thead>\n    <tr style=\"text-align: right;\">\n      <th></th>\n      <th>Комнаты</th>\n      <th>Площадь</th>\n      <th>Этаж</th>\n      <th>Центр?</th>\n      <th>Спальный1?</th>\n      <th>Спальный 2?</th>\n      <th>Цена</th>\n    </tr>\n  </thead>\n  <tbody>\n    <tr>\n      <th>Комнаты</th>\n      <td>1.000000</td>\n      <td>0.660935</td>\n      <td>0.248747</td>\n      <td>0.000000</td>\n      <td>0.221601</td>\n      <td>-0.221601</td>\n      <td>0.247668</td>\n    </tr>\n    <tr>\n      <th>Площадь</th>\n      <td>0.660935</td>\n      <td>1.000000</td>\n      <td>0.098311</td>\n      <td>0.675943</td>\n      <td>-0.210376</td>\n      <td>-0.415425</td>\n      <td>0.866628</td>\n    </tr>\n    <tr>\n      <th>Этаж</th>\n      <td>0.248747</td>\n      <td>0.098311</td>\n      <td>1.000000</td>\n      <td>-0.028868</td>\n      <td>-0.574612</td>\n      <td>0.601338</td>\n      <td>0.040698</td>\n    </tr>\n    <tr>\n      <th>Центр?</th>\n      <td>0.000000</td>\n      <td>0.675943</td>\n      <td>-0.028868</td>\n      <td>1.000000</td>\n      <td>-0.462910</td>\n      <td>-0.462910</td>\n      <td>0.937718</td>\n    </tr>\n    <tr>\n      <th>Спальный1?</th>\n      <td>0.221601</td>\n      <td>-0.210376</td>\n      <td>-0.574612</td>\n      <td>-0.462910</td>\n      <td>1.000000</td>\n      <td>-0.571429</td>\n      <td>-0.412126</td>\n    </tr>\n    <tr>\n      <th>Спальный 2?</th>\n      <td>-0.221601</td>\n      <td>-0.415425</td>\n      <td>0.601338</td>\n      <td>-0.462910</td>\n      <td>-0.571429</td>\n      <td>1.000000</td>\n      <td>-0.456032</td>\n    </tr>\n    <tr>\n      <th>Цена</th>\n      <td>0.247668</td>\n      <td>0.866628</td>\n      <td>0.040698</td>\n      <td>0.937718</td>\n      <td>-0.412126</td>\n      <td>-0.456032</td>\n      <td>1.000000</td>\n    </tr>\n  </tbody>\n</table>\n</div>"
     },
     "metadata": {},
     "execution_count": 64
    }
   ],
   "source": [
    "import numpy as np\n",
    "import pandas as pd \n",
    "\n",
    "A = np.matrix(\"\\\n",
    "3,51,3,0,1,0,2200;\\\n",
    "1,30,1,0,1,0,1600;\\\n",
    "2,45,2,0,1,0,1900;\\\n",
    "3,55,1,0,1,0,2000;\\\n",
    "1,45,3,1,0,0,4500;\\\n",
    "3,100,3,1,0,0,7000;\\\n",
    "2,71,2,1,0,0,5000;\\\n",
    "1,31,2,0,0,1,1700;\\\n",
    "3,53,5,0,0,1,2100;\\\n",
    "1,33,3,0,0,1,1500;\\\n",
    "2,43,5,0,0,1,2000\")\n",
    "\n",
    "data = pd.DataFrame(data=A, columns=[\"Комнаты\",\"Площадь\",\"Этаж\",\"Центр?\",\"Спальный1?\",\"Спальный 2?\",\"Цена\"])\n",
    "\n",
    "def best_worst(X, Y):\n",
    "    # max_corr_idx \n",
    "    # min_corr_idx \n",
    "    Z = np.concatenate((X, Y),axis=1)\n",
    "    data = pd.DataFrame(data=Z, columns=[\"Комнаты\",\"Площадь\",\"Этаж\",\"Центр?\",\"Спальный1?\",\"Спальный 2?\",\"Цена\"])\n",
    "    return data.corr(method='pearson')\n",
    "\n",
    "Y = data['Цена'].to_numpy()\n",
    "Y = Y.reshape(-1,1)\n",
    "X = data.drop(['Цена'], axis=1).to_numpy()\n",
    "\n",
    "best_worst(X,Y)\n",
    "\n"
   ]
  },
  {
   "cell_type": "code",
   "execution_count": null,
   "metadata": {},
   "outputs": [],
   "source": []
  }
 ]
}