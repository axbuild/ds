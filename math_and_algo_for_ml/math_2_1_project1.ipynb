{
 "metadata": {
  "language_info": {
   "codemirror_mode": {
    "name": "ipython",
    "version": 3
   },
   "file_extension": ".py",
   "mimetype": "text/x-python",
   "name": "python",
   "nbconvert_exporter": "python",
   "pygments_lexer": "ipython3",
   "version": "3.7.3-final"
  },
  "orig_nbformat": 2,
  "kernelspec": {
   "name": "python3",
   "display_name": "Python 3.7.3 64-bit ('dev': conda)",
   "metadata": {
    "interpreter": {
     "hash": "a6fb20785e68a82d7a1df266ceeea325dd5975b4df95e7fc1e3b620c572e83b5"
    }
   }
  }
 },
 "nbformat": 4,
 "nbformat_minor": 2,
 "cells": [
  {
   "source": [
    "<a href=\"https://ru.wikipedia.org/wiki/%D0%97%D0%B0%D0%B4%D0%B0%D1%87%D0%B0_%D0%BE_%D0%BF%D0%BE%D1%80%D1%8F%D0%B4%D0%BA%D0%B5_%D0%BF%D0%B5%D1%80%D0%B5%D0%BC%D0%BD%D0%BE%D0%B6%D0%B5%D0%BD%D0%B8%D1%8F_%D0%BC%D0%B0%D1%82%D1%80%D0%B8%D1%86\">Link</a>"
   ],
   "cell_type": "markdown",
   "metadata": {}
  },
  {
   "cell_type": "code",
   "execution_count": 27,
   "metadata": {},
   "outputs": [
    {
     "output_type": "execute_result",
     "data": {
      "text/plain": [
       "'(AxB)xC'"
      ]
     },
     "metadata": {},
     "execution_count": 27
    }
   ],
   "source": [
    "import numpy as np \n",
    "\n",
    "A = np.matrix(\"1,2\")\n",
    "B = np.matrix(\"2;1\")\n",
    "C = np.matrix(\"5\")\n",
    "\n",
    "def multiplication_order(A, B, C):\n",
    "    v1 = A.shape[0]*B.shape[0]*B.shape[1]+A.shape[0]*C.shape[0]*C.shape[1]\n",
    "    v2 = B.shape[0]*C.shape[0]*C.shape[1]+B.shape[0]*A.shape[0]*A.shape[1]\n",
    "    return \"Ax(BxC)\" if v1 > v2 else \"(AxB)xC\"\n",
    "\n",
    "multiplication_order(A,B,C)\n"
   ]
  },
  {
   "cell_type": "code",
   "execution_count": 97,
   "metadata": {},
   "outputs": [
    {
     "output_type": "execute_result",
     "data": {
      "text/plain": [
       "(3, 2)"
      ]
     },
     "metadata": {},
     "execution_count": 97
    }
   ],
   "source": [
    "import numpy as np\n",
    "import pandas as pd \n",
    "\n",
    "\n",
    "A = np.matrix(\"\\\n",
    "3,51,3,0,1,0,2200;\\\n",
    "1,30,1,0,1,0,1600;\\\n",
    "2,45,2,0,1,0,1900;\\\n",
    "3,55,1,0,1,0,2000;\\\n",
    "1,45,3,1,0,0,4500;\\\n",
    "3,100,3,1,0,0,7000;\\\n",
    "2,71,2,1,0,0,5000;\\\n",
    "1,31,2,0,0,1,1700;\\\n",
    "3,53,5,0,0,1,2100;\\\n",
    "1,33,3,0,0,1,1500;\\\n",
    "2,43,5,0,0,1,2000\")\n",
    "\n",
    "data = pd.DataFrame(data=A, columns=[\"Комнаты\",\"Площадь\",\"Этаж\",\"Центр?\",\"Спальный1?\",\"Спальный 2?\",\"Цена\"])\n",
    "\n",
    "Y = data['Цена'].to_numpy()\n",
    "Y = Y.reshape(-1,1)\n",
    "X = data.drop(['Цена'], axis=1).to_numpy()\n",
    "\n",
    "def best_worst(X, Y):\n",
    "    # max_corr_idx \n",
    "    # min_corr_idx \n",
    "    Z = np.concatenate((X, Y),axis=1)\n",
    "    pd_data = pd.DataFrame(data=Z, columns=[\"Комнаты\",\"Площадь\",\"Этаж\",\"Центр?\",\"Спальный1?\",\"Спальный 2?\",\"Цена\"])\n",
    "    pd_result  = pd_data.corr(method='pearson').abs()\n",
    "    #print(pd_result)\n",
    "    #max_corr_idx = result['Цена'].idxmax()\n",
    "    #min_corr_idx = result['Цена'].idxmin()\n",
    "    np_result = pd_result.to_numpy()\n",
    "    np.fill_diagonal(np_result, np.nan)\n",
    "    return np.nanargmax(np_result[-1], axis=None), np.nanargmin(np_result[-1], axis=None)\n",
    "\n",
    "best_worst(X,Y)\n",
    "\n"
   ]
  },
  {
   "cell_type": "code",
   "execution_count": 110,
   "metadata": {},
   "outputs": [
    {
     "output_type": "execute_result",
     "data": {
      "text/plain": [
       "(3, 2)"
      ]
     },
     "metadata": {},
     "execution_count": 110
    }
   ],
   "source": [
    "import numpy as np\n",
    "import pandas as pd \n",
    "\n",
    "\n",
    "A = np.matrix(\"\\\n",
    "3,51,3,0,1,0,2200;\\\n",
    "1,30,1,0,1,0,1600;\\\n",
    "2,45,2,0,1,0,1900;\\\n",
    "3,55,1,0,1,0,2000;\\\n",
    "1,45,3,1,0,0,4500;\\\n",
    "3,100,3,1,0,0,7000;\\\n",
    "2,71,2,1,0,0,5000;\\\n",
    "1,31,2,0,0,1,1700;\\\n",
    "3,53,5,0,0,1,2100;\\\n",
    "1,33,3,0,0,1,1500;\\\n",
    "2,43,5,0,0,1,2000\")\n",
    "\n",
    "data = pd.DataFrame(data=A, columns=[\"Комнаты\",\"Площадь\",\"Этаж\",\"Центр?\",\"Спальный1?\",\"Спальный 2?\",\"Цена\"])\n",
    "\n",
    "Y = data['Цена'].to_numpy()\n",
    "Y = Y.reshape(-1,1)\n",
    "X = data.drop(['Цена'], axis=1).to_numpy()\n",
    "\n",
    "def best_worst(X, Y):\n",
    "    # max_corr_idx \n",
    "    # min_corr_idx \n",
    "    Z = np.concatenate((X, Y),axis=1)\n",
    "    pd_data = pd.DataFrame(data=Z, columns=[\"Комнаты\",\"Площадь\",\"Этаж\",\"Центр?\",\"Спальный1?\",\"Спальный 2?\",\"Цена\"])\n",
    "    pd_result  = pd_data.corr(method='pearson').abs()\n",
    "    #print(pd_result)\n",
    "    #max_corr_idx = result['Цена'].idxmax()\n",
    "    #min_corr_idx = result['Цена'].idxmin()\n",
    "    np_result = pd_result.to_numpy()\n",
    "    np.fill_diagonal(np_result, np.nan)\n",
    "    return np.nanargmax(np_result[-1], axis=None), np.nanargmin(np_result[-1], axis=None)\n",
    "\n",
    "best_worst(X,Y)"
   ]
  },
  {
   "cell_type": "code",
   "execution_count": 114,
   "metadata": {},
   "outputs": [
    {
     "output_type": "execute_result",
     "data": {
      "text/plain": [
       "5"
      ]
     },
     "metadata": {},
     "execution_count": 114
    }
   ],
   "source": [
    "from numpy.linalg import matrix_rank\n",
    "import numpy as np\n",
    "\n",
    "def corr_rank(X):\n",
    "    A_corr = np.corrcoef(X)\n",
    "    return matrix_rank(A_corr)\n",
    "\n",
    "\n",
    "corr_rank(X)\n"
   ]
  },
  {
   "cell_type": "code",
   "execution_count": 116,
   "metadata": {},
   "outputs": [],
   "source": [
    "import numpy as np\n",
    "\n",
    "def inverse_matrix(A):\n",
    "    try:\n",
    "        return np.linalg.inv(A)\n",
    "    except np.linalg.LinAlgError:\n",
    "        pass\n",
    "    else:\n",
    "     return None\n",
    "\n",
    "inverse_matrix(X)\n"
   ]
  },
  {
   "cell_type": "code",
   "execution_count": null,
   "metadata": {},
   "outputs": [],
   "source": [
    "#⎪F′(x)=2(x−x0)+λAF′(y)=2(y−y0)+λBAx+By+C=0"
   ]
  }
 ]
}